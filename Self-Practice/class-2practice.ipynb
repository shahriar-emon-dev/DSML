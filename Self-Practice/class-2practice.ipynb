{
 "cells": [
  {
   "cell_type": "markdown",
   "id": "a85edfce",
   "metadata": {},
   "source": [
    "Importing math module"
   ]
  },
  {
   "cell_type": "code",
   "execution_count": 4,
   "id": "e89c97ee",
   "metadata": {},
   "outputs": [],
   "source": [
    "import math\n"
   ]
  },
  {
   "cell_type": "code",
   "execution_count": 5,
   "id": "ff94a8ef",
   "metadata": {},
   "outputs": [
    {
     "data": {
      "text/plain": [
       "120"
      ]
     },
     "execution_count": 5,
     "metadata": {},
     "output_type": "execute_result"
    }
   ],
   "source": [
    "math.factorial(5)"
   ]
  },
  {
   "cell_type": "code",
   "execution_count": 7,
   "id": "e43bbca1",
   "metadata": {},
   "outputs": [
    {
     "data": {
      "text/plain": [
       "7"
      ]
     },
     "execution_count": 7,
     "metadata": {},
     "output_type": "execute_result"
    }
   ],
   "source": [
    "math.ceil(6.01)"
   ]
  },
  {
   "cell_type": "code",
   "execution_count": 6,
   "id": "f5611a3d",
   "metadata": {},
   "outputs": [
    {
     "data": {
      "text/plain": [
       "3"
      ]
     },
     "execution_count": 6,
     "metadata": {},
     "output_type": "execute_result"
    }
   ],
   "source": [
    "math.floor(3.1416)"
   ]
  },
  {
   "cell_type": "code",
   "execution_count": 8,
   "id": "c7130972",
   "metadata": {},
   "outputs": [
    {
     "data": {
      "text/plain": [
       "3.4641016151377544"
      ]
     },
     "execution_count": 8,
     "metadata": {},
     "output_type": "execute_result"
    }
   ],
   "source": [
    "math.sqrt(12)"
   ]
  },
  {
   "cell_type": "code",
   "execution_count": 9,
   "id": "9b11555c",
   "metadata": {},
   "outputs": [],
   "source": [
    "import random"
   ]
  },
  {
   "cell_type": "code",
   "execution_count": 10,
   "id": "4ed283b5",
   "metadata": {},
   "outputs": [
    {
     "name": "stdout",
     "output_type": "stream",
     "text": [
      "46\n"
     ]
    }
   ],
   "source": [
    "print(random.randint(1, 50))"
   ]
  },
  {
   "cell_type": "code",
   "execution_count": 11,
   "id": "b5ce402e",
   "metadata": {},
   "outputs": [],
   "source": [
    "import datetime"
   ]
  },
  {
   "cell_type": "code",
   "execution_count": 12,
   "id": "bf255637",
   "metadata": {},
   "outputs": [
    {
     "name": "stdout",
     "output_type": "stream",
     "text": [
      "2025-05-25 23:05:20.234275\n"
     ]
    }
   ],
   "source": [
    "print(datetime.datetime.now())"
   ]
  },
  {
   "cell_type": "code",
   "execution_count": 13,
   "id": "73d3f245",
   "metadata": {},
   "outputs": [
    {
     "name": "stdout",
     "output_type": "stream",
     "text": [
      "\n",
      "Please wait a moment while I gather a list of all available modules...\n",
      "\n",
      "test_sqlite3: testing with SQLite version 3.49.1\n",
      "IPython             _weakrefset         linecache           symtable\n",
      "__future__          _win32sysloader     locale              sys\n",
      "__hello__           _win32verstamp_pywin32ctypes logging             sysconfig\n",
      "__phello__          _winapi             lzma                tabnanny\n",
      "_abc                _winxptheme         mailbox             tarfile\n",
      "_aix_support        _wmi                marshal             tempfile\n",
      "_android_support    _zoneinfo           math                test\n",
      "_apple_support      abc                 matplotlib_inline   textwrap\n",
      "_ast                adodbapi            mimetypes           this\n",
      "_asyncio            afxres              mmap                threading\n",
      "_bisect             antigravity         mmapfile            time\n",
      "_blake2             argparse            mmsystem            timeit\n",
      "_bz2                array               modulefinder        timer\n",
      "_codecs             ast                 msvcrt              tkinter\n",
      "_codecs_cn          asttokens           multiprocessing     token\n",
      "_codecs_hk          asyncio             nest_asyncio        tokenize\n",
      "_codecs_iso2022     atexit              netbios             tomllib\n",
      "_codecs_jp          base64              netrc               tornado\n",
      "_codecs_kr          bdb                 nt                  trace\n",
      "_codecs_tw          binascii            ntpath              traceback\n",
      "_collections        bisect              ntsecuritycon       tracemalloc\n",
      "_collections_abc    builtins            nturl2path          traitlets\n",
      "_colorize           bz2                 numbers             tty\n",
      "_compat_pickle      cProfile            odbc                turtle\n",
      "_compression        calendar            opcode              turtledemo\n",
      "_contextvars        cmath               operator            types\n",
      "_csv                cmd                 optparse            typing\n",
      "_ctypes             code                os                  unicodedata\n",
      "_ctypes_test        codecs              packaging           unittest\n",
      "_datetime           codeop              parso               urllib\n",
      "_decimal            collections         pathlib             uuid\n",
      "_elementtree        colorama            pdb                 venv\n",
      "_functools          colorsys            perfmon             warnings\n",
      "_hashlib            comm                pickle              wave\n",
      "_heapq              commctrl            pickletools         wcwidth\n",
      "_imp                compileall          pip                 weakref\n",
      "_interpchannels     concurrent          pkgutil             webbrowser\n",
      "_interpqueues       configparser        platform            win2kras\n",
      "_interpreters       contextlib          platformdirs        win32api\n",
      "_io                 contextvars         plistlib            win32clipboard\n",
      "_ios_support        copy                poplib              win32com\n",
      "_json               copyreg             posixpath           win32con\n",
      "_locale             csv                 pprint              win32console\n",
      "_lsprof             ctypes              profile             win32cred\n",
      "_lzma               curses              prompt_toolkit      win32crypt\n",
      "_markupbase         dataclasses         pstats              win32cryptcon\n",
      "_md5                datetime            psutil              win32event\n",
      "_multibytecodec     dateutil            pty                 win32evtlog\n",
      "_multiprocessing    dbm                 pure_eval           win32evtlogutil\n",
      "_opcode             dde                 py_compile          win32file\n",
      "_opcode_metadata    debugpy             pyclbr              win32gui\n",
      "_operator           decimal             pydoc               win32gui_struct\n",
      "_osx_support        decorator           pydoc_data          win32help\n",
      "_overlapped         difflib             pyexpat             win32inet\n",
      "_pickle             dis                 pygments            win32inetcon\n",
      "_py_abc             doctest             pythoncom           win32job\n",
      "_pydatetime         email               pywin               win32lz\n",
      "_pydecimal          encodings           pywin32_bootstrap   win32net\n",
      "_pyio               ensurepip           pywin32_testutil    win32netcon\n",
      "_pylong             enum                pywintypes          win32pdh\n",
      "_pyrepl             errno               queue               win32pdhquery\n",
      "_queue              executing           quopri              win32pdhutil\n",
      "_random             faulthandler        random              win32pipe\n",
      "_sha1               filecmp             rasutil             win32print\n",
      "_sha2               fileinput           re                  win32process\n",
      "_sha3               fnmatch             regcheck            win32profile\n",
      "_signal             fractions           regutil             win32ras\n",
      "_sitebuiltins       ftplib              reprlib             win32rcparser\n",
      "_socket             functools           rlcompleter         win32security\n",
      "_sqlite3            gc                  runpy               win32service\n",
      "_sre                genericpath         sched               win32serviceutil\n",
      "_ssl                getopt              secrets             win32timezone\n",
      "_stat               getpass             select              win32trace\n",
      "_statistics         gettext             selectors           win32traceutil\n",
      "_string             glob                servicemanager      win32transaction\n",
      "_strptime           graphlib            shelve              win32ts\n",
      "_struct             gzip                shlex               win32ui\n",
      "_suggestions        hashlib             shutil              win32uiole\n",
      "_symtable           heapq               signal              win32verstamp\n",
      "_sysconfig          hmac                site                win32wnet\n",
      "_testbuffer         html                six                 winerror\n",
      "_testcapi           http                smtplib             winioctlcon\n",
      "_testclinic         idlelib             socket              winnt\n",
      "_testclinic_limited imaplib             socketserver        winperf\n",
      "_testconsole        importlib           sqlite3             winreg\n",
      "_testimportmultiple inspect             sre_compile         winsound\n",
      "_testinternalcapi   io                  sre_constants       winxpgui\n",
      "_testlimitedcapi    ipaddress           sre_parse           winxptheme\n",
      "_testmultiphase     ipykernel           ssl                 wsgiref\n",
      "_testsinglephase    ipykernel_launcher  sspi                xml\n",
      "_thread             ipython_pygments_lexers sspicon             xmlrpc\n",
      "_threading_local    isapi               stack_data          xxsubtype\n",
      "_tkinter            itertools           start_pythonwin     zipapp\n",
      "_tokenize           jedi                stat                zipfile\n",
      "_tracemalloc        json                statistics          zipimport\n",
      "_typing             jupyter             string              zlib\n",
      "_uuid               jupyter_client      stringprep          zmq\n",
      "_warnings           jupyter_core        struct              zoneinfo\n",
      "_weakref            keyword             subprocess          \n",
      "\n",
      "Enter any module name to get more help.  Or, type \"modules spam\" to search\n",
      "for modules whose name or summary contain the string \"spam\".\n",
      "\n"
     ]
    }
   ],
   "source": [
    "help('modules')"
   ]
  },
  {
   "cell_type": "markdown",
   "id": "cdcf617b",
   "metadata": {},
   "source": [
    "Loops in python"
   ]
  },
  {
   "cell_type": "code",
   "execution_count": 2,
   "id": "e5b24c6d",
   "metadata": {},
   "outputs": [
    {
     "name": "stdout",
     "output_type": "stream",
     "text": [
      "4\n",
      "8\n",
      "12\n",
      "16\n",
      "20\n",
      "24\n",
      "28\n",
      "32\n",
      "36\n",
      "40\n"
     ]
    }
   ],
   "source": [
    "#table\n",
    "\n",
    "num = int(input(\"Enter a num: \"))\n",
    "\n",
    "i = 1\n",
    "\n",
    "while i<11 :\n",
    "    print(num*i)\n",
    "    i = i+1"
   ]
  },
  {
   "cell_type": "code",
   "execution_count": 3,
   "id": "65c57d9c",
   "metadata": {},
   "outputs": [
    {
     "name": "stdout",
     "output_type": "stream",
     "text": [
      "4 * 1 = 4\n",
      "4 * 2 = 8\n",
      "4 * 3 = 12\n",
      "4 * 4 = 16\n",
      "4 * 5 = 20\n",
      "4 * 6 = 24\n",
      "4 * 7 = 28\n",
      "4 * 8 = 32\n",
      "4 * 9 = 36\n",
      "4 * 10 = 40\n"
     ]
    }
   ],
   "source": [
    "#table\n",
    "\n",
    "num = int(input(\"Enter a number: \"))\n",
    "i = 1\n",
    "\n",
    "while i < 11:\n",
    "    print(num, '*', i, \"=\", num * i)\n",
    "    i = i + 1"
   ]
  },
  {
   "cell_type": "code",
   "execution_count": 4,
   "id": "cc0bf694",
   "metadata": {},
   "outputs": [
    {
     "name": "stdout",
     "output_type": "stream",
     "text": [
      "1\n",
      "2\n",
      "Limit crossed\n"
     ]
    }
   ],
   "source": [
    "##while loop with else\n",
    "\n",
    "x = 1\n",
    "\n",
    "while x < 3:\n",
    "    print(x)\n",
    "    x = x + 1\n",
    "else:\n",
    "    print(\"Limit crossed\")"
   ]
  },
  {
   "cell_type": "markdown",
   "id": "2d95e3a4",
   "metadata": {},
   "source": [
    "Guessting Game "
   ]
  },
  {
   "cell_type": "code",
   "execution_count": 5,
   "id": "cdacf815",
   "metadata": {},
   "outputs": [
    {
     "name": "stdout",
     "output_type": "stream",
     "text": [
      "Wrong guess\n"
     ]
    }
   ],
   "source": [
    "#We will generate a random int b/w i - 10\n",
    "\n",
    "import random\n",
    "\n",
    "jackpot = random.randint(1, 10)\n",
    "\n",
    "guess = int(input(\"Guess the number\"))\n",
    "if guess < jackpot:\n",
    "    print(\"Wrong guess, Guess Higher!\")\n",
    "else:\n",
    "    print(\"Wrong guess\")"
   ]
  },
  {
   "cell_type": "code",
   "execution_count": 6,
   "id": "e8e6a308",
   "metadata": {},
   "outputs": [
    {
     "name": "stdout",
     "output_type": "stream",
     "text": [
      "Wrong guess, guess higher!\n",
      "Wrong guess\n",
      "Correct Guess!\n"
     ]
    }
   ],
   "source": [
    "import random\n",
    "\n",
    "\n",
    "jackpot = random.randint(1, 10)\n",
    "\n",
    "guess = int(input(\"Guess the number \"))\n",
    "\n",
    "while guess !=jackpot:\n",
    "    if guess < jackpot:\n",
    "        print(\"Wrong guess, guess higher!\")\n",
    "    else:\n",
    "        print(\"Wrong guess\")\n",
    "    guess = int(input(\"Guess The number\"))\n",
    "else:\n",
    "    print(\"Correct Guess!\")"
   ]
  },
  {
   "cell_type": "code",
   "execution_count": 7,
   "id": "dd4595fe",
   "metadata": {},
   "outputs": [
    {
     "name": "stdout",
     "output_type": "stream",
     "text": [
      "Wrong guess, guess higher\n",
      "Correct Guess, You win !!\n",
      "Guessed in 2 Attempts\n"
     ]
    }
   ],
   "source": [
    "##let's see how many number of attempts we took?\n",
    "\n",
    "import random\n",
    "\n",
    "jackpot = random.randint(1, 10)\n",
    "\n",
    "guess = int(input(\"Enter the number\"))\n",
    "counter = 1\n",
    "\n",
    "while guess !=jackpot:\n",
    "    if guess < jackpot:\n",
    "        print(\"Wrong guess, guess higher\")\n",
    "    else:\n",
    "        print(\"Wrong guess\")\n",
    "    guess = int(input(\"Guess the number\"))\n",
    "    counter = counter + 1\n",
    "    \n",
    "    \n",
    "else: \n",
    "    print(\"Correct Guess, You win !!\")\n",
    "    print(\"Guessed in\", counter, \"Attempts\")"
   ]
  },
  {
   "cell_type": "markdown",
   "id": "42d534c6",
   "metadata": {},
   "source": [
    "For loops"
   ]
  },
  {
   "cell_type": "code",
   "execution_count": 1,
   "id": "9243531b",
   "metadata": {},
   "outputs": [
    {
     "name": "stdout",
     "output_type": "stream",
     "text": [
      "sqr of 1 is 1\n",
      "sqr of 2 is 4\n",
      "sqr of 3 is 9\n",
      "sqr of 4 is 16\n",
      "sqr of 5 is 25\n"
     ]
    }
   ],
   "source": [
    "# range()\n",
    "\n",
    "for i in range(1, 6):\n",
    "    print(f\"sqr of {i} is {i**2}\")"
   ]
  },
  {
   "cell_type": "code",
   "execution_count": 2,
   "id": "afeffb17",
   "metadata": {},
   "outputs": [
    {
     "name": "stdout",
     "output_type": "stream",
     "text": [
      "2\n",
      "4\n",
      "6\n",
      "8\n",
      "10\n"
     ]
    }
   ],
   "source": [
    "#printing even number within a range\n",
    "\n",
    "for number in range(1 , 11):\n",
    "    if number %2 == 0:\n",
    "        print(number)\n"
   ]
  },
  {
   "cell_type": "markdown",
   "id": "d78add6f",
   "metadata": {},
   "source": [
    "##**Nested Loops**\n"
   ]
  },
  {
   "cell_type": "code",
   "execution_count": 4,
   "id": "a8c64d22",
   "metadata": {},
   "outputs": [
    {
     "name": "stdout",
     "output_type": "stream",
     "text": [
      "1 1\n",
      "1 2\n",
      "1 3\n",
      "1 4\n",
      "2 1\n",
      "2 2\n",
      "2 3\n",
      "2 4\n",
      "3 1\n",
      "3 2\n",
      "3 3\n",
      "3 4\n",
      "4 1\n",
      "4 2\n",
      "4 3\n",
      "4 4\n"
     ]
    }
   ],
   "source": [
    "for i in range(1, 5):\n",
    "    for j in range (1, 5):\n",
    "        print(i, j)"
   ]
  },
  {
   "cell_type": "markdown",
   "id": "b3526de6",
   "metadata": {},
   "source": [
    "## Lets understand the prblm first , \n",
    "# We need to print pattern but what is the pattern here? \n",
    "# if you look carefully you will see Row=star number , so etai mathay rakte hobe\n",
    "\n"
   ]
  },
  {
   "cell_type": "code",
   "execution_count": 5,
   "id": "2b3d32fd",
   "metadata": {},
   "outputs": [
    {
     "name": "stdout",
     "output_type": "stream",
     "text": [
      "*\n",
      "**\n",
      "***\n",
      "****\n",
      "*****\n"
     ]
    }
   ],
   "source": [
    "rows = int(input(\"enter a number of rows: \"))\n",
    "\n",
    "for i in range(1, rows + 1):\n",
    "    for j in range(1, i + 1):\n",
    "        print(\"*\", end = \"\")\n",
    "    print()"
   ]
  },
  {
   "cell_type": "code",
   "execution_count": 6,
   "id": "c3c47294",
   "metadata": {},
   "outputs": [
    {
     "name": "stdout",
     "output_type": "stream",
     "text": [
      "1\n",
      "2\n",
      "3\n",
      "4\n",
      "5\n",
      "6\n",
      "7\n",
      "8\n",
      "9\n",
      "10\n"
     ]
    }
   ],
   "source": [
    "# control statement\n",
    "\n",
    "for i in range(1, 11):\n",
    "    print(i)"
   ]
  },
  {
   "cell_type": "code",
   "execution_count": 7,
   "id": "dc03893b",
   "metadata": {},
   "outputs": [
    {
     "name": "stdout",
     "output_type": "stream",
     "text": [
      "1\n",
      "2\n",
      "3\n"
     ]
    }
   ],
   "source": [
    "for i in range(1, 11):\n",
    "    if i == 4:\n",
    "        break\n",
    "    print(i)"
   ]
  },
  {
   "cell_type": "code",
   "execution_count": 8,
   "id": "771b559c",
   "metadata": {},
   "outputs": [
    {
     "name": "stdout",
     "output_type": "stream",
     "text": [
      "1\n",
      "2\n",
      "3\n",
      "4\n",
      "6\n",
      "7\n",
      "8\n",
      "9\n",
      "10\n"
     ]
    }
   ],
   "source": [
    "#continue\n",
    "\n",
    "for i in range (1, 11):\n",
    "    if i == 5:\n",
    "        continue\n",
    "    print(i)"
   ]
  },
  {
   "cell_type": "code",
   "execution_count": 9,
   "id": "c5ead919",
   "metadata": {},
   "outputs": [],
   "source": [
    "#pass---> used when we make a loop to use later\n",
    "\n",
    "for i in range(i, 10):\n",
    "    pass"
   ]
  },
  {
   "cell_type": "code",
   "execution_count": 11,
   "id": "3bcfb32d",
   "metadata": {},
   "outputs": [
    {
     "data": {
      "text/plain": [
       "'Hello'"
      ]
     },
     "execution_count": 11,
     "metadata": {},
     "output_type": "execute_result"
    }
   ],
   "source": [
    "#string\n",
    "\n",
    "s = \"Hello\"\n",
    "s"
   ]
  },
  {
   "cell_type": "code",
   "execution_count": 12,
   "id": "3146f52d",
   "metadata": {},
   "outputs": [
    {
     "data": {
      "text/plain": [
       "'World'"
      ]
     },
     "execution_count": 12,
     "metadata": {},
     "output_type": "execute_result"
    }
   ],
   "source": [
    "s = \"World\"\n",
    "s"
   ]
  },
  {
   "cell_type": "code",
   "execution_count": 13,
   "id": "523b9a74",
   "metadata": {},
   "outputs": [
    {
     "data": {
      "text/plain": [
       "\"It's Raining Outside\""
      ]
     },
     "execution_count": 13,
     "metadata": {},
     "output_type": "execute_result"
    }
   ],
   "source": [
    "## Now lets understand when to use which ?\n",
    "##there are certain scenarios when we might need to use both\n",
    "\n",
    "\"It's Raining Outside\""
   ]
  },
  {
   "cell_type": "code",
   "execution_count": 14,
   "id": "e491816f",
   "metadata": {},
   "outputs": [],
   "source": [
    "s = \"\"\"Hello\"\"\"\n",
    "y = '''hello'''"
   ]
  },
  {
   "cell_type": "code",
   "execution_count": 15,
   "id": "e43ce516",
   "metadata": {},
   "outputs": [
    {
     "data": {
      "text/plain": [
       "True"
      ]
     },
     "execution_count": 15,
     "metadata": {},
     "output_type": "execute_result"
    }
   ],
   "source": [
    "## Accessing substring from a string \n",
    "\n",
    "\n",
    "\"D\" in \"Dhaka\"\n",
    "\n",
    "#let's say I want to extract a particular char from a string\n",
    "\n"
   ]
  },
  {
   "cell_type": "code",
   "execution_count": 17,
   "id": "7d7bef80",
   "metadata": {},
   "outputs": [
    {
     "name": "stdout",
     "output_type": "stream",
     "text": [
      "H\n"
     ]
    }
   ],
   "source": [
    "#indexing\n",
    "x = \"Hello World\"\n",
    "print(x[0])"
   ]
  },
  {
   "cell_type": "code",
   "execution_count": 19,
   "id": "5b2454e4",
   "metadata": {},
   "outputs": [
    {
     "name": "stdout",
     "output_type": "stream",
     "text": [
      "H\n",
      "d\n",
      "l\n",
      "r\n",
      "o\n"
     ]
    }
   ],
   "source": [
    "# positive indexing \n",
    "# 0, 1, 2, 3 \n",
    "#negatinve indexing\n",
    "#-1, -2, -3\n",
    "\n",
    "\n",
    "x = \"Hello world\"\n",
    "# print(x[0])\n",
    "# print(x[1])\n",
    "# print(x[2])\n",
    "# print(x[3])\n",
    "# print(x[4])\n",
    "# print(x[5])\n",
    "# print(x[6])\n",
    "# print(x[7])\n",
    "# print(x[8])\n",
    "# print(x[9])\n",
    "# print(x[10])\n",
    "\n",
    "\n",
    "print(x[0])\n",
    "print(x[-1])\n",
    "print(x[-2])\n",
    "print(x[-3])\n",
    "print(x[-4])"
   ]
  },
  {
   "cell_type": "code",
   "execution_count": 20,
   "id": "c4b3d47c",
   "metadata": {},
   "outputs": [
    {
     "name": "stdout",
     "output_type": "stream",
     "text": [
      "Hell\n"
     ]
    }
   ],
   "source": [
    "#slicing\n",
    "\n",
    "x = \"Hello World\"\n",
    "print(x[0:4])"
   ]
  },
  {
   "cell_type": "code",
   "execution_count": 21,
   "id": "db28a1a4",
   "metadata": {},
   "outputs": [
    {
     "name": "stdout",
     "output_type": "stream",
     "text": [
      "olleH\n"
     ]
    }
   ],
   "source": [
    "#reverse string\n",
    "\n",
    "s = \"Hello\"\n",
    "print(s[::-1])"
   ]
  },
  {
   "cell_type": "code",
   "execution_count": 22,
   "id": "18d77a0e",
   "metadata": {},
   "outputs": [
    {
     "name": "stdout",
     "output_type": "stream",
     "text": [
      "nomE \n"
     ]
    }
   ],
   "source": [
    "#Must give step size\n",
    "#during reverse string the start value must be bigger\n",
    "x = \"Shahriar Emon\"\n",
    "print(x[-1:-6:-1])"
   ]
  },
  {
   "cell_type": "code",
   "execution_count": 23,
   "id": "f9ab4db4",
   "metadata": {},
   "outputs": [
    {
     "name": "stdout",
     "output_type": "stream",
     "text": [
      "Data Science\n"
     ]
    }
   ],
   "source": [
    "#string operation \n",
    "\n",
    "print(\"Data\"+\" \"+\"Science\")"
   ]
  },
  {
   "cell_type": "code",
   "execution_count": 24,
   "id": "9be2dc52",
   "metadata": {},
   "outputs": [
    {
     "name": "stdout",
     "output_type": "stream",
     "text": [
      "DataDataDataDataData\n"
     ]
    }
   ],
   "source": [
    "#multiplication\n",
    "\n",
    "print(\"Data\"*5)"
   ]
  },
  {
   "cell_type": "code",
   "execution_count": 27,
   "id": "708af11d",
   "metadata": {},
   "outputs": [
    {
     "data": {
      "text/plain": [
       "True"
      ]
     },
     "execution_count": 27,
     "metadata": {},
     "output_type": "execute_result"
    }
   ],
   "source": [
    "#relational op\n",
    "\n",
    "\"Dhaka\" ==\"Dhaka\"\n",
    "\"Dhaka\" == \"dhaka\"\n",
    "\"Dhaka\" != \"dhaka\""
   ]
  },
  {
   "cell_type": "code",
   "execution_count": 28,
   "id": "3f2d546e",
   "metadata": {},
   "outputs": [
    {
     "data": {
      "text/plain": [
       "False"
      ]
     },
     "execution_count": 28,
     "metadata": {},
     "output_type": "execute_result"
    }
   ],
   "source": [
    "\"Rajshahi\">\"ctg\""
   ]
  },
  {
   "cell_type": "code",
   "execution_count": 30,
   "id": "31386b10",
   "metadata": {},
   "outputs": [
    {
     "name": "stdout",
     "output_type": "stream",
     "text": [
      "H\n",
      "e\n",
      "l\n",
      "l\n",
      "o\n"
     ]
    }
   ],
   "source": [
    "#loops in table\n",
    "for i in \"Hello\":\n",
    "    print (i)\n"
   ]
  },
  {
   "cell_type": "code",
   "execution_count": 31,
   "id": "3092221b",
   "metadata": {},
   "outputs": [
    {
     "name": "stdout",
     "output_type": "stream",
     "text": [
      "y\n",
      "t\n",
      "h\n",
      "o\n",
      "n\n"
     ]
    }
   ],
   "source": [
    "#while loop\n",
    "\n",
    "text = \"python\"\n",
    "i = 1\n",
    "\n",
    "while i <len(text):\n",
    "    print(text[i])\n",
    "    i +=1"
   ]
  },
  {
   "cell_type": "code",
   "execution_count": null,
   "id": "96701339",
   "metadata": {},
   "outputs": [
    {
     "data": {
      "text/plain": [
       "'r'"
      ]
     },
     "execution_count": 34,
     "metadata": {},
     "output_type": "execute_result"
    }
   ],
   "source": [
    "## around 15 func \n",
    "#common -> all data types er upor kaj kore\n",
    "# only works on string\n",
    "\n",
    "len(\"Shahriar Emon\")\n",
    "max(\"Shahriar Emon\")\n",
    "min(\"Shahriar Emon\")\n",
    "sorted(\"Shahriar Emon\")"
   ]
  },
  {
   "cell_type": "code",
   "execution_count": 35,
   "id": "c7d9dab7",
   "metadata": {},
   "outputs": [
    {
     "data": {
      "text/plain": [
       "'Shahriar emon'"
      ]
     },
     "execution_count": 35,
     "metadata": {},
     "output_type": "execute_result"
    }
   ],
   "source": [
    "str = \"Shahriar Emon\"\n",
    "str.capitalize()"
   ]
  },
  {
   "cell_type": "code",
   "execution_count": 36,
   "id": "626a8b9b",
   "metadata": {},
   "outputs": [
    {
     "data": {
      "text/plain": [
       "'Shahriar Emon'"
      ]
     },
     "execution_count": 36,
     "metadata": {},
     "output_type": "execute_result"
    }
   ],
   "source": [
    "str = \"Shahriar Emon\"\n",
    "str.title()"
   ]
  },
  {
   "cell_type": "code",
   "execution_count": 38,
   "id": "f9fd33a0",
   "metadata": {},
   "outputs": [
    {
     "data": {
      "text/plain": [
       "'shahriar emon'"
      ]
     },
     "execution_count": 38,
     "metadata": {},
     "output_type": "execute_result"
    }
   ],
   "source": [
    "str = 'shahrir emon'\n",
    "str.upper()\n",
    "\n",
    "x = \"Shahriar emon\"\n",
    "x.lower()"
   ]
  },
  {
   "cell_type": "code",
   "execution_count": 39,
   "id": "6a7a021a",
   "metadata": {},
   "outputs": [
    {
     "data": {
      "text/plain": [
       "'hELLO sHAHRIAR '"
      ]
     },
     "execution_count": 39,
     "metadata": {},
     "output_type": "execute_result"
    }
   ],
   "source": [
    "\"Hello Shahriar \".swapcase()"
   ]
  },
  {
   "cell_type": "code",
   "execution_count": 42,
   "id": "1dd6cd66",
   "metadata": {},
   "outputs": [
    {
     "data": {
      "text/plain": [
       "11"
      ]
     },
     "execution_count": 42,
     "metadata": {},
     "output_type": "execute_result"
    }
   ],
   "source": [
    "\"Hello I am Shahriar Emon, am 23 years old and I am a Passionate learner\".count(\"a\")\n"
   ]
  },
  {
   "cell_type": "code",
   "execution_count": 44,
   "id": "a41a4b71",
   "metadata": {},
   "outputs": [
    {
     "data": {
      "text/plain": [
       "29"
      ]
     },
     "execution_count": 44,
     "metadata": {},
     "output_type": "execute_result"
    }
   ],
   "source": [
    "#index and find are kind of similar \n",
    "\n",
    "\"Hello I am Shahriar Emon, am 23 years old and I am a Passionate learner\".index(\"23\")"
   ]
  },
  {
   "cell_type": "code",
   "execution_count": 47,
   "id": "dd272d3e",
   "metadata": {},
   "outputs": [
    {
     "name": "stdout",
     "output_type": "stream",
     "text": [
      "Hi my name is Shahriar Emon and i am 23 years old and I am single\n"
     ]
    }
   ],
   "source": [
    "name = \"Shahriar Emon\"\n",
    "age = 23\n",
    "Relationship_status = \"single\"\n",
    "\n",
    "print(f\"Hi my name is {name} and i am {age} years old and I am {Relationship_status}\")"
   ]
  }
 ],
 "metadata": {
  "kernelspec": {
   "display_name": "Python 3",
   "language": "python",
   "name": "python3"
  },
  "language_info": {
   "codemirror_mode": {
    "name": "ipython",
    "version": 3
   },
   "file_extension": ".py",
   "mimetype": "text/x-python",
   "name": "python",
   "nbconvert_exporter": "python",
   "pygments_lexer": "ipython3",
   "version": "3.13.3"
  }
 },
 "nbformat": 4,
 "nbformat_minor": 5
}
