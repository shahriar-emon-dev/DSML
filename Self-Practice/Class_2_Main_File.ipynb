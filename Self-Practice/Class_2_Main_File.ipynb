{
 "cells": [
  {
   "cell_type": "markdown",
   "metadata": {},
   "source": [
    "## **1. Importing Modules in Python**\n",
    "\n",
    "Modules can be imported using the **import keyword.**"
   ]
  },
  {
   "cell_type": "markdown",
   "metadata": {},
   "source": [
    "- math \n",
    "- random\n",
    "- datetime"
   ]
  },
  {
   "cell_type": "markdown",
   "metadata": {},
   "source": [
    "The idea is code reusability,Save time"
   ]
  },
  {
   "cell_type": "code",
   "execution_count": 24,
   "metadata": {},
   "outputs": [],
   "source": [
    "# math\n",
    "import math"
   ]
  },
  {
   "cell_type": "code",
   "execution_count": 11,
   "metadata": {},
   "outputs": [
    {
     "data": {
      "text/plain": [
       "120"
      ]
     },
     "execution_count": 11,
     "metadata": {},
     "output_type": "execute_result"
    }
   ],
   "source": [
    "math.factorial(5)"
   ]
  },
  {
   "cell_type": "code",
   "execution_count": 12,
   "metadata": {},
   "outputs": [
    {
     "data": {
      "text/plain": [
       "6"
      ]
     },
     "execution_count": 12,
     "metadata": {},
     "output_type": "execute_result"
    }
   ],
   "source": [
    "#floor\n",
    "\n",
    "math.floor(6.8)"
   ]
  },
  {
   "cell_type": "code",
   "execution_count": 14,
   "metadata": {},
   "outputs": [
    {
     "data": {
      "text/plain": [
       "7"
      ]
     },
     "execution_count": 14,
     "metadata": {},
     "output_type": "execute_result"
    }
   ],
   "source": [
    "#ceil\n",
    "\n",
    "math.ceil(6.01)"
   ]
  },
  {
   "cell_type": "code",
   "execution_count": 15,
   "metadata": {},
   "outputs": [
    {
     "data": {
      "text/plain": [
       "12.0"
      ]
     },
     "execution_count": 15,
     "metadata": {},
     "output_type": "execute_result"
    }
   ],
   "source": [
    "#sqrt\n",
    "\n",
    "math.sqrt(144)"
   ]
  },
  {
   "cell_type": "code",
   "execution_count": 3,
   "metadata": {},
   "outputs": [
    {
     "data": {
      "text/plain": [
       "3.4641016151377544"
      ]
     },
     "execution_count": 3,
     "metadata": {},
     "output_type": "execute_result"
    }
   ],
   "source": [
    "import math\n",
    "math.sqrt(12)"
   ]
  },
  {
   "cell_type": "code",
   "execution_count": 19,
   "metadata": {},
   "outputs": [
    {
     "name": "stdout",
     "output_type": "stream",
     "text": [
      "92\n"
     ]
    }
   ],
   "source": [
    "#random \n",
    "# we use random module to generate random numberss\n",
    "\n",
    "import random\n",
    "\n",
    "print(random.randint(1,100))\n"
   ]
  },
  {
   "cell_type": "code",
   "execution_count": 4,
   "metadata": {},
   "outputs": [
    {
     "name": "stdout",
     "output_type": "stream",
     "text": [
      "217\n"
     ]
    }
   ],
   "source": [
    "import random\n",
    "print(random.randint(1, 500))"
   ]
  },
  {
   "cell_type": "code",
   "execution_count": 22,
   "metadata": {},
   "outputs": [
    {
     "name": "stdout",
     "output_type": "stream",
     "text": [
      "2025-05-13 21:56:37.027549\n"
     ]
    }
   ],
   "source": [
    "##datetime\n",
    "import datetime\n",
    "\n",
    "print(datetime.datetime.now())"
   ]
  },
  {
   "cell_type": "code",
   "execution_count": 5,
   "metadata": {},
   "outputs": [
    {
     "name": "stdout",
     "output_type": "stream",
     "text": [
      "2025-05-24 15:02:38.772337\n"
     ]
    }
   ],
   "source": [
    "import datetime\n",
    "print(datetime.datetime.now())"
   ]
  },
  {
   "cell_type": "code",
   "execution_count": 23,
   "metadata": {},
   "outputs": [
    {
     "name": "stdout",
     "output_type": "stream",
     "text": [
      "\n",
      "Please wait a moment while I gather a list of all available modules...\n",
      "\n"
     ]
    },
    {
     "name": "stderr",
     "output_type": "stream",
     "text": [
      "c:\\Users\\SPPL IT\\anaconda3\\Lib\\site-packages\\paramiko\\transport.py:219: CryptographyDeprecationWarning: Blowfish has been deprecated and will be removed in a future release\n",
      "  \"class\": algorithms.Blowfish,\n",
      "c:\\Users\\SPPL IT\\anaconda3\\Lib\\site-packages\\nltk\\twitter\\__init__.py:20: UserWarning: The twython library has not been installed. Some functionality from the twitter package will not be available.\n",
      "  warnings.warn(\n",
      "c:\\Users\\SPPL IT\\anaconda3\\Lib\\pkgutil.py:92: UserWarning: The numpy.array_api submodule is still experimental. See NEP 47.\n",
      "  __import__(info.name)\n",
      "c:\\Users\\SPPL IT\\anaconda3\\Lib\\site-packages\\_distutils_hack\\__init__.py:33: UserWarning: Setuptools is replacing distutils.\n",
      "  warnings.warn(\"Setuptools is replacing distutils.\")\n",
      "No QCoreApplication instance found. Application patches not applied. You have to call load_stylesheet function after instantiation of QApplication to take effect. \n"
     ]
    },
    {
     "name": "stdout",
     "output_type": "stream",
     "text": [
      "6c7190bc8b55ffe67f57__mypyc compileall          mdurl               smtplib\n",
      "IPython             concurrent          menuinst            snappy\n",
      "OpenSSL             conda               mimetypes           sndhdr\n",
      "PIL                 conda_build         mistune             sniffio\n",
      "PyQt5               conda_content_trust mkl                 snowballstemmer\n",
      "__future__          conda_env           mkl_fft             socket\n",
      "__hello__           conda_index         mmap                socketserver\n",
      "__phello__          conda_libmamba_solver mmapfile            socks\n",
      "_abc                conda_pack          mmsystem            sockshandler\n",
      "_aix_support        conda_package_handling modulefinder        sortedcontainers\n",
      "_argon2_cffi_bindings conda_package_streaming more_itertools      soupsieve\n",
      "_ast                conda_token         mpmath              sphinx\n",
      "_asyncio            conda_verify        msgpack             spyder\n",
      "_bisect             configparser        msilib              spyder_kernels\n",
      "_black_version      constantly          msvcrt              sqlalchemy\n",
      "_blake2             contextlib          multidict           sqlite3\n",
      "_bootsubprocess     contextvars         multipledispatch    sre_compile\n",
      "_brotli             contourpy           multiprocessing     sre_constants\n",
      "_bz2                cookiecutter        munkres             sre_parse\n",
      "_cffi_backend       copy                mypy                ssl\n",
      "_codecs             copyreg             mypy_extensions     sspi\n",
      "_codecs_cn          cpuinfo             mypyc               sspicon\n",
      "_codecs_hk          crypt               nacl                stack_data\n",
      "_codecs_iso2022     cryptography        navigator_updater   stat\n",
      "_codecs_jp          cssselect           nbclient            statistics\n",
      "_codecs_kr          csv                 nbconvert           statsmodels\n",
      "_codecs_tw          ctypes              nbformat            streamlit\n",
      "_collections        curl                nest_asyncio        string\n",
      "_collections_abc    curses              netbios             stringprep\n",
      "_compat_pickle      cwp                 netrc               struct\n",
      "_compression        cycler              networkx            subprocess\n",
      "_contextvars        cytoolz             nltk                sunau\n",
      "_csv                dask                nntplib             sympy\n",
      "_ctypes             dataclasses         notebook            symtable\n",
      "_ctypes_test        datashader          notebook_shim       sys\n",
      "_datetime           datetime            nt                  sysconfig\n",
      "_decimal            dateutil            ntpath              tables\n",
      "_distutils_hack     dbi                 ntsecuritycon       tabnanny\n",
      "_elementtree        dbm                 nturl2path          tabulate\n",
      "_functools          dde                 numba               tarfile\n",
      "_hashlib            debugpy             numbergen           tblib\n",
      "_heapq              decimal             numbers             telnetlib\n",
      "_imp                decorator           numexpr             tempfile\n",
      "_io                 defusedxml          numpy               tenacity\n",
      "_json               diff_match_patch    numpydoc            terminado\n",
      "_locale             difflib             odbc                test\n",
      "_lsprof             dill                opcode              test_pycosat\n",
      "_lzma               dis                 openpyxl            text_unidecode\n",
      "_markupbase         distributed         operator            textdistance\n",
      "_md5                distro              optparse            textwrap\n",
      "_msi                distutils           os                  this\n",
      "_multibytecodec     docstring_to_markdown overrides           threading\n",
      "_multiprocessing    doctest             packaging           threadpoolctl\n",
      "_nsis               docutils            pandas              three_merge\n",
      "_opcode             dotenv              pandocfilters       tifffile\n",
      "_operator           email               panel               time\n",
      "_osx_support        encodings           param               timeit\n",
      "_overlapped         ensurepip           paramiko            timer\n",
      "_pickle             entrypoints         parsel              tinycss2\n",
      "_plotly_future_     enum                parso               tkinter\n",
      "_plotly_utils       erfa                partd               tldextract\n",
      "_py_abc             errno               past                tlz\n",
      "_pydecimal          et_xmlfile          pathlib             token\n",
      "_pyio               executing           pathspec            tokenize\n",
      "_pytest             fastjsonschema      patsy               toml\n",
      "_queue              faulthandler        pdb                 tomlkit\n",
      "_random             filecmp             perfmon             tomllib\n",
      "_sha1               fileinput           pexpect             toolz\n",
      "_sha256             filelock            pickle              tornado\n",
      "_sha3               flake8              pickleshare         tqdm\n",
      "_sha512             flask               pickletools         trace\n",
      "_signal             fnmatch             pip                 traceback\n",
      "_sitebuiltins       fontTools           pipes               tracemalloc\n",
      "_socket             fractions           pkce                traitlets\n",
      "_sqlite3            frozenlist          pkg_resources       truststore\n",
      "_sre                fsspec              pkginfo             tty\n",
      "_ssl                ftplib              pkgutil             turtle\n",
      "_stat               functools           platform            turtledemo\n",
      "_statistics         future              platformdirs        twisted\n",
      "_string             gc                  plistlib            types\n",
      "_strptime           genericpath         plotly              typing\n",
      "_struct             gensim              pluggy              typing_extensions\n",
      "_symtable           getopt              ply                 tzdata\n",
      "_system_path        getpass             poplib              tzlocal\n",
      "_testbuffer         gettext             posixpath           uc_micro\n",
      "_testcapi           git                 pprint              ujson\n",
      "_testconsole        gitdb               profile             unicodedata\n",
      "_testimportmultiple glob                prometheus_client   unidecode\n",
      "_testinternalcapi   gmpy2               prompt_toolkit      unittest\n",
      "_testmultiphase     graphlib            protego             urllib\n",
      "_thread             greenlet            pstats              urllib3\n",
      "_threading_local    gzip                psutil              uu\n",
      "_tkinter            h5py                pty                 uuid\n",
      "_tokenize           hashlib             ptyprocess          validators\n",
      "_tracemalloc        heapdict            pure_eval           venv\n",
      "_typing             heapq               py                  w3lib\n",
      "_uuid               hmac                py_compile          warnings\n",
      "_warnings           holoviews           pyarrow             watchdog\n",
      "_weakref            html                pyasn1              wave\n",
      "_weakrefset         http                pyasn1_modules      wcwidth\n",
      "_win32sysloader     hvplot              pyclbr              weakref\n",
      "_winapi             hyperlink           pycodestyle         webbrowser\n",
      "_winxptheme         idlelib             pycosat             webencodings\n",
      "_xxsubinterpreters  idna                pycparser           websocket\n",
      "_yaml               imagecodecs         pyct                werkzeug\n",
      "_zoneinfo           imageio             pycurl              whatthepatch\n",
      "abc                 imagesize           pydantic            wheel\n",
      "adodbapi            imaplib             pydeck              widgetsnbextension\n",
      "afxres              imblearn            pydispatch          win2kras\n",
      "aifc                imghdr              pydoc               win32api\n",
      "aiobotocore         imp                 pydoc_data          win32clipboard\n",
      "aiohttp             importlib           pydocstyle          win32com\n",
      "aioitertools        importlib_metadata  pyexpat             win32con\n",
      "aiosignal           incremental         pyflakes            win32console\n",
      "alabaster           inflection          pygments            win32cred\n",
      "altair              iniconfig           pylab               win32crypt\n",
      "anaconda_anon_usage inspect             pylint              win32cryptcon\n",
      "anaconda_catalogs   intake              pylint_venv         win32ctypes\n",
      "anaconda_cloud_auth intervaltree        pyls_spyder         win32event\n",
      "anaconda_navigator  io                  pylsp               win32evtlog\n",
      "anaconda_project    ipaddress           pylsp_black         win32evtlogutil\n",
      "antigravity         ipykernel           pylsp_jsonrpc       win32file\n",
      "anyio               ipykernel_launcher  pyodbc              win32gui\n",
      "appdirs             ipython_genutils    pyparsing           win32gui_struct\n",
      "archspec            ipywidgets          pytest              win32help\n",
      "argon2              isapi               pythoncom           win32inet\n",
      "argparse            isort               pythonjsonlogger    win32inetcon\n",
      "array               isympy              pytoolconfig        win32job\n",
      "arrow               itemadapter         pytz                win32lz\n",
      "ast                 itemloaders         pyviz_comms         win32net\n",
      "astroid             itertools           pywin               win32netcon\n",
      "astropy             itsdangerous        pywin32_bootstrap   win32pdh\n",
      "asttokens           jedi                pywin32_testutil    win32pdhquery\n",
      "async_lru           jellyfish           pywintypes          win32pdhutil\n",
      "asynchat            jinja2              pywt                win32pipe\n",
      "asyncio             jmespath            qdarkstyle          win32print\n",
      "asyncore            joblib              qstylizer           win32process\n",
      "atexit              json                qtawesome           win32profile\n",
      "atomicwrites        json5               qtconsole           win32ras\n",
      "attr                jsonpatch           qtpy                win32rcparser\n",
      "attrs               jsonpointer         queue               win32security\n",
      "audioop             jsonschema          queuelib            win32service\n",
      "automat             jsonschema_specifications quopri              win32serviceutil\n",
      "autopep8            jupyter             random              win32timezone\n",
      "babel               jupyter_client      rasutil             win32trace\n",
      "backports           jupyter_console     re                  win32traceutil\n",
      "base64              jupyter_core        referencing         win32transaction\n",
      "bcrypt              jupyter_events      regcheck            win32ts\n",
      "bdb                 jupyter_lsp         regex               win32ui\n",
      "binaryornot         jupyter_server      regutil             win32uiole\n",
      "binascii            jupyter_server_terminals repo_cli            win32verstamp\n",
      "binstar_client      jupyterlab          reprlib             win32wnet\n",
      "bisect              jupyterlab_plotly   requests            win_inet_pton\n",
      "black               jupyterlab_pygments requests_file       winerror\n",
      "blackd              jupyterlab_server   requests_toolbelt   winioctlcon\n",
      "bleach              jupyterlab_widgets  rfc3339_validator   winnt\n",
      "blib2to3            jwt                 rfc3986_validator   winperf\n",
      "blinker             keyring             rich                winpty\n",
      "bokeh               keyword             rlcompleter         winreg\n",
      "boltons             kiwisolver          rope                winsound\n",
      "botocore            lazy_loader         rpds                winxpgui\n",
      "bottleneck          lazy_object_proxy   rtree               winxptheme\n",
      "brotli              lckr_jupyterlab_variableinspector ruamel_yaml         wrapt\n",
      "bs4                 lib2to3             runpy               wsgiref\n",
      "builtins            libarchive          s3fs                xarray\n",
      "bz2                 libfuturize         sched               xdrlib\n",
      "cProfile            libmambapy          scipy               xlwings\n",
      "cachetools          libpasteurize       scrapy              xml\n",
      "calendar            lief                seaborn             xmlrpc\n",
      "certifi             linecache           secrets             xxlimited\n",
      "cffi                linkify_it          select              xxlimited_35\n",
      "cgi                 llvmlite            selectors           xxsubtype\n",
      "cgitb               lmdb                semver              xyzservices\n",
      "chardet             locale              send2trash          yaml\n",
      "charset_normalizer  locket              service_identity    yapf\n",
      "chunk               logging             servicemanager      yapftests\n",
      "click               lxml                setuptools          yarl\n",
      "cloudpickle         lz4                 shelve              zict\n",
      "clyent              lzma                shlex               zipapp\n",
      "cmath               mailbox             shutil              zipfile\n",
      "cmd                 mailcap             signal              zipimport\n",
      "code                markdown            sipbuild            zipp\n",
      "codecs              markdown_it         site                zlib\n",
      "codeop              markupsafe          six                 zmq\n",
      "collections         marshal             skimage             zoneinfo\n",
      "colorama            math                sklearn             zope\n",
      "colorcet            matplotlib          slugify             zstandard\n",
      "colorsys            matplotlib_inline   smart_open          \n",
      "comm                mccabe              smmap               \n",
      "commctrl            mdit_py_plugins     smtpd               \n",
      "\n",
      "Enter any module name to get more help.  Or, type \"modules spam\" to search\n",
      "for modules whose name or summary contain the string \"spam\".\n",
      "\n"
     ]
    }
   ],
   "source": [
    "help('modules')"
   ]
  },
  {
   "cell_type": "markdown",
   "metadata": {},
   "source": [
    "This topic was only to teach you what is module and how it works , we will deep dive into it soon"
   ]
  },
  {
   "cell_type": "markdown",
   "metadata": {},
   "source": [
    "## **Loops in Python**"
   ]
  },
  {
   "cell_type": "markdown",
   "metadata": {},
   "source": [
    "- while loops\n",
    "- for loop\n"
   ]
  },
  {
   "cell_type": "code",
   "execution_count": null,
   "metadata": {},
   "outputs": [
    {
     "name": "stdout",
     "output_type": "stream",
     "text": [
      "5\n",
      "10\n",
      "15\n",
      "20\n",
      "25\n",
      "30\n",
      "35\n",
      "40\n",
      "45\n",
      "50\n"
     ]
    }
   ],
   "source": [
    "## Table\n",
    "number= int(input(\"Enter a numb:\"))\n",
    "\n",
    "i=1\n",
    "\n",
    "\n",
    "while i < 11 :\n",
    "    print(number*i)\n",
    "    i= i+1"
   ]
  },
  {
   "cell_type": "code",
   "execution_count": null,
   "metadata": {},
   "outputs": [
    {
     "name": "stdout",
     "output_type": "stream",
     "text": [
      "5 * 1 = 5\n",
      "5 * 2 = 10\n",
      "5 * 3 = 15\n",
      "5 * 4 = 20\n",
      "5 * 5 = 25\n",
      "5 * 6 = 30\n",
      "5 * 7 = 35\n",
      "5 * 8 = 40\n",
      "5 * 9 = 45\n",
      "5 * 10 = 50\n"
     ]
    }
   ],
   "source": [
    "## table \n",
    "\n",
    "number = int(input(\"enter a num: \"))\n",
    "i=1\n",
    "\n",
    "while i< 11 :\n",
    "    print(number,'*',i,\"=\",number * i)\n",
    "    i =i+1"
   ]
  },
  {
   "cell_type": "code",
   "execution_count": null,
   "metadata": {},
   "outputs": [
    {
     "name": "stdout",
     "output_type": "stream",
     "text": [
      "1\n",
      "2\n",
      "Limit Crossed\n"
     ]
    }
   ],
   "source": [
    "## While Loop with Else\n",
    "\n",
    "x= 1\n",
    "\n",
    "while x < 3 :\n",
    "    print(x)\n",
    "    x = x+1\n",
    "\n",
    "else:\n",
    "    print('Limit Crossed')\n"
   ]
  },
  {
   "cell_type": "markdown",
   "metadata": {},
   "source": [
    "### **Guessting Game**"
   ]
  },
  {
   "cell_type": "code",
   "execution_count": 29,
   "metadata": {},
   "outputs": [
    {
     "name": "stdout",
     "output_type": "stream",
     "text": [
      "Wrong Guess, Guess Higher!\n"
     ]
    }
   ],
   "source": [
    "#we will generate a random int b/w 1-10\n",
    "\n",
    "import random\n",
    "\n",
    "jackpot= random.randint(1,10)\n",
    "\n",
    "guess = int(input(\"Guess the num\"))\n",
    "\n",
    "if guess < jackpot :\n",
    "    print(\"Wrong Guess, Guess Higher!\")\n",
    "else :\n",
    "    print(\"wrong Guess\")"
   ]
  },
  {
   "cell_type": "code",
   "execution_count": null,
   "metadata": {},
   "outputs": [
    {
     "name": "stdout",
     "output_type": "stream",
     "text": [
      "Wrong Guess, Guess Higher!\n",
      "Wrong Guess, Guess Higher!\n"
     ]
    }
   ],
   "source": [
    "import random\n",
    "\n",
    "jackpot= random.randint(1,10)\n",
    "\n",
    "guess = int(input(\"Guess the num\"))\n",
    "\n",
    "while guess != jackpot:\n",
    "    if guess < jackpot :\n",
    "        print(\"Wrong Guess, Guess Higher!\")\n",
    "    else :\n",
    "        print(\"wrong Guess\")\n",
    "        \n",
    "    guess = int(input(\"Guess the num\"))\n",
    "    \n",
    "else :\n",
    "    print(\" Correct Guess!\")"
   ]
  },
  {
   "cell_type": "code",
   "execution_count": null,
   "metadata": {},
   "outputs": [],
   "source": [
    "## lets see how many number of attempts we took??\n",
    "\n",
    "import random \n",
    "\n",
    "jackpot=random.randint(1,10)\n",
    "\n",
    "guess=int(input(\"Guess The Number\"))\n",
    "counter = 1\n",
    "\n",
    "while guess != jackpot :\n",
    "    if guess <  jackpot :\n",
    "        print(\"Wrong Guess, Guess Higher!\")\n",
    "    else: \n",
    "        print (\"Wrong Guess\")\n",
    "\n",
    "    guess=int(input(\"Guess The Number\"))\n",
    "    counter =counter +1\n",
    "\n",
    "\n",
    "else : \n",
    "    print(\"Correct Guess , You Win !!\")\n",
    "    print (\"Guessed in \", counter , \"Attempts\" )"
   ]
  },
  {
   "cell_type": "markdown",
   "metadata": {},
   "source": [
    "## **For Loop**"
   ]
  },
  {
   "cell_type": "code",
   "execution_count": 31,
   "metadata": {},
   "outputs": [
    {
     "data": {
      "text/plain": [
       "range(1, 10)"
      ]
     },
     "execution_count": 31,
     "metadata": {},
     "output_type": "execute_result"
    }
   ],
   "source": [
    "# range()\n",
    "range (1,10) # 1,2,3,4,5,6,7,8,9"
   ]
  },
  {
   "cell_type": "code",
   "execution_count": 32,
   "metadata": {},
   "outputs": [
    {
     "name": "stdout",
     "output_type": "stream",
     "text": [
      "1\n",
      "2\n",
      "3\n",
      "4\n",
      "5\n",
      "6\n",
      "7\n",
      "8\n",
      "9\n"
     ]
    }
   ],
   "source": [
    "for i in range(1,10):\n",
    "    print(i)"
   ]
  },
  {
   "cell_type": "code",
   "execution_count": 34,
   "metadata": {},
   "outputs": [
    {
     "name": "stdout",
     "output_type": "stream",
     "text": [
      "1\n",
      "4\n",
      "7\n"
     ]
    }
   ],
   "source": [
    "for i in range(1,10,3):\n",
    "    print(i)"
   ]
  },
  {
   "cell_type": "code",
   "execution_count": 36,
   "metadata": {},
   "outputs": [
    {
     "name": "stdout",
     "output_type": "stream",
     "text": [
      "10\n",
      "9\n",
      "8\n",
      "7\n",
      "6\n",
      "5\n",
      "4\n",
      "3\n",
      "2\n",
      "1\n"
     ]
    }
   ],
   "source": [
    "# Lets say we can to print in reverse order\n",
    "for i in range(10,0,-1):\n",
    "    print(i)"
   ]
  },
  {
   "cell_type": "code",
   "execution_count": 37,
   "metadata": {},
   "outputs": [
    {
     "name": "stdout",
     "output_type": "stream",
     "text": [
      "D\n",
      "h\n",
      "a\n",
      "k\n",
      "a\n"
     ]
    }
   ],
   "source": [
    "## works on strings also \n",
    "\n",
    "for i in \"Dhaka\":\n",
    "    print(i)\n"
   ]
  },
  {
   "cell_type": "code",
   "execution_count": null,
   "metadata": {},
   "outputs": [],
   "source": [
    "## you can perform on list,tuple , set ,dict etc!!!"
   ]
  },
  {
   "cell_type": "markdown",
   "metadata": {},
   "source": [
    "## **For Loop Examples**"
   ]
  },
  {
   "cell_type": "markdown",
   "metadata": {},
   "source": [
    "Write a for loop to print the squares of numbers from 1 to 5"
   ]
  },
  {
   "cell_type": "code",
   "execution_count": 38,
   "metadata": {},
   "outputs": [
    {
     "name": "stdout",
     "output_type": "stream",
     "text": [
      "Sqr of 1 is 1\n",
      "Sqr of 2 is 4\n",
      "Sqr of 3 is 9\n",
      "Sqr of 4 is 16\n",
      "Sqr of 5 is 25\n"
     ]
    }
   ],
   "source": [
    "\n",
    "for i in range (1,6):\n",
    "    print(f\"Sqr of {i} is {i**2}\")"
   ]
  },
  {
   "cell_type": "markdown",
   "metadata": {},
   "source": [
    "Printing even numbers within a range"
   ]
  },
  {
   "cell_type": "code",
   "execution_count": 39,
   "metadata": {},
   "outputs": [
    {
     "name": "stdout",
     "output_type": "stream",
     "text": [
      "2\n",
      "4\n",
      "6\n",
      "8\n",
      "10\n"
     ]
    }
   ],
   "source": [
    "for number in range (1,11):\n",
    "    if number % 2 == 0 :\n",
    "        print(number)"
   ]
  },
  {
   "cell_type": "markdown",
   "metadata": {},
   "source": [
    "## **Nested Loops**"
   ]
  },
  {
   "cell_type": "markdown",
   "metadata": {},
   "source": [
    "A nested loop is a loop inside another loop. The inner loop runs completely for each iteration of the outer loop.\n",
    "\n",
    "💡 Think of it like a clock:\n",
    "\n",
    "The outer loop is the hour hand.\n",
    "The inner loop is the minute hand, which completes 60 rotations for each hour."
   ]
  },
  {
   "cell_type": "code",
   "execution_count": 1,
   "metadata": {},
   "outputs": [
    {
     "name": "stdout",
     "output_type": "stream",
     "text": [
      "1 1\n",
      "1 2\n",
      "1 3\n",
      "1 4\n",
      "2 1\n",
      "2 2\n",
      "2 3\n",
      "2 4\n",
      "3 1\n",
      "3 2\n",
      "3 3\n",
      "3 4\n",
      "4 1\n",
      "4 2\n",
      "4 3\n",
      "4 4\n"
     ]
    }
   ],
   "source": [
    "## Example :1\n",
    "\n",
    "#1,1, 1,2 , 1,3,  1,4...2,1 , 2,2 , 2,3 , 2,4......\n",
    "\n",
    "for i in range(1,5):\n",
    "    for j in range(1,5):\n",
    "        print(i,j)"
   ]
  },
  {
   "attachments": {
    "image.png": {
     "image/png": "[encoded data removed]"
    }
   },
   "cell_type": "markdown",
   "metadata": {},
   "source": [
    "Pattern-01\n",
    "\n",
    "![image.png](attachment:image.png)"
   ]
  },
  {
   "cell_type": "code",
   "execution_count": 45,
   "metadata": {},
   "outputs": [
    {
     "name": "stdout",
     "output_type": "stream",
     "text": [
      "*\n",
      "**\n",
      "***\n"
     ]
    }
   ],
   "source": [
    "## Lets understand the prblm first , \n",
    "# We need to print pattern but what is the pattern here? \n",
    "# if you look carefully you will see Row=star number , so etai mathay rakte hobe\n",
    "\n",
    "rows =int(input(\"Enter a Number of Rows:\"))\n",
    "\n",
    "for i in range (1,rows+1):\n",
    "    for j in range (1,i+1):\n",
    "        print(\"*\",end=\"\")\n",
    "    print()"
   ]
  },
  {
   "cell_type": "markdown",
   "metadata": {},
   "source": [
    "## **Control Statement**"
   ]
  },
  {
   "cell_type": "code",
   "execution_count": 46,
   "metadata": {},
   "outputs": [
    {
     "name": "stdout",
     "output_type": "stream",
     "text": [
      "1\n",
      "2\n",
      "3\n",
      "4\n",
      "5\n",
      "6\n",
      "7\n",
      "8\n",
      "9\n",
      "10\n"
     ]
    }
   ],
   "source": [
    "#Break\n",
    "\n",
    "for i in range(1,11):\n",
    "    print(i)"
   ]
  },
  {
   "cell_type": "code",
   "execution_count": 48,
   "metadata": {},
   "outputs": [
    {
     "name": "stdout",
     "output_type": "stream",
     "text": [
      "1\n",
      "2\n",
      "3\n"
     ]
    }
   ],
   "source": [
    "for i in range(1,11):\n",
    "    if i==4:\n",
    "        break\n",
    "    print(i)\n",
    "\n",
    "## Searching can be an example of break"
   ]
  },
  {
   "cell_type": "code",
   "execution_count": 49,
   "metadata": {},
   "outputs": [
    {
     "name": "stdout",
     "output_type": "stream",
     "text": [
      "1\n",
      "2\n",
      "3\n",
      "4\n",
      "6\n",
      "7\n",
      "8\n",
      "9\n",
      "10\n"
     ]
    }
   ],
   "source": [
    "## Continue \n",
    "\n",
    "for i in range (1,11):\n",
    "    if i==5: # everything except 5 will print\n",
    "        continue # sp particullarly of 5 it will skip print\n",
    "    print(i)\n",
    "\n",
    "\n",
    "#Filter -> skip product ( if stock 0)"
   ]
  },
  {
   "cell_type": "code",
   "execution_count": null,
   "metadata": {},
   "outputs": [
    {
     "ename": "SyntaxError",
     "evalue": "incomplete input (3363710106.py, line 4)",
     "output_type": "error",
     "traceback": [
      "\u001b[1;36m  Cell \u001b[1;32mIn[51], line 4\u001b[1;36m\u001b[0m\n\u001b[1;33m    ## if not written pass it will throw error\u001b[0m\n\u001b[1;37m                                              ^\u001b[0m\n\u001b[1;31mSyntaxError\u001b[0m\u001b[1;31m:\u001b[0m incomplete input\n"
     ]
    }
   ],
   "source": [
    "## Pass --> used when we make a loop to use later\n",
    "\n",
    "for i in range(1,10):\n",
    "    pass ## if not written pass it will throw error"
   ]
  },
  {
   "cell_type": "markdown",
   "metadata": {},
   "source": [
    "## **String**"
   ]
  },
  {
   "cell_type": "markdown",
   "metadata": {},
   "source": [
    "- Creating Strings"
   ]
  },
  {
   "cell_type": "code",
   "execution_count": 52,
   "metadata": {},
   "outputs": [
    {
     "data": {
      "text/plain": [
       "'Hello'"
      ]
     },
     "execution_count": 52,
     "metadata": {},
     "output_type": "execute_result"
    }
   ],
   "source": [
    "s = 'Hello'\n",
    "s"
   ]
  },
  {
   "cell_type": "code",
   "execution_count": 53,
   "metadata": {},
   "outputs": [
    {
     "data": {
      "text/plain": [
       "'world'"
      ]
     },
     "execution_count": 53,
     "metadata": {},
     "output_type": "execute_result"
    }
   ],
   "source": [
    "s=\"world\" \n",
    "s"
   ]
  },
  {
   "cell_type": "code",
   "execution_count": 54,
   "metadata": {},
   "outputs": [
    {
     "data": {
      "text/plain": [
       "\"It's Raining Outside\""
      ]
     },
     "execution_count": 54,
     "metadata": {},
     "output_type": "execute_result"
    }
   ],
   "source": [
    "## Now lets understand when to use which ? \n",
    "## There are certain scenarios when you might need to use both\n",
    "\n",
    "#Example \n",
    "\n",
    "\"It's Raining Outside\""
   ]
  },
  {
   "cell_type": "code",
   "execution_count": null,
   "metadata": {},
   "outputs": [],
   "source": [
    "## Multiline Strings \n",
    "s='''Hello'''\n",
    "y=\"\"\"Hello\"\"\"\n"
   ]
  },
  {
   "cell_type": "markdown",
   "metadata": {},
   "source": [
    "- Accessing Substrings from a string"
   ]
  },
  {
   "cell_type": "code",
   "execution_count": 55,
   "metadata": {},
   "outputs": [
    {
     "data": {
      "text/plain": [
       "True"
      ]
     },
     "execution_count": 55,
     "metadata": {},
     "output_type": "execute_result"
    }
   ],
   "source": [
    "\"D\" in \"Dhaka\"\n",
    "\n",
    "#let's say i want to extract a particular char from a string"
   ]
  },
  {
   "cell_type": "markdown",
   "metadata": {},
   "source": [
    "- Indexing"
   ]
  },
  {
   "cell_type": "code",
   "execution_count": 56,
   "metadata": {},
   "outputs": [
    {
     "name": "stdout",
     "output_type": "stream",
     "text": [
      "H\n"
     ]
    }
   ],
   "source": [
    "x= \"Hello World\"\n",
    "\n",
    "print(x[0])"
   ]
  },
  {
   "cell_type": "code",
   "execution_count": 57,
   "metadata": {},
   "outputs": [
    {
     "name": "stdout",
     "output_type": "stream",
     "text": [
      "H\n",
      "e\n",
      " \n",
      "W\n"
     ]
    },
    {
     "ename": "IndexError",
     "evalue": "string index out of range",
     "output_type": "error",
     "traceback": [
      "\u001b[1;31m---------------------------------------------------------------------------\u001b[0m",
      "\u001b[1;31mIndexError\u001b[0m                                Traceback (most recent call last)",
      "Cell \u001b[1;32mIn[57], line 9\u001b[0m\n\u001b[0;32m      7\u001b[0m \u001b[38;5;28mprint\u001b[39m(x[\u001b[38;5;241m5\u001b[39m])\n\u001b[0;32m      8\u001b[0m \u001b[38;5;28mprint\u001b[39m(x[\u001b[38;5;241m6\u001b[39m])\n\u001b[1;32m----> 9\u001b[0m \u001b[38;5;28mprint\u001b[39m(x[\u001b[38;5;241m11\u001b[39m])\n",
      "\u001b[1;31mIndexError\u001b[0m: string index out of range"
     ]
    }
   ],
   "source": [
    "# Postive Indexing \n",
    "# 0..1...2..3....4..5...\n",
    "x= \"Hello World\"\n",
    "\n",
    "print(x[0])\n",
    "print(x[1])\n",
    "print(x[5])\n",
    "print(x[6])\n",
    "print(x[11]) ## if you put value out of range it will throw Error"
   ]
  },
  {
   "cell_type": "code",
   "execution_count": 58,
   "metadata": {},
   "outputs": [
    {
     "name": "stdout",
     "output_type": "stream",
     "text": [
      "d\n",
      "l\n",
      " \n",
      "o\n"
     ]
    }
   ],
   "source": [
    "## Negative Indexing\n",
    "\n",
    "x= \"Hello World\"\n",
    "\n",
    "## Follow the Theory Slide\n",
    "\n",
    "print(x[-1])\n",
    "print(x[-2])\n",
    "print(x[-6])\n",
    "print(x[-7])"
   ]
  },
  {
   "cell_type": "markdown",
   "metadata": {},
   "source": [
    "- Slicing"
   ]
  },
  {
   "cell_type": "code",
   "execution_count": 59,
   "metadata": {},
   "outputs": [
    {
     "name": "stdout",
     "output_type": "stream",
     "text": [
      "Hell\n"
     ]
    }
   ],
   "source": [
    "x= \"Hello World\"\n",
    "print(x[0:4])"
   ]
  },
  {
   "cell_type": "code",
   "execution_count": 75,
   "metadata": {},
   "outputs": [
    {
     "name": "stdout",
     "output_type": "stream",
     "text": [
      "olleH\n",
      "Hello\n",
      "lo World\n",
      "Hello\n",
      "Hlo\n",
      "oW olle\n",
      "o le\n"
     ]
    }
   ],
   "source": [
    "## In slicing you can extrac more than one char\n",
    "\n",
    "x= \"Hello World\"\n",
    "print(x[4::-1]) # We provide a range\n",
    "print(x[0:5]) # we had to give 5 bcz 2nd number is not included\n",
    "print(x[3:]) ## when i wont define any stop number it will go till the end\n",
    "print(x[:5]) \n",
    "# ## step size\n",
    "print(x[0:5:2]) \n",
    "# ## Negative Indexing\n",
    "print(x[7:0:-1])\n",
    "print(x[7:0:-2])\n",
    "\n"
   ]
  },
  {
   "cell_type": "code",
   "execution_count": 67,
   "metadata": {},
   "outputs": [
    {
     "name": "stdout",
     "output_type": "stream",
     "text": [
      "olleH\n"
     ]
    }
   ],
   "source": [
    "## Reverse String <- interview que\n",
    "s=\"Hello\"\n",
    "print(s[::-1])"
   ]
  },
  {
   "cell_type": "code",
   "execution_count": null,
   "metadata": {},
   "outputs": [],
   "source": [
    "x= \"Hello World\"\n",
    "print(x[-5:])"
   ]
  },
  {
   "cell_type": "code",
   "execution_count": null,
   "metadata": {},
   "outputs": [],
   "source": [
    "x= \"Hello World\"\n",
    "print(x[-1:-6:-1]) ## Must give step size\n",
    "# during Reverse string the start value must be bigger"
   ]
  },
  {
   "cell_type": "code",
   "execution_count": null,
   "metadata": {},
   "outputs": [],
   "source": [
    "##Quiz\n",
    "x=\"Hello World\"\n",
    "print(s[-1:-5:2])"
   ]
  },
  {
   "cell_type": "markdown",
   "metadata": {},
   "source": [
    "**String Operations**"
   ]
  },
  {
   "cell_type": "code",
   "execution_count": null,
   "metadata": {},
   "outputs": [],
   "source": [
    "##Aricthmetic Op\n",
    "# concatenate\n",
    "print(\"Data\"+\" \"+\"Solution\")"
   ]
  },
  {
   "cell_type": "code",
   "execution_count": null,
   "metadata": {},
   "outputs": [],
   "source": [
    "#Multiplication\n",
    "\n",
    "print(\"Ds\"*5)"
   ]
  },
  {
   "cell_type": "code",
   "execution_count": null,
   "metadata": {},
   "outputs": [],
   "source": [
    "#Sub,Mod,Div Op Doesnt work in String Op"
   ]
  },
  {
   "cell_type": "code",
   "execution_count": null,
   "metadata": {},
   "outputs": [],
   "source": [
    "## Relational Op \n",
    "\n",
    "\"Dhaka\" == \"Dhaka\" \n",
    "\"Dhaka\" == \"dhaka\"\n",
    "\"Dhaka\" != \"dhaka\""
   ]
  },
  {
   "cell_type": "code",
   "execution_count": null,
   "metadata": {},
   "outputs": [],
   "source": [
    "\"Rajshahi\" > \"ctg\" ## This follows the aschii Table"
   ]
  },
  {
   "attachments": {
    "image.png": {
     "image/png": "[encoded data removed]"
    }
   },
   "cell_type": "markdown",
   "metadata": {},
   "source": [
    "![image.png](attachment:image.png)"
   ]
  },
  {
   "cell_type": "code",
   "execution_count": null,
   "metadata": {},
   "outputs": [],
   "source": [
    "## Loops on Strings\n",
    "\n",
    "for i in \"Hello\":\n",
    "    print(i)"
   ]
  },
  {
   "cell_type": "code",
   "execution_count": null,
   "metadata": {},
   "outputs": [],
   "source": [
    "#while loop \n",
    "text = \"PYTHON\"\n",
    "i = 0  # Starting index\n",
    "\n",
    "while i < len(text):\n",
    "    print(text[i])  # Print each character\n",
    "    i += 1  # Move to the next character\n"
   ]
  },
  {
   "cell_type": "markdown",
   "metadata": {},
   "source": [
    "**String Functions**"
   ]
  },
  {
   "cell_type": "code",
   "execution_count": null,
   "metadata": {},
   "outputs": [],
   "source": [
    "## around 15 func \n",
    "#common -> all data types er upor kaj kore\n",
    "# only works on string"
   ]
  },
  {
   "cell_type": "code",
   "execution_count": null,
   "metadata": {},
   "outputs": [],
   "source": [
    "#len\n",
    "\n",
    "len(\"Hello\")"
   ]
  },
  {
   "cell_type": "code",
   "execution_count": null,
   "metadata": {},
   "outputs": [],
   "source": [
    "#max\n",
    "\n",
    "max(\"Helloworld\")"
   ]
  },
  {
   "cell_type": "code",
   "execution_count": null,
   "metadata": {},
   "outputs": [],
   "source": [
    "#min\n",
    "\n",
    "min(\"HelloWorld\")"
   ]
  },
  {
   "cell_type": "code",
   "execution_count": null,
   "metadata": {},
   "outputs": [],
   "source": [
    "## sorted\n",
    "\n",
    "sorted(\"hello world\")"
   ]
  },
  {
   "cell_type": "code",
   "execution_count": null,
   "metadata": {},
   "outputs": [],
   "source": [
    "## same jinish amra list,tuple egula porar shomoyo dekbo"
   ]
  },
  {
   "cell_type": "markdown",
   "metadata": {},
   "source": [
    "- only works on string"
   ]
  },
  {
   "cell_type": "code",
   "execution_count": null,
   "metadata": {},
   "outputs": [],
   "source": [
    "#Capitalize\n",
    "\n",
    "str=\"hello world\"\n",
    "\n",
    "str.capitalize()"
   ]
  },
  {
   "cell_type": "code",
   "execution_count": null,
   "metadata": {},
   "outputs": [],
   "source": [
    "#Title\n",
    "\n",
    "str.title()"
   ]
  },
  {
   "cell_type": "code",
   "execution_count": null,
   "metadata": {},
   "outputs": [],
   "source": [
    "#upper\n",
    "\n",
    "str.upper()"
   ]
  },
  {
   "cell_type": "code",
   "execution_count": null,
   "metadata": {},
   "outputs": [],
   "source": [
    "#lower\n",
    "\n",
    "a=\"HELLLO\"\n",
    "\n",
    "a.lower()"
   ]
  },
  {
   "cell_type": "code",
   "execution_count": null,
   "metadata": {},
   "outputs": [],
   "source": [
    "##Swapcase\n",
    "\n",
    "\"hELLo wORLd\".swapcase()"
   ]
  },
  {
   "cell_type": "code",
   "execution_count": null,
   "metadata": {},
   "outputs": [],
   "source": [
    "#count\n",
    "\"Data solution 360\".count(\"a\")"
   ]
  },
  {
   "cell_type": "code",
   "execution_count": null,
   "metadata": {},
   "outputs": [],
   "source": [
    "\"Data solution 360\".count(\"Data\")"
   ]
  },
  {
   "cell_type": "code",
   "execution_count": null,
   "metadata": {},
   "outputs": [],
   "source": [
    "\"aaaaa\".count(\"a\")"
   ]
  },
  {
   "cell_type": "code",
   "execution_count": null,
   "metadata": {},
   "outputs": [],
   "source": [
    "#find \n",
    "\"Data solution 360\".find(\"s\")"
   ]
  },
  {
   "cell_type": "code",
   "execution_count": null,
   "metadata": {},
   "outputs": [],
   "source": [
    "\"Data solution 360\".find(\"solution\")"
   ]
  },
  {
   "cell_type": "code",
   "execution_count": null,
   "metadata": {},
   "outputs": [],
   "source": [
    "\"Data solution 360\".find(\"x\")"
   ]
  },
  {
   "cell_type": "code",
   "execution_count": 2,
   "metadata": {},
   "outputs": [
    {
     "data": {
      "text/plain": [
       "5"
      ]
     },
     "execution_count": 2,
     "metadata": {},
     "output_type": "execute_result"
    }
   ],
   "source": [
    "##Index and find are kind of similar\n",
    "\"Data solution 360\".index(\"solution\")\n"
   ]
  },
  {
   "cell_type": "code",
   "execution_count": null,
   "metadata": {},
   "outputs": [],
   "source": [
    "## endswith / startswith\n",
    "\n",
    "\"Bangladesh\".endswith(\"esh\")"
   ]
  },
  {
   "cell_type": "code",
   "execution_count": null,
   "metadata": {},
   "outputs": [],
   "source": [
    "\"Bangladesh\".startswith(\"Ban\")"
   ]
  },
  {
   "cell_type": "code",
   "execution_count": null,
   "metadata": {},
   "outputs": [],
   "source": [
    "## format --> U can insert a value in given string\n",
    "\n",
    "name=\"Evan\"\n",
    "gender=\"Male\"\n",
    "\n",
    "\"Hi my name is {} and I am a {}\".format(name,gender) #order matters\n",
    "\n",
    "## whats different with f string ?\n",
    "## using format we can save time,smart way \n",
    "## show using input"
   ]
  },
  {
   "cell_type": "code",
   "execution_count": null,
   "metadata": {},
   "outputs": [],
   "source": [
    "## f string \n",
    "\n",
    "# An f-string (formatted string) is a way to insert variables directly into a string using {}.\n",
    "\n",
    "name = \"Alice\"\n",
    "age = 25\n",
    "print(f\"My name is {name} and I am {age} years old.\")\n"
   ]
  },
  {
   "cell_type": "code",
   "execution_count": null,
   "metadata": {},
   "outputs": [],
   "source": [
    "## inalnum () --> checks if the string is alphanumeric\n",
    "\n",
    "\"asd360\".isalnum()"
   ]
  },
  {
   "cell_type": "code",
   "execution_count": null,
   "metadata": {},
   "outputs": [],
   "source": [
    "\"ds\".isalpha() #only for alphabet"
   ]
  },
  {
   "cell_type": "code",
   "execution_count": null,
   "metadata": {},
   "outputs": [],
   "source": [
    "'21312'.isnumeric() # only numeric"
   ]
  },
  {
   "cell_type": "code",
   "execution_count": null,
   "metadata": {},
   "outputs": [],
   "source": [
    "## Split/Join\n",
    "\n",
    "\"Hello Wrold\".split() ## part by part divide kore list e insert"
   ]
  },
  {
   "cell_type": "code",
   "execution_count": null,
   "metadata": {},
   "outputs": [],
   "source": [
    "\"Hello Wrold\".split(\"l\")"
   ]
  },
  {
   "cell_type": "code",
   "execution_count": null,
   "metadata": {},
   "outputs": [],
   "source": [
    "\"we are datasolution\".split()"
   ]
  },
  {
   "cell_type": "code",
   "execution_count": null,
   "metadata": {},
   "outputs": [],
   "source": [
    "\" \".join(['we', 'are', 'datasolution'])"
   ]
  },
  {
   "cell_type": "code",
   "execution_count": null,
   "metadata": {},
   "outputs": [],
   "source": [
    "\"--\".join(['we', 'are', 'datasolution'])\n",
    "\n",
    "# + diyeo hoito but bar bar + and separator deya lgto"
   ]
  },
  {
   "cell_type": "code",
   "execution_count": null,
   "metadata": {},
   "outputs": [],
   "source": [
    "#replace\n",
    "\n",
    "x=\"Hello World\"\n",
    "x.replace(\"World\",\"Class\")\n",
    "\n",
    "print(x)"
   ]
  },
  {
   "cell_type": "code",
   "execution_count": null,
   "metadata": {},
   "outputs": [],
   "source": [
    "## Strip --> helps to remove space\n",
    "\n",
    "\"       Data solution 360            \".strip() #only last nd last e space"
   ]
  }
 ],
 "metadata": {
  "kernelspec": {
   "display_name": "Python 3",
   "language": "python",
   "name": "python3"
  },
  "language_info": {
   "codemirror_mode": {
    "name": "ipython",
    "version": 3
   },
   "file_extension": ".py",
   "mimetype": "text/x-python",
   "name": "python",
   "nbconvert_exporter": "python",
   "pygments_lexer": "ipython3",
   "version": "3.13.3"
  }
 },
 "nbformat": 4,
 "nbformat_minor": 2
}
