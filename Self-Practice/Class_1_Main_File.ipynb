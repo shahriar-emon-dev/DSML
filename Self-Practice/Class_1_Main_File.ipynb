{
 "cells": [
  {
   "cell_type": "markdown",
   "metadata": {},
   "source": [
    "## **1. Print Output**"
   ]
  },
  {
   "cell_type": "code",
   "execution_count": 2,
   "metadata": {},
   "outputs": [
    {
     "data": {
      "text/plain": [
       "'Hello World'"
      ]
     },
     "execution_count": 2,
     "metadata": {},
     "output_type": "execute_result"
    }
   ],
   "source": [
    "\"Hello World\""
   ]
  },
  {
   "cell_type": "code",
   "execution_count": 3,
   "metadata": {},
   "outputs": [
    {
     "data": {
      "text/plain": [
       "12"
      ]
     },
     "execution_count": 3,
     "metadata": {},
     "output_type": "execute_result"
    }
   ],
   "source": [
    "5+7"
   ]
  },
  {
   "cell_type": "code",
   "execution_count": 4,
   "metadata": {},
   "outputs": [
    {
     "data": {
      "text/plain": [
       "'5+7'"
      ]
     },
     "execution_count": 4,
     "metadata": {},
     "output_type": "execute_result"
    }
   ],
   "source": [
    "\"5+7\""
   ]
  },
  {
   "cell_type": "code",
   "execution_count": null,
   "metadata": {},
   "outputs": [
    {
     "name": "stdout",
     "output_type": "stream",
     "text": [
      "Hello World\n"
     ]
    }
   ],
   "source": [
    "#anything() <- This is a format for function\n",
    "# Python is Case Sensitive\n",
    "\n",
    "print(\"Hello World\")\n"
   ]
  },
  {
   "cell_type": "code",
   "execution_count": 6,
   "metadata": {},
   "outputs": [
    {
     "name": "stdout",
     "output_type": "stream",
     "text": [
      "8\n"
     ]
    }
   ],
   "source": [
    "print(8)"
   ]
  },
  {
   "cell_type": "code",
   "execution_count": 7,
   "metadata": {},
   "outputs": [
    {
     "name": "stdout",
     "output_type": "stream",
     "text": [
      "4.5\n"
     ]
    }
   ],
   "source": [
    "print(4.5)"
   ]
  },
  {
   "cell_type": "code",
   "execution_count": 8,
   "metadata": {},
   "outputs": [
    {
     "name": "stdout",
     "output_type": "stream",
     "text": [
      "True\n"
     ]
    }
   ],
   "source": [
    "print(True)"
   ]
  },
  {
   "cell_type": "code",
   "execution_count": 10,
   "metadata": {},
   "outputs": [
    {
     "name": "stdout",
     "output_type": "stream",
     "text": [
      "True\n"
     ]
    }
   ],
   "source": [
    "print(\"True\")"
   ]
  },
  {
   "cell_type": "code",
   "execution_count": 9,
   "metadata": {},
   "outputs": [
    {
     "name": "stdout",
     "output_type": "stream",
     "text": [
      "False\n"
     ]
    }
   ],
   "source": [
    "print(False)"
   ]
  },
  {
   "cell_type": "code",
   "execution_count": 11,
   "metadata": {},
   "outputs": [
    {
     "name": "stdout",
     "output_type": "stream",
     "text": [
      "Hello 60 4.5\n"
     ]
    }
   ],
   "source": [
    "print(\"Hello\",60,4.5)"
   ]
  },
  {
   "cell_type": "code",
   "execution_count": 13,
   "metadata": {},
   "outputs": [
    {
     "name": "stdout",
     "output_type": "stream",
     "text": [
      "Hello****60****4.5\n"
     ]
    }
   ],
   "source": [
    "print(\"Hello\",60,4.5,sep=\"****\")\n",
    "\n"
   ]
  },
  {
   "cell_type": "code",
   "execution_count": 20,
   "metadata": {},
   "outputs": [
    {
     "name": "stdout",
     "output_type": "stream",
     "text": [
      "Hello\n",
      "World\n"
     ]
    }
   ],
   "source": [
    "print(\"Hello\")\n",
    "print(\"World\")\n"
   ]
  },
  {
   "cell_type": "code",
   "execution_count": 21,
   "metadata": {},
   "outputs": [
    {
     "name": "stdout",
     "output_type": "stream",
     "text": [
      "Hello---World\n",
      "DS\n"
     ]
    }
   ],
   "source": [
    "print(\"Hello\",end=\"---\")\n",
    "print(\"World\")\n",
    "print(\"DS\")"
   ]
  },
  {
   "cell_type": "code",
   "execution_count": 18,
   "metadata": {},
   "outputs": [
    {
     "name": "stdout",
     "output_type": "stream",
     "text": [
      "Hello\n",
      "5959\n",
      "9.6\n",
      "True\n"
     ]
    }
   ],
   "source": [
    "print(\"Hello\", 5959,9.6,True, sep=\"\\n\")"
   ]
  },
  {
   "cell_type": "markdown",
   "metadata": {},
   "source": [
    "## **2. Data Type**"
   ]
  },
  {
   "cell_type": "code",
   "execution_count": 23,
   "metadata": {},
   "outputs": [
    {
     "name": "stdout",
     "output_type": "stream",
     "text": [
      "10\n"
     ]
    },
    {
     "data": {
      "text/plain": [
       "int"
      ]
     },
     "execution_count": 23,
     "metadata": {},
     "output_type": "execute_result"
    }
   ],
   "source": [
    "## Integer \n",
    "print(10)\n",
    "\n",
    "type(10)"
   ]
  },
  {
   "cell_type": "code",
   "execution_count": 24,
   "metadata": {},
   "outputs": [
    {
     "data": {
      "text/plain": [
       "float"
      ]
     },
     "execution_count": 24,
     "metadata": {},
     "output_type": "execute_result"
    }
   ],
   "source": [
    "## Decimal/Float\n",
    "\n",
    "type(4.5)"
   ]
  },
  {
   "cell_type": "code",
   "execution_count": 25,
   "metadata": {},
   "outputs": [
    {
     "data": {
      "text/plain": [
       "complex"
      ]
     },
     "execution_count": 25,
     "metadata": {},
     "output_type": "execute_result"
    }
   ],
   "source": [
    "## Complex \n",
    "type(5+6j)"
   ]
  },
  {
   "cell_type": "code",
   "execution_count": 26,
   "metadata": {},
   "outputs": [
    {
     "data": {
      "text/plain": [
       "bool"
      ]
     },
     "execution_count": 26,
     "metadata": {},
     "output_type": "execute_result"
    }
   ],
   "source": [
    "## Boolean\n",
    "type(True)"
   ]
  },
  {
   "cell_type": "code",
   "execution_count": 29,
   "metadata": {},
   "outputs": [
    {
     "data": {
      "text/plain": [
       "bool"
      ]
     },
     "execution_count": 29,
     "metadata": {},
     "output_type": "execute_result"
    }
   ],
   "source": [
    "type(False)"
   ]
  },
  {
   "cell_type": "code",
   "execution_count": 28,
   "metadata": {},
   "outputs": [
    {
     "data": {
      "text/plain": [
       "str"
      ]
     },
     "execution_count": 28,
     "metadata": {},
     "output_type": "execute_result"
    }
   ],
   "source": [
    "type(\"True\")"
   ]
  },
  {
   "cell_type": "code",
   "execution_count": null,
   "metadata": {},
   "outputs": [
    {
     "name": "stdout",
     "output_type": "stream",
     "text": [
      "[1, 1, 1, 1, 1, 1, 2, 3, 4, 5, 6, 6.7, 'DS', True]\n"
     ]
    },
    {
     "data": {
      "text/plain": [
       "list"
      ]
     },
     "execution_count": 40,
     "metadata": {},
     "output_type": "execute_result"
    }
   ],
   "source": [
    "## List , Similar to C's Array \n",
    "\n",
    "print([2,3,4,5,6,6.7,\"DS\",True,90])\n",
    "\n",
    "type([1,2,3,4,5,6,6.7,\"DS\",True])\n"
   ]
  },
  {
   "cell_type": "code",
   "execution_count": 44,
   "metadata": {},
   "outputs": [
    {
     "data": {
      "text/plain": [
       "[2, 3, 4, 5, 6, 6.7, 'DS', True, 90]"
      ]
     },
     "execution_count": 44,
     "metadata": {},
     "output_type": "execute_result"
    }
   ],
   "source": [
    "a=[2,3,4,5,6,6.7,\"DS\",True,90]\n",
    "\n",
    "a"
   ]
  },
  {
   "cell_type": "code",
   "execution_count": null,
   "metadata": {},
   "outputs": [
    {
     "name": "stdout",
     "output_type": "stream",
     "text": [
      "(1, 1, 1, 1, 1, 1, 2, 3, 4, 5, True, 4.5, 'Ds360')\n"
     ]
    },
    {
     "data": {
      "text/plain": [
       "tuple"
      ]
     },
     "execution_count": 41,
     "metadata": {},
     "output_type": "execute_result"
    }
   ],
   "source": [
    "## Tuple\n",
    "\n",
    "print((1,1,1,1,1,1,2,3,4,5,True,4.5,\"Ds360\"))\n",
    "\n",
    "type((1,2,3,4,5,True,4.5,\"Ds360\"))"
   ]
  },
  {
   "cell_type": "code",
   "execution_count": 39,
   "metadata": {},
   "outputs": [
    {
     "name": "stdout",
     "output_type": "stream",
     "text": [
      "{1, 2, 3, 4, 5, 6}\n"
     ]
    },
    {
     "data": {
      "text/plain": [
       "set"
      ]
     },
     "execution_count": 39,
     "metadata": {},
     "output_type": "execute_result"
    }
   ],
   "source": [
    "## Sets\n",
    "print({1,1,1,1,1,1,2,3,4,5,6,6,6,6,6,6,6,6})\n",
    "\n",
    "type({1,2,3,4,5})"
   ]
  },
  {
   "cell_type": "code",
   "execution_count": 42,
   "metadata": {},
   "outputs": [
    {
     "name": "stdout",
     "output_type": "stream",
     "text": [
      "{'Name': 'DS360', 'Platform': 'Online'}\n"
     ]
    }
   ],
   "source": [
    "## Dictionary ,stays in key value pair\n",
    "\n",
    "print({\"Name\":\"DS360\",\"Platform\":\"Online\"})\n"
   ]
  },
  {
   "cell_type": "markdown",
   "metadata": {},
   "source": [
    "## **3. Variables**"
   ]
  },
  {
   "cell_type": "code",
   "execution_count": 45,
   "metadata": {},
   "outputs": [
    {
     "data": {
      "text/plain": [
       "'DS360'"
      ]
     },
     "execution_count": 45,
     "metadata": {},
     "output_type": "execute_result"
    }
   ],
   "source": [
    " ## Python is smart enough to understand the dtype by itself\n",
    "\n",
    "name=\"DS360\"\n",
    "\n",
    "name"
   ]
  },
  {
   "cell_type": "code",
   "execution_count": 46,
   "metadata": {},
   "outputs": [
    {
     "data": {
      "text/plain": [
       "str"
      ]
     },
     "execution_count": 46,
     "metadata": {},
     "output_type": "execute_result"
    }
   ],
   "source": [
    "type(name)"
   ]
  },
  {
   "cell_type": "code",
   "execution_count": 48,
   "metadata": {},
   "outputs": [
    {
     "data": {
      "text/plain": [
       "11"
      ]
     },
     "execution_count": 48,
     "metadata": {},
     "output_type": "execute_result"
    }
   ],
   "source": [
    "5+6"
   ]
  },
  {
   "cell_type": "code",
   "execution_count": 47,
   "metadata": {},
   "outputs": [
    {
     "data": {
      "text/plain": [
       "11"
      ]
     },
     "execution_count": 47,
     "metadata": {},
     "output_type": "execute_result"
    }
   ],
   "source": [
    "## Arithmetic with variable\n",
    "\n",
    "a= 5\n",
    "b=6\n",
    "\n",
    "a+b"
   ]
  },
  {
   "cell_type": "code",
   "execution_count": 49,
   "metadata": {},
   "outputs": [
    {
     "data": {
      "text/plain": [
       "int"
      ]
     },
     "execution_count": 49,
     "metadata": {},
     "output_type": "execute_result"
    }
   ],
   "source": [
    "type(a)"
   ]
  },
  {
   "cell_type": "code",
   "execution_count": null,
   "metadata": {},
   "outputs": [],
   "source": [
    "## Dynamic Typing <-- commonly asked interview question \n",
    "a=5\n",
    "\n",
    "# see here we didnt tell python the data type manually like \n",
    "# other prog lang like c/c++ , python could himself determine \n",
    "# what as the data type this is called dynamic typing\n",
    "\n",
    "## Static Typing \n",
    "\n",
    "int a =5\n",
    "\n",
    "float b = 4.5"
   ]
  },
  {
   "cell_type": "code",
   "execution_count": null,
   "metadata": {},
   "outputs": [
    {
     "name": "stdout",
     "output_type": "stream",
     "text": [
      "5\n",
      "DS360\n"
     ]
    }
   ],
   "source": [
    "## Dynamic Binding \n",
    "\n",
    "a=5 \n",
    "print(a)\n",
    "a=\"DS360\"\n",
    "print(a)\n",
    "\n",
    "\n",
    "## in python as you can see data type are automatically fixed\n",
    "## in other language once data type is fixed u cannot change it , \n",
    "# that is called static binding\n",
    "\n",
    "int a =5\n"
   ]
  },
  {
   "cell_type": "code",
   "execution_count": 53,
   "metadata": {},
   "outputs": [
    {
     "name": "stdout",
     "output_type": "stream",
     "text": [
      "8 9 10\n",
      "2 1 3\n",
      "5 5 5\n"
     ]
    }
   ],
   "source": [
    "## Styles of creating variables \n",
    "\n",
    "a=8\n",
    "b=9\n",
    "c=10\n",
    "print(a,b,c)\n",
    "#or you can do this in one line \n",
    "\n",
    "x,y,z=2,1,3\n",
    "\n",
    "print(x,y,z)\n",
    "\n",
    "#what if you want to give multiple variable a single value?\n",
    "\n",
    "a=b=c=5\n",
    "print(a,b,c)"
   ]
  },
  {
   "cell_type": "markdown",
   "metadata": {},
   "source": [
    "## **4. Keywords and Identifiers**"
   ]
  },
  {
   "cell_type": "markdown",
   "metadata": {},
   "source": [
    "## Identifiers rules :\n",
    "🔹 Rules for Naming Identifiers:\n",
    "- Can have letters (a-z, A-Z), digits (0-9), and underscore _\n",
    "- Must start with a letter or underscore (_), not a number\n",
    "- Case-sensitive → Age and age are different\n",
    "- Cannot be a keyword\n",
    "\n"
   ]
  },
  {
   "cell_type": "code",
   "execution_count": null,
   "metadata": {},
   "outputs": [],
   "source": [
    "name=\"ds360\"\n",
    "age=10"
   ]
  },
  {
   "cell_type": "code",
   "execution_count": 54,
   "metadata": {},
   "outputs": [
    {
     "ename": "SyntaxError",
     "evalue": "invalid decimal literal (4020198347.py, line 2)",
     "output_type": "error",
     "traceback": [
      "\u001b[1;36m  Cell \u001b[1;32mIn[54], line 2\u001b[1;36m\u001b[0m\n\u001b[1;33m    1name=\"DS\"\u001b[0m\n\u001b[1;37m    ^\u001b[0m\n\u001b[1;31mSyntaxError\u001b[0m\u001b[1;31m:\u001b[0m invalid decimal literal\n"
     ]
    }
   ],
   "source": [
    "#You cannot run \n",
    "1name=\"DS\""
   ]
  },
  {
   "cell_type": "code",
   "execution_count": 55,
   "metadata": {},
   "outputs": [
    {
     "data": {
      "text/plain": [
       "'DS'"
      ]
     },
     "execution_count": 55,
     "metadata": {},
     "output_type": "execute_result"
    }
   ],
   "source": [
    "name1=\"DS\"\n",
    "\n",
    "name1"
   ]
  },
  {
   "cell_type": "code",
   "execution_count": null,
   "metadata": {},
   "outputs": [],
   "source": [
    "age=10\n",
    "Age=10"
   ]
  },
  {
   "cell_type": "code",
   "execution_count": 56,
   "metadata": {},
   "outputs": [
    {
     "name": "stdout",
     "output_type": "stream",
     "text": [
      "DS 360\n"
     ]
    }
   ],
   "source": [
    "## You can use special Charc -> _\n",
    "first_name=\"DS\"\n",
    "last_name=\"360\"\n",
    "\n",
    "print(first_name,last_name)"
   ]
  },
  {
   "cell_type": "markdown",
   "metadata": {},
   "source": [
    "## **5. User Input**"
   ]
  },
  {
   "cell_type": "code",
   "execution_count": 58,
   "metadata": {},
   "outputs": [
    {
     "data": {
      "text/plain": [
       "''"
      ]
     },
     "execution_count": 58,
     "metadata": {},
     "output_type": "execute_result"
    }
   ],
   "source": [
    " ## This lets users input anything\n",
    " \n",
    "input()"
   ]
  },
  {
   "cell_type": "code",
   "execution_count": 59,
   "metadata": {},
   "outputs": [
    {
     "data": {
      "text/plain": [
       "'DS360'"
      ]
     },
     "execution_count": 59,
     "metadata": {},
     "output_type": "execute_result"
    }
   ],
   "source": [
    "## We must tell the users what to enter ! \n",
    "\n",
    "input(\"Enter Your Name : \")"
   ]
  },
  {
   "cell_type": "code",
   "execution_count": null,
   "metadata": {},
   "outputs": [
    {
     "name": "stdout",
     "output_type": "stream",
     "text": [
      "1020\n"
     ]
    }
   ],
   "source": [
    "## Lets Write a Program \n",
    "## The Task is to take to number input from the user and do addition ## 2\n",
    "\n",
    "# 1. Take input from user and store them in variable\n",
    "# 2.Add the 2 variablers\n",
    "# 3. Print the results\n",
    "\n",
    "first_num=input(\"Enter First Number:\") ## takes it as string\n",
    "sec_num=input(\"Enter sec Number:\")\n",
    "\n",
    "print(first_num+sec_num)\n",
    "\n",
    "\n",
    " ## See the strange result? it's beacause we havent fixed the typing which is string by default"
   ]
  },
  {
   "cell_type": "code",
   "execution_count": 61,
   "metadata": {},
   "outputs": [
    {
     "data": {
      "text/plain": [
       "str"
      ]
     },
     "execution_count": 61,
     "metadata": {},
     "output_type": "execute_result"
    }
   ],
   "source": [
    "type(first_num)"
   ]
  },
  {
   "cell_type": "markdown",
   "metadata": {},
   "source": [
    "## **6. Type Conversion**"
   ]
  },
  {
   "cell_type": "code",
   "execution_count": 62,
   "metadata": {},
   "outputs": [
    {
     "name": "stdout",
     "output_type": "stream",
     "text": [
      "19.2\n"
     ]
    }
   ],
   "source": [
    "## Implicit vs Explicit\n",
    "\n",
    "## Inplicit means interpreter does the conversion easily\n",
    "\n",
    "print(10+9.2) ## python himself understood that the result is going to be float"
   ]
  },
  {
   "cell_type": "code",
   "execution_count": 63,
   "metadata": {},
   "outputs": [
    {
     "data": {
      "text/plain": [
       "float"
      ]
     },
     "execution_count": 63,
     "metadata": {},
     "output_type": "execute_result"
    }
   ],
   "source": [
    "type((10+9.2))"
   ]
  },
  {
   "cell_type": "code",
   "execution_count": 68,
   "metadata": {},
   "outputs": [
    {
     "data": {
      "text/plain": [
       "5.0"
      ]
     },
     "execution_count": 68,
     "metadata": {},
     "output_type": "execute_result"
    }
   ],
   "source": [
    "## Explicit Type Conversion\n",
    "\n",
    "## str -> int\n",
    "int(4.5)\n",
    "#type(int(\"4\"))\n",
    "\n",
    "# int -> string \n",
    "\n",
    "str(4)\n",
    "\n",
    "\n",
    "# int to float \n",
    "\n",
    "float(5)\n"
   ]
  },
  {
   "cell_type": "markdown",
   "metadata": {},
   "source": [
    "Now let's complete our Program"
   ]
  },
  {
   "cell_type": "code",
   "execution_count": 69,
   "metadata": {},
   "outputs": [
    {
     "name": "stdout",
     "output_type": "stream",
     "text": [
      "30\n"
     ]
    }
   ],
   "source": [
    "## Lets Write a Program \n",
    "## The Task is to take to number input from the user and do addition \n",
    "\n",
    "# 1. Take input from user and store them in variable\n",
    "# 2.Add the 2 variablers\n",
    "# 3. Print the results\n",
    "\n",
    "first_num=int(input(\"Enter First Number:\")) ## converted to int\n",
    "sec_num=int(input(\"Enter sec Number:\"))\n",
    "\n",
    "print(first_num+sec_num)\n",
    "\n"
   ]
  },
  {
   "cell_type": "markdown",
   "metadata": {},
   "source": [
    "## **7. Operators**"
   ]
  },
  {
   "cell_type": "markdown",
   "metadata": {},
   "source": [
    "- Arithmetic Op --> + - * /\n",
    "- Relational Op --> < > <= >=\n",
    "- Logical Op --> AND OR NOT\n",
    "- Bitwise Op --> Later\n",
    "- Assignment Op --> ==\n",
    "- Membership Op --> Later"
   ]
  },
  {
   "cell_type": "code",
   "execution_count": 70,
   "metadata": {},
   "outputs": [
    {
     "name": "stdout",
     "output_type": "stream",
     "text": [
      "12\n",
      "5\n",
      "30\n",
      "2.5\n",
      "2\n",
      "1\n",
      "25\n"
     ]
    }
   ],
   "source": [
    "## Arithmetic OP\n",
    "print (5+7)\n",
    "print (10-5)\n",
    "print (5*6)\n",
    "print(5/2)\n",
    "print (5//2)  # Int Division \n",
    "print(5%2) # Tells you the reminder\n",
    "print (5**2) ## Square\n"
   ]
  },
  {
   "cell_type": "code",
   "execution_count": null,
   "metadata": {},
   "outputs": [
    {
     "name": "stdout",
     "output_type": "stream",
     "text": [
      "True\n",
      "False\n",
      "True\n",
      "True\n",
      "True\n",
      "False\n"
     ]
    }
   ],
   "source": [
    "## Relational Operators\n",
    "\n",
    "print(5>4)\n",
    "print(4>5)\n",
    "print(4 >= 4)\n",
    "print(3<=3)\n",
    "print(3==3) #=\n",
    "print(2!=2) #not equal to\n",
    "\n"
   ]
  },
  {
   "cell_type": "code",
   "execution_count": 74,
   "metadata": {},
   "outputs": [
    {
     "name": "stdout",
     "output_type": "stream",
     "text": [
      "False\n",
      "True\n",
      "True\n"
     ]
    }
   ],
   "source": [
    "## Logical Operators\n",
    "\n",
    "# AND,OR,NOT\n",
    "\n",
    "# AND -> Both Values are true \n",
    "# Or -> Anyone value True\n",
    "# Not -> reverses \n",
    "\n",
    "x = 10\n",
    "y = 5\n",
    "\n",
    "print(x > 15 and y < 10)  # AND → True (both must be True)\n",
    "print(x > 15 or y < 10)  # OR → True (at least one must be True)\n",
    "print(not(x > 15))        # NOT → False (reverses True to False)\n"
   ]
  },
  {
   "cell_type": "code",
   "execution_count": null,
   "metadata": {},
   "outputs": [],
   "source": [
    "## Assignment Op --> Used to assign values to variables.\n",
    "\n",
    "x = 10  # Assign value\n",
    "x += 5  # Same as x = x + 5 → x becomes 15\n",
    "x -= 3  # Same as x = x - 3 → x becomes 12\n",
    "x *= 2  # Same as x = x * 2 → x becomes 24\n",
    "x /= 4  # Same as x = x / 4 → x becomes 6.0\n",
    "\n",
    "## in python a++ , ++a these are not allowed\n"
   ]
  },
  {
   "cell_type": "code",
   "execution_count": 77,
   "metadata": {},
   "outputs": [
    {
     "name": "stdout",
     "output_type": "stream",
     "text": [
      "False\n",
      "False\n",
      "True\n"
     ]
    }
   ],
   "source": [
    "## Membership Operators --> Membership (in, not in) → Checks if a value exists in a sequence (list, string, etc.)\n",
    "\n",
    "print(\"d\" in \"Dhaka\")\n",
    "print(\"D\" not in \"Dhaka\")\n",
    "\n",
    "print(2 in [2,3,4,5])\n",
    "\n"
   ]
  },
  {
   "cell_type": "markdown",
   "metadata": {},
   "source": [
    "**Prog- 2**"
   ]
  },
  {
   "cell_type": "code",
   "execution_count": 81,
   "metadata": {},
   "outputs": [
    {
     "name": "stdout",
     "output_type": "stream",
     "text": [
      "12\n"
     ]
    }
   ],
   "source": [
    "# Find the sum of a 3 digit number entered by the user\n",
    "\n",
    "number=int(input(\"Enter 3 digits\")) ## 345 ->12\n",
    "\n",
    "a= number % 10 ## 5 ( from 345 )\n",
    "\n",
    "number= number // 10 ## Now number has 34\n",
    "\n",
    "b= number % 10  ## 4 ( from 34 )\n",
    "\n",
    "number= number // 10  ## now number has 3 \n",
    "\n",
    "c= number  ## 3 or You can write only Num as welll\n",
    "\n",
    "print(a+b+c)"
   ]
  },
  {
   "cell_type": "code",
   "execution_count": 80,
   "metadata": {},
   "outputs": [
    {
     "data": {
      "text/plain": [
       "3"
      ]
     },
     "execution_count": 80,
     "metadata": {},
     "output_type": "execute_result"
    }
   ],
   "source": [
    "34//10"
   ]
  },
  {
   "cell_type": "code",
   "execution_count": 79,
   "metadata": {},
   "outputs": [
    {
     "data": {
      "text/plain": [
       "34.5"
      ]
     },
     "execution_count": 79,
     "metadata": {},
     "output_type": "execute_result"
    }
   ],
   "source": [
    "345/10"
   ]
  },
  {
   "cell_type": "code",
   "execution_count": 78,
   "metadata": {},
   "outputs": [
    {
     "data": {
      "text/plain": [
       "34"
      ]
     },
     "execution_count": 78,
     "metadata": {},
     "output_type": "execute_result"
    }
   ],
   "source": [
    "345//10"
   ]
  },
  {
   "cell_type": "markdown",
   "metadata": {},
   "source": [
    "## **8. If-Else**"
   ]
  },
  {
   "cell_type": "code",
   "execution_count": null,
   "metadata": {},
   "outputs": [],
   "source": [
    "## Program is alws executed from top to bottom\n",
    "## Go through the slides to understand the workflow"
   ]
  },
  {
   "cell_type": "code",
   "execution_count": null,
   "metadata": {},
   "outputs": [],
   "source": [
    "# Syntax - Dont Run it\n",
    "\n",
    "if condition:\n",
    "    #Code\n",
    "elif condition:\n",
    "    #Code\n",
    "else:\n",
    "    #Code\n",
    "\n",
    "## Identation is must in python"
   ]
  },
  {
   "cell_type": "code",
   "execution_count": 85,
   "metadata": {},
   "outputs": [
    {
     "name": "stdout",
     "output_type": "stream",
     "text": [
      "The condition is false\n"
     ]
    }
   ],
   "source": [
    "num=10\n",
    "\n",
    "\n",
    "if num > 1000 :\n",
    "    print(\"The condition is true\")\n",
    "else:\n",
    "    print(\"The condition is false\")"
   ]
  },
  {
   "cell_type": "code",
   "execution_count": 88,
   "metadata": {},
   "outputs": [
    {
     "name": "stdout",
     "output_type": "stream",
     "text": [
      "wrong pass or email\n"
     ]
    }
   ],
   "source": [
    "## Login Program \n",
    "# Email -> ds360@gmail.com\n",
    "# Password -> 12345\n",
    "\n",
    "email=input(\"Enter Email:\")\n",
    "password=int(input(\"Enter Password :\"))\n",
    "\n",
    "if email== \"ds360@gmail.com\" and password == 12345:\n",
    "    print(\"Welcome\")\n",
    "else:\n",
    "    print(\"wrong pass or email\")\n"
   ]
  },
  {
   "cell_type": "code",
   "execution_count": 89,
   "metadata": {},
   "outputs": [
    {
     "name": "stdout",
     "output_type": "stream",
     "text": [
      "Wrong Password\n"
     ]
    }
   ],
   "source": [
    "## whenever there are more than 2 conditions we will use elif\n",
    "\n",
    "email=input(\"Enter Email:\")\n",
    "password=int(input(\"Enter Password :\"))\n",
    "\n",
    "if email== \"ds360@gmail.com\" and password == 12345:\n",
    "    print(\"Welcome\")\n",
    "elif email!= \"ds360@gmail.com\" and password == 12345:\n",
    "    print(\"Wrong Email\")\n",
    "elif email== \"ds360@gmail.com\" and password != 12345:\n",
    "    print(\"Wrong Password\")\n",
    "else:\n",
    "    print(\"wrong pass or email\")\n"
   ]
  },
  {
   "cell_type": "code",
   "execution_count": 90,
   "metadata": {},
   "outputs": [
    {
     "name": "stdout",
     "output_type": "stream",
     "text": [
      "Wrong Password\n",
      "Welcome,Finally\n"
     ]
    }
   ],
   "source": [
    "## Nested If-else \n",
    "#what if user was given another chance to enter the password\n",
    "\n",
    "\n",
    "email=input(\"Enter Email:\")\n",
    "password=int(input(\"Enter Password :\"))\n",
    "\n",
    "if email== \"ds360@gmail.com\" and password == 12345:\n",
    "    print(\"Welcome\")\n",
    "elif email!= \"ds360@gmail.com\" and password == 12345:\n",
    "    print(\"Wrong Email\")\n",
    "elif email== \"ds360@gmail.com\" and password != 12345:\n",
    "    print(\"Wrong Password\")\n",
    "    password=int(input(\"Enter Password :\"))\n",
    "    if email== \"ds360@gmail.com\" and password == 12345:\n",
    "        print(\"Welcome,Finally\")\n",
    "    else:\n",
    "        print(\"Again wrong Pass\")\n",
    "else:\n",
    "    print(\"wrong pass or email\")\n",
    "\n"
   ]
  },
  {
   "cell_type": "markdown",
   "metadata": {},
   "source": [
    "### **if - else EXAMPLES**"
   ]
  },
  {
   "cell_type": "markdown",
   "metadata": {},
   "source": [
    "1. Find the min of 3 given numbers\n",
    "2. Calculator"
   ]
  },
  {
   "cell_type": "code",
   "execution_count": null,
   "metadata": {},
   "outputs": [],
   "source": [
    "#min of three numbers\n",
    "# user will input 3 digits , we need to find out which one is the minimum\n",
    "\n",
    "\n",
    "\n",
    "\n",
    "a= int(input('first num')) # 5\n",
    "b= int(input('sec num')) # 4\n",
    "c= int(input('third num')) # 6\n",
    "\n",
    "if a < b and a < c:\n",
    "    print(\"a is the smallest number which is\",a)\n",
    "elif  b < c: # no need of b < a \n",
    "    print(\"b is the smallest number\",b)\n",
    "else:\n",
    "    print(\"c is the smallest number\",c)\n",
    "    \n",
    "    \n",
    "    \n",
    "# Note: This wasn’t shown in class, but if you understand the concepts, you will understand this program as well."
   ]
  },
  {
   "cell_type": "code",
   "execution_count": 91,
   "metadata": {},
   "outputs": [
    {
     "name": "stdout",
     "output_type": "stream",
     "text": [
      "200\n"
     ]
    }
   ],
   "source": [
    "# Calculator\n",
    "\n",
    "num1= int(input(\"enter the first num\"))\n",
    "num2= int(input(\"enter the sec num\"))\n",
    "\n",
    "## Now we want to ask the user that what op we are trying to do on thse numbers \n",
    "# plus minus mul div?\n",
    "\n",
    "op = input(\"Enter The Operation\") # So user may press +, - ,* , /\n",
    "\n",
    "if op == '+':\n",
    "    print(num1+num2)\n",
    "elif op== '-':\n",
    "    print(num1-num2)\n",
    "elif op=='*':\n",
    "    print(num1*num2)\n",
    "elif op==\"/\":\n",
    "    print(num1/num2)\n",
    "else :\n",
    "    print(\"Invalid Input\")"
   ]
  }
 ],
 "metadata": {
  "kernelspec": {
   "display_name": "Python 3",
   "language": "python",
   "name": "python3"
  },
  "language_info": {
   "codemirror_mode": {
    "name": "ipython",
    "version": 3
   },
   "file_extension": ".py",
   "mimetype": "text/x-python",
   "name": "python",
   "nbconvert_exporter": "python",
   "pygments_lexer": "ipython3",
   "version": "3.13.3"
  }
 },
 "nbformat": 4,
 "nbformat_minor": 2
}
