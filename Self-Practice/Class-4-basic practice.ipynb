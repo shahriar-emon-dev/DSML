{
 "cells": [
  {
   "cell_type": "markdown",
   "id": "cf8cecc4",
   "metadata": {},
   "source": [
    "### **Tuples:**"
   ]
  },
  {
   "cell_type": "markdown",
   "id": "5e888981",
   "metadata": {},
   "source": [
    "**1. Create a tuple with 5 elements and print the second element.**"
   ]
  },
  {
   "cell_type": "code",
   "execution_count": 4,
   "id": "2300c05e",
   "metadata": {},
   "outputs": [
    {
     "name": "stdout",
     "output_type": "stream",
     "text": [
      "Tuples:  {('Apple', 'Banana', 'Orange', 'Cherry', 'Date')}\n",
      "Second Element: Banana\n"
     ]
    }
   ],
   "source": [
    "fruits = (\"Apple\", \"Banana\", \"Orange\", \"Cherry\", \"Date\")\n",
    "\n",
    "print(\"Tuples: \", {fruits})\n",
    "print(f\"Second Element: {fruits[1]}\")"
   ]
  },
  {
   "cell_type": "markdown",
   "id": "0882f41a",
   "metadata": {},
   "source": [
    "**2. Create a tuple of numbers and find the maximum and minimum values in the tuple.**"
   ]
  },
  {
   "cell_type": "code",
   "execution_count": 7,
   "id": "f5b5be45",
   "metadata": {},
   "outputs": [
    {
     "name": "stdout",
     "output_type": "stream",
     "text": [
      "Numbers in tuples:  (45, 12, 67, 89, 200, 566, 92)\n",
      "The maximum number is: 566\n",
      "The maximum number is: 12\n"
     ]
    }
   ],
   "source": [
    "numbers = (45, 12, 67, 89, 200, 566, 92)\n",
    "\n",
    "print(f\"Numbers in tuples: \", numbers)\n",
    "print(f\"The maximum number is: {max(numbers)}\")\n",
    "print(f\"The maximum number is: {min(numbers)}\")"
   ]
  },
  {
   "cell_type": "markdown",
   "id": "fd55d530",
   "metadata": {},
   "source": [
    "**3. Create a tuple with mixed data types (int, string, float) and print each element using a loop.**"
   ]
  },
  {
   "cell_type": "code",
   "execution_count": null,
   "id": "98047e56",
   "metadata": {},
   "outputs": [
    {
     "name": "stdout",
     "output_type": "stream",
     "text": [
      "The mixed data in tuples:  (12, 'shahriar', 44.44, 'Emon')\n",
      "Index 0: 12 (type: int)\n",
      "Index 1: shahriar (type: str)\n",
      "Index 2: 44.44 (type: float)\n",
      "Index 3: Emon (type: str)\n"
     ]
    }
   ],
   "source": [
    "mixed_data = (12, \"shahriar\", 44.44, \"Emon\")\n",
    "\n",
    "print(\"The mixed data in tuples: \", mixed_data)\n",
    "\n",
    "for i, element in enumerate(mixed_data):\n",
    "    print(f\"Index {i}: {element} (type: {type(element).__name__})\")\n",
    "    "
   ]
  },
  {
   "cell_type": "markdown",
   "id": "ed2d0f9d",
   "metadata": {},
   "source": [
    "**4. Try to modify an element in a tuple and see what happens!**"
   ]
  },
  {
   "cell_type": "code",
   "execution_count": 14,
   "id": "723785d4",
   "metadata": {},
   "outputs": [
    {
     "name": "stdout",
     "output_type": "stream",
     "text": [
      "(12, 23, 45, 67, 89, 90)\n",
      "{TypeError(\"'tuple' object does not support item assignment\")}\n",
      "(12, 23, 45, 67, 89, 90)\n"
     ]
    }
   ],
   "source": [
    "digits = (12, 23, 45, 67, 89, 90)\n",
    "\n",
    "print(digits)\n",
    "\n",
    "try:\n",
    "    digits[0] = 100\n",
    "except TypeError as e:\n",
    "    print({e})\n",
    "\n",
    "print(digits)"
   ]
  },
  {
   "cell_type": "markdown",
   "id": "a406949f",
   "metadata": {},
   "source": [
    "**5. Create a tuple with 3 names and concatenate it with another tuple of 3 more names.**"
   ]
  },
  {
   "cell_type": "code",
   "execution_count": null,
   "id": "50554dc9",
   "metadata": {},
   "outputs": [
    {
     "name": "stdout",
     "output_type": "stream",
     "text": [
      "('Shahriar', 'Emon', 'sakib') ('shourov', 'Awal', 'Asad')\n"
     ]
    }
   ],
   "source": [
    "names1 = (\"Shahriar\", \"Emon\", \"sakib\")\n",
    "names2 = (\"shourov\", \"Awal\", \"Asad\", )\n",
    "\n",
    "print(names1, names2)\n"
   ]
  },
  {
   "cell_type": "markdown",
   "id": "325a3126",
   "metadata": {},
   "source": [
    "#**6. Find the index of a particular element in a tuple.**"
   ]
  },
  {
   "cell_type": "code",
   "execution_count": 6,
   "id": "b2b58c64",
   "metadata": {},
   "outputs": [
    {
     "name": "stdout",
     "output_type": "stream",
     "text": [
      "('red', 'White', 'black', 'blue', 'yellow', 'green')\n",
      "The finding element is black in index:  2\n"
     ]
    }
   ],
   "source": [
    "colors = (\"red\", \"White\", \"black\", \"blue\", \"yellow\", \"green\")\n",
    "\n",
    "print(colors)\n",
    "\n",
    "findings = \"black\"\n",
    "\n",
    "if findings in colors:\n",
    "    index = colors.index(findings)\n",
    "print(f\"The finding element is {findings} in index: \",index)"
   ]
  },
  {
   "cell_type": "markdown",
   "id": "2548e0b4",
   "metadata": {},
   "source": [
    "**7. Create a tuple with repeated values and count how many times a specific element appears.**"
   ]
  },
  {
   "cell_type": "code",
   "execution_count": 15,
   "id": "32f65bc1",
   "metadata": {},
   "outputs": [
    {
     "name": "stdout",
     "output_type": "stream",
     "text": [
      "Repeated Tuples: (1, 4, 2, 4, 3, 4, 3, 5, 8, 9, 5, 6)\n",
      "The repeated counting occurance of: 4\n",
      "The targeted number 4 appears 3 times\n"
     ]
    }
   ],
   "source": [
    "repeated_tuples =(1, 4, 2, 4, 3, 4, 3, 5, 8, 9, 5, 6)\n",
    "\n",
    "target_number = 4\n",
    "\n",
    "print(f\"Repeated Tuples: {repeated_tuples}\")\n",
    "print(f\"The repeated counting occurance of: {target_number}\")\n",
    "\n",
    "count = repeated_tuples.count(target_number)\n",
    "print(f\"The targeted number {target_number} appears {count} times\")"
   ]
  },
  {
   "cell_type": "markdown",
   "id": "68772dfd",
   "metadata": {},
   "source": [
    "**8. Create a tuple and access its last element.**"
   ]
  },
  {
   "cell_type": "code",
   "execution_count": 18,
   "id": "e2ff3fd4",
   "metadata": {},
   "outputs": [
    {
     "name": "stdout",
     "output_type": "stream",
     "text": [
      "Created tuples: (1, 2, 3, 4, 5, 6, 7, 8)\n",
      "The last Element is: 8\n",
      "The last Element is: 8\n"
     ]
    }
   ],
   "source": [
    "numbers = (1, 2, 3, 4, 5, 6, 7, 8)\n",
    "\n",
    "print(f\"Created tuples: {numbers}\")\n",
    "\n",
    "#We can access the last element with two ways\n",
    "\n",
    "# First Way\n",
    "\n",
    "print(f\"The last Element is: {numbers[-1]}\")\n",
    "\n",
    "#second way\n",
    "\n",
    "print(f\"The last Element is: {numbers[len(numbers) -1]}\")"
   ]
  },
  {
   "cell_type": "markdown",
   "id": "890d1b1b",
   "metadata": {},
   "source": [
    "**9. Create a tuple of 3 numbers and use a loop to calculate the sum of the elements.**"
   ]
  },
  {
   "cell_type": "code",
   "execution_count": 22,
   "id": "306483d2",
   "metadata": {},
   "outputs": [
    {
     "name": "stdout",
     "output_type": "stream",
     "text": [
      "Numbers: (44, 43, 50)\n",
      "the sum is: 137\n",
      "The sum is: 137\n"
     ]
    }
   ],
   "source": [
    "\n",
    "numbers = (44, 43, 50)\n",
    "\n",
    "print(f\"Numbers: {numbers}\")\n",
    "\n",
    "# First way to solve this problem\n",
    "\n",
    "total = 0\n",
    "\n",
    "for number in numbers:\n",
    "    total += number\n",
    "print(f\"the sum is: {total}\")\n",
    "\n",
    "\n",
    "# built in sum function \n",
    "\n",
    "sum_of_numbers = sum(numbers)\n",
    "print(f\"The sum is: {sum_of_numbers}\")\n"
   ]
  },
  {
   "cell_type": "markdown",
   "id": "8eab0dae",
   "metadata": {},
   "source": [
    "**10. Convert a list to a tuple and print it.**"
   ]
  },
  {
   "cell_type": "code",
   "execution_count": 26,
   "id": "41af131e",
   "metadata": {},
   "outputs": [
    {
     "name": "stdout",
     "output_type": "stream",
     "text": [
      "The list: [1, 2, 3, 4, 5, 6, 7] (type: list)\n",
      "converted tuples: (1, 2, 3, 4, 5, 6, 7) (type: tuple)\n"
     ]
    }
   ],
   "source": [
    "the_list = [1, 2, 3, 4, 5, 6, 7]\n",
    "print(f\"The list: {the_list} (type: {type(the_list).__name__})\")\n",
    "\n",
    "\n",
    "# converting list to tuples\n",
    "\n",
    "converted_tuples = tuple(the_list)\n",
    "print(f\"converted tuples: {converted_tuples} (type: {type(converted_tuples).__name__})\")\n"
   ]
  },
  {
   "cell_type": "markdown",
   "id": "6283d3f3",
   "metadata": {},
   "source": [
    "### **Sets:**"
   ]
  },
  {
   "cell_type": "markdown",
   "id": "5dd474db",
   "metadata": {},
   "source": [
    "**1. Create a set with 5 numbers and print it.**"
   ]
  },
  {
   "cell_type": "code",
   "execution_count": 29,
   "id": "277e3edc",
   "metadata": {},
   "outputs": [
    {
     "name": "stdout",
     "output_type": "stream",
     "text": [
      "Name in this set: {1, 2, 3, 4, 5}\n"
     ]
    }
   ],
   "source": [
    "num_set = {1, 2, 3, 4, 5}\n",
    "\n",
    "print(f\"Name in this set: {num_set}\")\n",
    "\n"
   ]
  },
  {
   "cell_type": "markdown",
   "id": "45358e05",
   "metadata": {},
   "source": [
    "**2. Add a new element to a set and print the updated set.**"
   ]
  },
  {
   "cell_type": "code",
   "execution_count": 32,
   "id": "3c151dad",
   "metadata": {},
   "outputs": [
    {
     "name": "stdout",
     "output_type": "stream",
     "text": [
      "Name of this set: {'Awal', 'Sakib', 'Shourov', 'shahriar', 'Emon'}\n",
      "Updated Set after adding(nill): {'Awal', 'Sakib', 'Shourov', 'shahriar', 'Emon', 'Nill'}\n"
     ]
    }
   ],
   "source": [
    "name_set = {\"shahriar\", \"Emon\", \"Sakib\", \"Shourov\", \"Awal\"}\n",
    "\n",
    "print(f\"Name of this set: {name_set}\")\n",
    "\n",
    "name_set.add(\"Nill\")\n",
    "print(f\"Updated Set after adding(nill): {name_set}\")"
   ]
  },
  {
   "cell_type": "markdown",
   "id": "992f5203",
   "metadata": {},
   "source": [
    "**3. Remove an element from a set using `remove()` and print the set.**"
   ]
  },
  {
   "cell_type": "code",
   "execution_count": 40,
   "id": "ac28c895",
   "metadata": {},
   "outputs": [
    {
     "name": "stdout",
     "output_type": "stream",
     "text": [
      "Name of this set: {'Awal', 'Sakib', 'Shourov', 'shahriar', 'Emon'}\n",
      "After removing element: {'Sakib', 'Shourov', 'shahriar', 'Emon'}\n"
     ]
    }
   ],
   "source": [
    "name_set = {\"shahriar\", \"Emon\", \"Sakib\", \"Shourov\", \"Awal\"}\n",
    "\n",
    "print(f\"Name of this set: {name_set}\")\n",
    "\n",
    "\n",
    "name_set.remove(\"Awal\")\n",
    "print(f\"After removing element: {name_set}\")"
   ]
  },
  {
   "cell_type": "markdown",
   "id": "7f7fae06",
   "metadata": {},
   "source": [
    "**4. Use the `pop()` method to remove and print a random element from a set.**"
   ]
  },
  {
   "cell_type": "code",
   "execution_count": 42,
   "id": "c9dfd01c",
   "metadata": {},
   "outputs": [
    {
     "name": "stdout",
     "output_type": "stream",
     "text": [
      "Remove element: cat\n",
      "Updated set: {'bird', 'dog', 'rabbit', 'fish'}\n"
     ]
    }
   ],
   "source": [
    "animals_set = {\"cat\", \"dog\", \"bird\", \"fish\", \"rabbit\"}\n",
    "\n",
    "remove_animal = animals_set.pop()\n",
    "\n",
    "print(f\"Remove element: {remove_animal}\")\n",
    "print(f\"Updated set: {animals_set}\")"
   ]
  },
  {
   "cell_type": "markdown",
   "id": "82c7ddbe",
   "metadata": {},
   "source": [
    "**5. Create a set with duplicate elements and print it to show that duplicates are removed.**"
   ]
  },
  {
   "cell_type": "code",
   "execution_count": null,
   "id": "1e220cfe",
   "metadata": {},
   "outputs": [
    {
     "name": "stdout",
     "output_type": "stream",
     "text": [
      "After conversion: {1, 2, 3, 4, 5}\n"
     ]
    }
   ],
   "source": [
    "# duplicate_numbers = {1, 2, 3, 2, 4, 1, 5, 3}\n",
    "\n",
    "# print(f\"set with duplicate numbers: {duplicate_numbers}\")\n",
    "\n",
    "# print(f\"Unique elements count: {len(duplicate_numbers)}\")\n",
    "\n",
    "\n",
    "original_list = [1, 2, 2, 3, 3, 3, 4, 4, 5]\n",
    "unique_set = set(original_list)\n",
    "\n",
    "unique_list = list(unique_set)\n",
    "print(f\"After conversion: {unique_set}\")\n",
    "\n"
   ]
  },
  {
   "cell_type": "markdown",
   "id": "ad6b5d5d",
   "metadata": {},
   "source": [
    "**6. Check if a specific number is present in a set.**"
   ]
  },
  {
   "cell_type": "code",
   "execution_count": 49,
   "id": "cb3cb8f6",
   "metadata": {},
   "outputs": [
    {
     "name": "stdout",
     "output_type": "stream",
     "text": [
      "Animals: {'cat', 'bird', 'dog', 'rabbit', 'fish'}\n",
      "cat is in set\n",
      "bird is in set\n",
      "dog is in set\n",
      "rabbit is in set\n",
      "fish is in set\n"
     ]
    }
   ],
   "source": [
    "animals_set = {\"cat\", \"dog\", \"bird\", \"fish\", \"rabbit\"}\n",
    "\n",
    "print(f\"Animals: {animals_set}\")\n",
    "\n",
    "check_animal = [\"cat\", \"dog\", \"bird\", \"fish\", \"rabbit\"]\n",
    "for animal in animals_set:\n",
    "    if animal in animals_set:\n",
    "        print(f\"{animal} is in set\")\n",
    "    else:\n",
    "        print(f\"{animal} is not in the set\")"
   ]
  },
  {
   "cell_type": "markdown",
   "id": "0158d119",
   "metadata": {},
   "source": [
    "**7. Perform a union of two sets and print the result.**"
   ]
  },
  {
   "cell_type": "code",
   "execution_count": 55,
   "id": "fa39e7d4",
   "metadata": {},
   "outputs": [
    {
     "name": "stdout",
     "output_type": "stream",
     "text": [
      "The union result: {1, 2, 3, 4, 5, 6, 7, 8, 9}\n",
      "using union method.\n",
      " The union using union method: {1, 2, 3, 4, 5, 6, 7, 8, 9}\n"
     ]
    }
   ],
   "source": [
    "set1 = {1, 2, 3, 4, 9, 3}\n",
    "set2 = {3, 4, 5, 6, 7, 8}\n",
    "\n",
    "\n",
    "union_result = set1 | set2\n",
    "print(f\"The union result: {union_result}\")\n",
    "\n",
    "\n",
    "print(\"using union method.\")\n",
    "\n",
    "union_method = set1.union(set2)\n",
    "print(f\" The union using union method: {union_method}\")"
   ]
  },
  {
   "cell_type": "markdown",
   "id": "22c893eb",
   "metadata": {},
   "source": [
    "**8. Find the intersection of two sets and print the result.**"
   ]
  },
  {
   "cell_type": "code",
   "execution_count": 59,
   "id": "01532915",
   "metadata": {},
   "outputs": [
    {
     "name": "stdout",
     "output_type": "stream",
     "text": [
      "{1, 2, 3, 4, 9} {3, 4, 5, 6, 7, 8}\n",
      "The result using the intersection method: {3, 4}\n",
      "The result using opretor: {3, 4}\n"
     ]
    }
   ],
   "source": [
    "set1 = {1, 2, 3, 4, 9, 3}\n",
    "set2 = {3, 4, 5, 6, 7, 8}\n",
    "\n",
    "print(set1, set2)\n",
    "\n",
    "intersection_method = set1.intersection(set2)\n",
    "intersection_res = set1 & set2\n",
    "\n",
    "print(f\"The result using the intersection method: {intersection_method}\")\n",
    "print(f\"The result using opretor: {intersection_res}\")"
   ]
  },
  {
   "cell_type": "markdown",
   "id": "213bfe35",
   "metadata": {},
   "source": [
    "**9. Create two sets and find the difference between them.**"
   ]
  },
  {
   "cell_type": "code",
   "execution_count": null,
   "id": "dcd89147",
   "metadata": {},
   "outputs": [
    {
     "name": "stdout",
     "output_type": "stream",
     "text": [
      "{'Ramim', 'Shahriar', 'Emon', 'Nasim', 'Imon', 'Tahia'} {'Emon', 'Tahia'}\n"
     ]
    },
    {
     "data": {
      "text/plain": [
       "{'Imon', 'Nasim', 'Ramim', 'Shahriar'}"
      ]
     },
     "execution_count": 2,
     "metadata": {},
     "output_type": "execute_result"
    }
   ],
   "source": [
    "all_employee = {\"Shahriar\", \"Emon\", \"Nasim\", \"Tahia\", \"Ramim\", \"Imon\"}\n",
    "remote_employee = {\"Tahia\", \"Emon\"}\n",
    "\n",
    "print(all_employee, remote_employee)\n",
    "\n",
    "employee = all_employee - remote_employee\n",
    "employee\n",
    "\n"
   ]
  },
  {
   "cell_type": "markdown",
   "id": "30219537",
   "metadata": {},
   "source": [
    "**10. Iterate over a set and print each element.**"
   ]
  },
  {
   "cell_type": "code",
   "execution_count": 6,
   "id": "a3274c03",
   "metadata": {},
   "outputs": [
    {
     "name": "stdout",
     "output_type": "stream",
     "text": [
      "Cities: {'Cumilla', 'Syllet', 'Chittagong', 'Rajshahi', 'Dhaka'}\n",
      " 1. Cumilla\n",
      " 2. Syllet\n",
      " 3. Chittagong\n",
      " 4. Rajshahi\n",
      " 5. Dhaka\n"
     ]
    }
   ],
   "source": [
    "cities = {\"Dhaka\", \"Chittagong\", \"Cumilla\", \"Syllet\", \"Rajshahi\"}\n",
    "\n",
    "print(f\"Cities: {cities}\")\n",
    "\n",
    "for i, city in enumerate(cities, 1):\n",
    "    print(f\" {i}. {city}\")"
   ]
  },
  {
   "cell_type": "markdown",
   "id": "69e51e05",
   "metadata": {},
   "source": [
    "### **Dictionaries:**"
   ]
  },
  {
   "cell_type": "markdown",
   "id": "5b9ee8e6",
   "metadata": {},
   "source": [
    "**1. Create a dictionary with 3 key-value pairs and print it.**"
   ]
  },
  {
   "cell_type": "code",
   "execution_count": 9,
   "id": "450855ae",
   "metadata": {},
   "outputs": [
    {
     "data": {
      "text/plain": [
       "{'name': 'Shahriar Emon', 'Id': 223071044, 'Major': 'Data Science'}"
      ]
     },
     "execution_count": 9,
     "metadata": {},
     "output_type": "execute_result"
    }
   ],
   "source": [
    "student = {\n",
    "    \"name\": \"Shahriar Emon\",\n",
    "    \"Id\" : 223071044,\n",
    "    \"Major\": \"Data Science\"\n",
    "}\n",
    "student\n"
   ]
  },
  {
   "cell_type": "markdown",
   "id": "41b45ddc",
   "metadata": {},
   "source": [
    "**2. Access a value from a dictionary using its key.**"
   ]
  },
  {
   "cell_type": "code",
   "execution_count": 15,
   "id": "a3cf0b01",
   "metadata": {},
   "outputs": [
    {
     "name": "stdout",
     "output_type": "stream",
     "text": [
      "dictionary: {'name': 'Shahriar Emon', 'Id': 223071044, 'Major': 'Data Science'}\n",
      "Name: Shahriar Emon\n",
      "Dictionary: {'name': 'Shahriar Emon', 'Id': 223071044, 'Major': 'Data Science'}\n",
      "Student Name: Shahriar Emon\n"
     ]
    }
   ],
   "source": [
    "student = {\n",
    "    \"name\": \"Shahriar Emon\",\n",
    "    \"Id\" : 223071044,\n",
    "    \"Major\": \"Data Science\"\n",
    "}\n",
    "print(f\"dictionary: {student}\")\n",
    "print(f\"Name: {student['name']}\")\n",
    "\n",
    "\n",
    "# .get() method\n",
    "student = {\n",
    "    \"name\": \"Shahriar Emon\",\n",
    "    \"Id\" : 223071044,\n",
    "    \"Major\": \"Data Science\"\n",
    "}\n",
    "\n",
    "print(f\"Dictionary: {student}\")\n",
    "print(f\"Student Name: {student.get('name')}\")\n"
   ]
  },
  {
   "cell_type": "markdown",
   "id": "9e5aecfe",
   "metadata": {},
   "source": [
    "**3. Add a new key-value pair to an existing dictionary and print the dictionary.**"
   ]
  },
  {
   "cell_type": "code",
   "execution_count": 17,
   "id": "bb8dbc7e",
   "metadata": {},
   "outputs": [
    {
     "name": "stdout",
     "output_type": "stream",
     "text": [
      "Student information: {'name': 'Shahriar emon', 'id': 223072044, 'major': 'Data Science'}\n",
      "After adding age and contact: {'name': 'Shahriar emon', 'id': 223072044, 'major': 'Data Science', 'age': 23, 'contact': 'shahriaremon964@gmail.com'}\n"
     ]
    }
   ],
   "source": [
    "student = {\n",
    "    \"name\": \"Shahriar emon\",\n",
    "    \"id\": 223072044,\n",
    "    \"major\": \"Data Science\" \n",
    "}\n",
    "\n",
    "print(f\"Student information: {student}\")\n",
    "\n",
    "student[\"age\"] = 23\n",
    "student['contact'] = \"shahriaremon964@gmail.com\"\n",
    "\n",
    "print(f\"After adding age and contact: {student}\")"
   ]
  },
  {
   "cell_type": "markdown",
   "id": "8a6abad9",
   "metadata": {},
   "source": [
    "**4. Update the value of an existing key and print the updated dictionary.**"
   ]
  },
  {
   "cell_type": "code",
   "execution_count": 19,
   "id": "f54331a2",
   "metadata": {},
   "outputs": [
    {
     "name": "stdout",
     "output_type": "stream",
     "text": [
      "Original dictionary: {'name': 'Shahriar emon', 'id': 223072044, 'major': 'Data Science'}\n",
      "After updating the value of name, major: {'name': 'Al Shahriar Emon', 'id': 223072044, 'major': 'Data Science and Machine Learning'}\n"
     ]
    }
   ],
   "source": [
    "student = {\n",
    "    \"name\": \"Shahriar emon\",\n",
    "    \"id\": 223072044,\n",
    "    \"major\": \"Data Science\" \n",
    "}\n",
    "print(f\"Original dictionary: {student}\")\n",
    "student['name'] = \"Al Shahriar Emon\"\n",
    "student['major'] = \"Data Science and Machine Learning\"\n",
    "\n",
    "\n",
    "print(f\"After updating the value of name, major: {student}\")"
   ]
  },
  {
   "cell_type": "markdown",
   "id": "5d2b72dc",
   "metadata": {},
   "source": [
    "**5. Remove a key-value pair from a dictionary using `del` and print the dictionary.**"
   ]
  },
  {
   "cell_type": "code",
   "execution_count": 23,
   "id": "fdbcf164",
   "metadata": {},
   "outputs": [
    {
     "name": "stdout",
     "output_type": "stream",
     "text": [
      "Original information: {'title': 'Python for Data Science', 'author': 'Shahriar', 'isbn': '978-1234567890', 'pages': 350, 'price': 29.99, 'publisher': 'Tech Books'}\n",
      "After removing the isbn: {'title': 'Python for Data Science', 'author': 'Shahriar', 'pages': 350, 'price': 29.99, 'publisher': 'Tech Books'}\n"
     ]
    }
   ],
   "source": [
    "book_info = {\n",
    "    \"title\": \"Python for Data Science\",\n",
    "    \"author\": \"Shahriar\",\n",
    "    \"isbn\": \"978-1234567890\",\n",
    "    \"pages\": 350,\n",
    "    \"price\": 29.99,\n",
    "    \"publisher\": \"Tech Books\"\n",
    "}\n",
    "\n",
    "print(f\"Original information: {book_info}\")\n",
    "\n",
    "del book_info['isbn']\n",
    "print(f\"After removing the isbn: {book_info}\")\n"
   ]
  },
  {
   "cell_type": "markdown",
   "id": "7bb34b12",
   "metadata": {},
   "source": [
    "**6. Use the `pop()` method to remove and return a value from a dictionary.**"
   ]
  },
  {
   "cell_type": "code",
   "execution_count": 27,
   "id": "9ff0729f",
   "metadata": {},
   "outputs": [
    {
     "name": "stdout",
     "output_type": "stream",
     "text": [
      "Original inventory: {'apples': 50, 'bananas': 30, 'oranges': 25, 'grapes': 40}\n",
      "Removed apples: 50\n",
      "updated inventory: {'bananas': 30, 'oranges': 25, 'grapes': 40}\n"
     ]
    }
   ],
   "source": [
    "inventory_kg= {\n",
    "    \"apples\": 50,\n",
    "    \"bananas\": 30,\n",
    "    \"oranges\": 25,\n",
    "    \"grapes\": 40\n",
    "}\n",
    "print(f\"Original inventory: {inventory_kg}\")\n",
    "\n",
    "apple_count = inventory_kg.pop(\"apples\")\n",
    "print(f\"Removed apples: {apple_count}\")\n",
    "print(f\"updated inventory: {inventory_kg}\")"
   ]
  },
  {
   "cell_type": "markdown",
   "id": "c5b8661a",
   "metadata": {},
   "source": [
    "**7. Get all keys from a dictionary and print them.**"
   ]
  },
  {
   "cell_type": "code",
   "execution_count": 30,
   "id": "217f4940",
   "metadata": {},
   "outputs": [
    {
     "name": "stdout",
     "output_type": "stream",
     "text": [
      "Student Result: {'shahriar': 85, 'Emon': 75, 'Nasim': 80, 'Tahia': 76, 'Ramim': 78}\n",
      "All Keys are : ['shahriar', 'Emon', 'Nasim', 'Tahia', 'Ramim']\n"
     ]
    }
   ],
   "source": [
    "student_result ={\n",
    "    \"shahriar\" : 85,\n",
    "    \"Emon\" : 75,\n",
    "    \"Nasim\" : 80,\n",
    "    \"Tahia\" : 76,\n",
    "    \"Ramim\" : 78\n",
    "}\n",
    "\n",
    "print(f\"Student Result: {student_result}\")\n",
    "\n",
    "all_key = student_result.keys()\n",
    "print(f\"All Keys are : {list(all_key)}\")"
   ]
  },
  {
   "cell_type": "markdown",
   "id": "1e30416a",
   "metadata": {},
   "source": [
    "**8. Get all values from a dictionary and print them.**"
   ]
  },
  {
   "cell_type": "code",
   "execution_count": 32,
   "id": "7959666c",
   "metadata": {},
   "outputs": [
    {
     "name": "stdout",
     "output_type": "stream",
     "text": [
      "Student results(values): dict_values([85, 75, 80, 76, 78])\n",
      "Student results(values): 85\n",
      "Student results(values): 75\n"
     ]
    }
   ],
   "source": [
    "student_result ={\n",
    "    \"shahriar\" : 85,\n",
    "    \"Emon\" : 75,\n",
    "    \"Nasim\" : 80,\n",
    "    \"Tahia\" : 76,\n",
    "    \"Ramim\" : 78\n",
    "}\n",
    "all_values = student_result.values()\n",
    "print(f\"Student results(values): {all_values}\")\n",
    "\n",
    "#max\n",
    "\n",
    "print(f\"Student results(values): {max(all_values)}\")\n",
    "#min\n",
    "\n",
    "print(f\"Student results(values): {min(all_values)}\")"
   ]
  },
  {
   "cell_type": "markdown",
   "id": "06fe86f1",
   "metadata": {},
   "source": [
    "**9. Create a dictionary with names and ages, and find the average age.**"
   ]
  },
  {
   "cell_type": "code",
   "execution_count": 36,
   "id": "1a01b6f0",
   "metadata": {},
   "outputs": [
    {
     "name": "stdout",
     "output_type": "stream",
     "text": [
      "Name and ages: {'shahriar': 23, 'Emon': 24, 'Nasim': 25, 'Tahia': 25, 'Ramim': 27}\n",
      "Average age:   24.80\n"
     ]
    }
   ],
   "source": [
    "name_ages = {\n",
    "    \"shahriar\" : 23,\n",
    "    \"Emon\" : 24,\n",
    "    \"Nasim\" : 25,\n",
    "    \"Tahia\" : 25,\n",
    "    \"Ramim\" : 27\n",
    "}\n",
    "\n",
    "print(f\"Name and ages: {name_ages}\")\n",
    "\n",
    "ages = list(name_ages.values())\n",
    "total_ages = sum(ages)\n",
    "num_people = len(name_ages)\n",
    "average_age = total_ages / num_people\n",
    "print(f\"Average age:  {average_age: .2f}\")"
   ]
  },
  {
   "cell_type": "markdown",
   "id": "96362bd2",
   "metadata": {},
   "source": [
    "**10. Check if a specific key exists in the dictionary and print the result.**"
   ]
  },
  {
   "cell_type": "code",
   "execution_count": 42,
   "id": "4f87268b",
   "metadata": {},
   "outputs": [
    {
     "name": "stdout",
     "output_type": "stream",
     "text": [
      "Movie ratings: {'The Matrix': 8.7, 'Inception': 8.8, 'Interstellar': 8.6, 'The Dark Knight': 9.0, 'Pulp Fiction': 8.9}\n",
      "Checking movie existence:\n",
      " Inception: 8.8/10\n",
      " Avatar: Not in database\n",
      " The Matrix: 8.7/10\n",
      " Titanic: Not in database\n"
     ]
    }
   ],
   "source": [
    "movie_ratings = {\n",
    "    \"The Matrix\": 8.7,\n",
    "    \"Inception\": 8.8,\n",
    "    \"Interstellar\": 8.6,\n",
    "    \"The Dark Knight\": 9.0,\n",
    "    \"Pulp Fiction\": 8.9\n",
    "}\n",
    "\n",
    "print(f\"Movie ratings: {movie_ratings}\")\n",
    "\n",
    "movies_to_check = [\"Inception\", \"Avatar\", \"The Matrix\", \"Titanic\"]\n",
    "\n",
    "print(\"Checking movie existence:\")\n",
    "for movie in movies_to_check:\n",
    "    if movie in movie_ratings:\n",
    "        rating = movie_ratings[movie]\n",
    "        print(f\" {movie}: {rating}/10\")\n",
    "    else:\n",
    "        print(f\" {movie}: Not in database\")"
   ]
  }
 ],
 "metadata": {
  "kernelspec": {
   "display_name": "Python 3",
   "language": "python",
   "name": "python3"
  },
  "language_info": {
   "codemirror_mode": {
    "name": "ipython",
    "version": 3
   },
   "file_extension": ".py",
   "mimetype": "text/x-python",
   "name": "python",
   "nbconvert_exporter": "python",
   "pygments_lexer": "ipython3",
   "version": "3.13.3"
  }
 },
 "nbformat": 4,
 "nbformat_minor": 5
}
