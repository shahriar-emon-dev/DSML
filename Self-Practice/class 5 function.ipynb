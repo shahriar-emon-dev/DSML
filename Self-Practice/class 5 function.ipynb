{
 "cells": [
  {
   "cell_type": "markdown",
   "id": "78e7faed",
   "metadata": {},
   "source": [
    "### **Function Questions:**"
   ]
  },
  {
   "cell_type": "markdown",
   "id": "46ce0cbc",
   "metadata": {},
   "source": [
    "1. Write a function that takes two numbers and returns their sum.  "
   ]
  },
  {
   "cell_type": "code",
   "execution_count": 2,
   "id": "dac3f84a",
   "metadata": {},
   "outputs": [],
   "source": [
    "def add_numbers(a, b):\n",
    "    return a + b"
   ]
  },
  {
   "cell_type": "markdown",
   "id": "da7fdb74",
   "metadata": {},
   "source": [
    "2. Write a function that prints \"Hello, World!\" when called."
   ]
  },
  {
   "cell_type": "code",
   "execution_count": 6,
   "id": "c8998831",
   "metadata": {},
   "outputs": [],
   "source": [
    "def say_hello():\n",
    "    print(\"Hello World!\")\n",
    "# print(say_hello())"
   ]
  },
  {
   "cell_type": "markdown",
   "id": "9f8b1152",
   "metadata": {},
   "source": [
    "3. Write a function that takes a name and prints \"Hello, `<name>`!\". "
   ]
  },
  {
   "cell_type": "code",
   "execution_count": 9,
   "id": "3e20bc0f",
   "metadata": {},
   "outputs": [
    {
     "name": "stdout",
     "output_type": "stream",
     "text": [
      "Hello Shahriar\n"
     ]
    }
   ],
   "source": [
    "def greet(name):\n",
    "    return f\"Hello {name}\"\n",
    "\n",
    "print(greet(\"Shahriar\"))"
   ]
  },
  {
   "cell_type": "markdown",
   "id": "7c7a4eaf",
   "metadata": {},
   "source": [
    "4. Write a function that returns the square of a number."
   ]
  },
  {
   "cell_type": "code",
   "execution_count": 12,
   "id": "54c3cd0c",
   "metadata": {},
   "outputs": [
    {
     "name": "stdout",
     "output_type": "stream",
     "text": [
      "25\n"
     ]
    }
   ],
   "source": [
    "\"\"\"def square(x):\n",
    "    return x * x\n",
    "print(square(5))\"\"\"\n",
    "\n",
    "def square(x):\n",
    "    return x ** 2\n",
    "print(square(5))"
   ]
  },
  {
   "cell_type": "markdown",
   "id": "3033b07f",
   "metadata": {},
   "source": [
    "5. Write a function that checks if a number is even or odd."
   ]
  },
  {
   "cell_type": "code",
   "execution_count": 14,
   "id": "e12d3f69",
   "metadata": {},
   "outputs": [
    {
     "name": "stdout",
     "output_type": "stream",
     "text": [
      "even\n"
     ]
    }
   ],
   "source": [
    "def check_even_odd(num):\n",
    "    if num % 2 == 0:\n",
    "        return \"even\"\n",
    "    else:\n",
    "        return \"odd\"\n",
    "print(check_even_odd(10))"
   ]
  },
  {
   "cell_type": "markdown",
   "id": "71444727",
   "metadata": {},
   "source": [
    "###  **Lambda Function Questions:**"
   ]
  },
  {
   "cell_type": "markdown",
   "id": "d47223a4",
   "metadata": {},
   "source": [
    "6. Use a lambda function to add 10 to a given number. "
   ]
  },
  {
   "cell_type": "code",
   "execution_count": 15,
   "id": "6db6fcfb",
   "metadata": {},
   "outputs": [
    {
     "name": "stdout",
     "output_type": "stream",
     "text": [
      "15\n"
     ]
    }
   ],
   "source": [
    "add_10 = lambda x:x + 10\n",
    "print(add_10(5))"
   ]
  },
  {
   "cell_type": "markdown",
   "id": "6d87c01a",
   "metadata": {},
   "source": [
    "7. Use `lambda` with `map()` to square all numbers in a list."
   ]
  },
  {
   "cell_type": "code",
   "execution_count": 17,
   "id": "a2dbd49c",
   "metadata": {},
   "outputs": [
    {
     "name": "stdout",
     "output_type": "stream",
     "text": [
      "[1, 4, 9, 16, 25]\n"
     ]
    }
   ],
   "source": [
    "x = [1, 2, 3, 4, 5]\n",
    "squared = list(map(lambda x : x ** 2, x))\n",
    "\n",
    "print(squared)"
   ]
  },
  {
   "cell_type": "markdown",
   "id": "a3095dda",
   "metadata": {},
   "source": [
    "8. Use `lambda` with `filter()` to get only even numbers from a list. "
   ]
  },
  {
   "cell_type": "code",
   "execution_count": 18,
   "id": "abf4bab7",
   "metadata": {},
   "outputs": [
    {
     "name": "stdout",
     "output_type": "stream",
     "text": [
      "[2, 4, 6, 8, 10]\n"
     ]
    }
   ],
   "source": [
    "x = [1, 2, 3, 4, 5, 6, 7, 8, 9, 10]\n",
    "\n",
    "even_numbers = list(filter(lambda x : x % 2 == 0, x)) \n",
    "\n",
    "print(even_numbers)"
   ]
  },
  {
   "cell_type": "markdown",
   "id": "e5198b0c",
   "metadata": {},
   "source": [
    "9. Use `lambda` with `sorted()` to sort a list of tuples by the second value."
   ]
  },
  {
   "cell_type": "code",
   "execution_count": 19,
   "id": "8e00b3d9",
   "metadata": {},
   "outputs": [
    {
     "name": "stdout",
     "output_type": "stream",
     "text": [
      "[(2, 1), (4, 2), (1, 3)]\n"
     ]
    }
   ],
   "source": [
    "data = [(1, 3), (2, 1), (4, 2)]\n",
    "\n",
    "sorted_data = sorted(data, key = lambda x: x[1])\n",
    "print(sorted_data)"
   ]
  },
  {
   "cell_type": "markdown",
   "id": "08fc786d",
   "metadata": {},
   "source": [
    "10. Use `lambda` to multiply two numbers."
   ]
  },
  {
   "cell_type": "code",
   "execution_count": 20,
   "id": "897a2258",
   "metadata": {},
   "outputs": [
    {
     "name": "stdout",
     "output_type": "stream",
     "text": [
      "50\n"
     ]
    }
   ],
   "source": [
    "multiply = lambda x, y: x * y\n",
    "print(multiply(5, 10))  "
   ]
  }
 ],
 "metadata": {
  "kernelspec": {
   "display_name": "Python 3",
   "language": "python",
   "name": "python3"
  },
  "language_info": {
   "codemirror_mode": {
    "name": "ipython",
    "version": 3
   },
   "file_extension": ".py",
   "mimetype": "text/x-python",
   "name": "python",
   "nbconvert_exporter": "python",
   "pygments_lexer": "ipython3",
   "version": "3.13.3"
  }
 },
 "nbformat": 4,
 "nbformat_minor": 5
}
