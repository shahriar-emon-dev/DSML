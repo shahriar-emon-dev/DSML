{
 "cells": [
  {
   "cell_type": "markdown",
   "id": "fa6d72b5",
   "metadata": {},
   "source": [
    "1. Identify the data types of the following values: 25, 3.14, \"Python\", True, [1, 2, 3, 4]. Print the type of each value using the `type()` function.  \n"
   ]
  },
  {
   "cell_type": "code",
   "execution_count": 1,
   "id": "ce7e5d36",
   "metadata": {},
   "outputs": [
    {
     "name": "stdout",
     "output_type": "stream",
     "text": [
      "<class 'int'>\n",
      "<class 'float'>\n",
      "<class 'str'>\n",
      "<class 'bool'>\n",
      "<class 'list'>\n"
     ]
    }
   ],
   "source": [
    "print(type(25))\n",
    "print(type(3.14))\n",
    "print(type(\"Python\"))\n",
    "print(type(True))\n",
    "print(type([1, 2, 3]))"
   ]
  },
  {
   "cell_type": "markdown",
   "id": "8871d248",
   "metadata": {},
   "source": [
    "2. Create three variables: `name` (your name), `age` (your age), and `height` (your height in meters). Print all three values in a sentence like: \"My name is Alice, I am 25 years old, and I am 1.65m tall.\" "
   ]
  },
  {
   "cell_type": "code",
   "execution_count": 2,
   "id": "7db80c0b",
   "metadata": {},
   "outputs": [
    {
     "name": "stdout",
     "output_type": "stream",
     "text": [
      "My name is Shahriar Emon, I am 23 years old, and I am 1.7272 m  tall\n"
     ]
    }
   ],
   "source": [
    "Name = \"Shahriar Emon\"\n",
    "Age = 23\n",
    "Height =  1.7272\n",
    "\n",
    "\n",
    "print(f\"My name is {Name}, I am {Age} years old, and I am {Height} m  tall\")"
   ]
  },
  {
   "cell_type": "markdown",
   "id": "db6d8aac",
   "metadata": {},
   "source": [
    "3. Convert the following values and print the results: Convert the string \"50\" to an integer, Convert the integer 20 to a string, Convert the float 3.14 to an integer. "
   ]
  },
  {
   "cell_type": "code",
   "execution_count": 4,
   "id": "4c5e1185",
   "metadata": {},
   "outputs": [
    {
     "name": "stdout",
     "output_type": "stream",
     "text": [
      "50\n",
      "20\n",
      "3\n"
     ]
    }
   ],
   "source": [
    "print(int(\"50\"))\n",
    "print(str(20))\n",
    "print(int(3.14))"
   ]
  },
  {
   "cell_type": "markdown",
   "id": "8c2c8b95",
   "metadata": {},
   "source": [
    "4. Write a program that takes two numbers from the user and performs the following: Adds them together, Subtracts the second number from the first, Multiplies them, Divides the first by the second, Checks if the first number is greater than the second.  "
   ]
  },
  {
   "cell_type": "code",
   "execution_count": 5,
   "id": "27f3fa12",
   "metadata": {},
   "outputs": [
    {
     "name": "stdout",
     "output_type": "stream",
     "text": [
      "Sum: 22\n",
      "Difference-2\n",
      "product: 120\n",
      "Quotient: 0.8333333333333334\n",
      "Is first greater ? False\n"
     ]
    }
   ],
   "source": [
    "a = int(input(\"Enter the first number: \"))\n",
    "b = int(input(\"Enter the second number: \"))\n",
    "\n",
    "\n",
    "print(f\"Sum: {a + b}\")\n",
    "print(f\"Difference{a - b}\")\n",
    "print(f\"product: {a * b}\")\n",
    "print(f\"Quotient: {a / b}\")\n",
    "print(f\"Is first greater ? {a > b}\")"
   ]
  },
  {
   "cell_type": "markdown",
   "id": "85207c05",
   "metadata": {},
   "source": [
    "5. A student can enter an exam only if they have attended at least 75% of classes and have submitted the assignment. Write a program that asks for the student's attendance percentage and whether they submitted the assignment (True/False). Print \"Allowed to take exam\" if both conditions are met, otherwise print \"Not allowed.\"  \n",
    "\n",
    "\n",
    "sample input : 74, True \n",
    "        utput    = Not allowed \n"
   ]
  },
  {
   "cell_type": "code",
   "execution_count": null,
   "id": "bee432bc",
   "metadata": {},
   "outputs": [
    {
     "name": "stdout",
     "output_type": "stream",
     "text": [
      "Not Allowed\n"
     ]
    }
   ],
   "source": [
    "attendance = int(input(\"Enter the attendance percentage: \"))\n",
    "submitted = input(\"he/she submitted the assignment? (True/False): \").lower() == \"True\"\n",
    "\n",
    "if attendance >=75 and submitted:\n",
    "    print(\"Allowed to take exam\")\n",
    "else:\n",
    "    print(\"Not Allowed\")\n",
    "    "
   ]
  },
  {
   "cell_type": "markdown",
   "id": "884e34c7",
   "metadata": {},
   "source": [
    "6. Write a program that checks whether a number entered by the user is positive, negative, or zero.  \n",
    "\n",
    "\n",
    "sample input: -1"
   ]
  },
  {
   "cell_type": "code",
   "execution_count": 8,
   "id": "ffe7932d",
   "metadata": {},
   "outputs": [
    {
     "name": "stdout",
     "output_type": "stream",
     "text": [
      "Negative\n"
     ]
    }
   ],
   "source": [
    "number = float(input(\"Enter a number\"))\n",
    "\n",
    "if number > 0:\n",
    "    print(\"Positive\")\n",
    "elif number <0:\n",
    "    print(\"Negative\")\n",
    "else:\n",
    "    print(\"Zero\")\n",
    "    "
   ]
  },
  {
   "cell_type": "markdown",
   "id": "78e8ff12",
   "metadata": {},
   "source": [
    "7. Create a discount system for a shop. If the bill amount is greater than 500tk, apply a 10% discount. If the bill is greater than 1000tkapply a 20% discount. Otherwise, no discount. Take the bill amount as input and print the final price after applying the discount."
   ]
  },
  {
   "cell_type": "code",
   "execution_count": 9,
   "id": "52060df8",
   "metadata": {},
   "outputs": [
    {
     "name": "stdout",
     "output_type": "stream",
     "text": [
      "Final prince :  1320.00tk\n"
     ]
    }
   ],
   "source": [
    "bill = float(input(\"Enter the bill amount (tk): \"))\n",
    "\n",
    "if bill > 1000:\n",
    "    bill *=0.8\n",
    "elif bill >500:\n",
    "    bill *= 0.9\n",
    "\n",
    "\n",
    "print(f\"Final prince : {bill: .2f}tk\")\n",
    "    "
   ]
  },
  {
   "cell_type": "markdown",
   "id": "f9d7e87f",
   "metadata": {},
   "source": [
    "Another way to solve this question "
   ]
  },
  {
   "cell_type": "code",
   "execution_count": 12,
   "id": "6dd17cca",
   "metadata": {},
   "outputs": [
    {
     "name": "stdout",
     "output_type": "stream",
     "text": [
      "final Price:  499.00tk\n"
     ]
    }
   ],
   "source": [
    "bill = float(input(\"Enter the amount of bill (Tk): \"))\n",
    "\n",
    "if bill >1000:\n",
    "    discount = (20 / 100) * bill\n",
    "    final_price = bill - discount\n",
    "elif bill >500:\n",
    "    discount = (10 / 500) * bill\n",
    "    final_price = bill - discount\n",
    "else:\n",
    "    final_price = bill\n",
    "\n",
    "print(f\"final Price: {final_price: .2f}tk\")"
   ]
  }
 ],
 "metadata": {
  "kernelspec": {
   "display_name": "Python 3",
   "language": "python",
   "name": "python3"
  },
  "language_info": {
   "codemirror_mode": {
    "name": "ipython",
    "version": 3
   },
   "file_extension": ".py",
   "mimetype": "text/x-python",
   "name": "python",
   "nbconvert_exporter": "python",
   "pygments_lexer": "ipython3",
   "version": "3.13.3"
  }
 },
 "nbformat": 4,
 "nbformat_minor": 5
}
