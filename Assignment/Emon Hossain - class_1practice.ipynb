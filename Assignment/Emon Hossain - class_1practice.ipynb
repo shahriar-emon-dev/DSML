{
  "cells": [
    {
      "cell_type": "markdown",
      "metadata": {
        "id": "A05OG15VqOPF"
      },
      "source": [
        "# Task : Class 1\n",
        "Solve these questions own your own and try to test yourself what you have learned in the session.\n",
        "\n",
        "Happy Learning!"
      ]
    },
    {
      "cell_type": "markdown",
      "metadata": {
        "id": "2doIXf8bqe9_"
      },
      "source": [
        "### Q1 :- Print the given strings as per stated format.\n",
        "\n",
        "**Given strings**:\n",
        "```\n",
        "\"Machine\" \"Learning\" \"With Python and R\" \"Program\"\n",
        "\"By\" \"Datasolution360\"\n",
        "```\n",
        "**Output**:\n",
        "```\n",
        "Machine-Learning-With Python and R-Program-Conducted-By-Datasolution360\n",
        "```\n",
        "\n",
        "Concept- [Seperator and End]"
      ]
    },
    {
      "cell_type": "code",
      "execution_count": 1,
      "metadata": {
        "id": "-em6d3KErDtp"
      },
      "outputs": [
        {
          "name": "stdout",
          "output_type": "stream",
          "text": [
            "Machine-Learning-With Python and R-Program-Conducted-By-DataSolution360\n"
          ]
        }
      ],
      "source": [
        "# Write your code here\n",
        "print(\"Machine\", \"Learning\", \"With Python and R\",\"Program\", \"Conducted\", \"By\", \"DataSolution360\", sep=\"-\")"
      ]
    },
    {
      "cell_type": "markdown",
      "metadata": {
        "id": "1KUpN7ZTrC3_"
      },
      "source": [
        "### Q2:- Write a program that will convert celsius value to fahrenheit."
      ]
    },
    {
      "cell_type": "code",
      "execution_count": 1,
      "metadata": {
        "id": "yxKYhYQiqWfj"
      },
      "outputs": [
        {
          "name": "stdout",
          "output_type": "stream",
          "text": [
            "99.0 C = 210.2F\n"
          ]
        }
      ],
      "source": [
        "# Write your code here\n",
        "celsius = float(input(\"Please enter the temperature in celsius: \"))\n",
        "fahrenheit = (celsius * 9/5) + 32\n",
        "\n",
        "print(f\"{celsius} C = {fahrenheit}F\")"
      ]
    },
    {
      "cell_type": "markdown",
      "metadata": {
        "id": "RLrOBBJurLB2"
      },
      "source": [
        "### Q3:- Take 2 numbers as input from the user.Write a program to swap the numbers without using any special python syntax."
      ]
    },
    {
      "cell_type": "code",
      "execution_count": 2,
      "metadata": {
        "id": "yPn7if0TrJ4F"
      },
      "outputs": [
        {
          "name": "stdout",
          "output_type": "stream",
          "text": [
            "After swapping: a = 6, b = 5\n"
          ]
        }
      ],
      "source": [
        "# Write your code here\n",
        "a  = int(input(\"Enter first number: \"))\n",
        "b = int(input(\"Enter second number: \"))\n",
        "\n",
        "temp = a\n",
        "a = b\n",
        "b = temp\n",
        "print(f\"After swapping: a = {a}, b = {b}\")\n"
      ]
    },
    {
      "cell_type": "markdown",
      "metadata": {
        "id": "VLrhg-FRsHjR"
      },
      "source": [
        "### Q4:- Write a program to find the simple interest when the value of principle,rate of interest and time period is provided by the user.\n"
      ]
    },
    {
      "cell_type": "code",
      "execution_count": 3,
      "metadata": {
        "id": "s40DlReZsTmY"
      },
      "outputs": [
        {
          "name": "stdout",
          "output_type": "stream",
          "text": [
            "Simple Interest = 1000.0\n"
          ]
        }
      ],
      "source": [
        "# Write your code here\n",
        "P = float(input(\"Enter principal amount: \"))\n",
        "R = float(input(\"Enter rate of interest (%): \"))\n",
        "T = float(input(\"Enter time (years): \"))\n",
        "\n",
        "\n",
        "simple_interest = (P * R * T) / 100\n",
        "print(f\"Simple Interest = {simple_interest}\")\n"
      ]
    },
    {
      "cell_type": "markdown",
      "metadata": {
        "id": "LMy0BTUktYKa"
      },
      "source": [
        "### Q5:- Write a program that will tell the number of dogs and chicken are there when the user will provide the value of total heads and legs.\n",
        "\n",
        "For example:\n",
        "Input:\n",
        "heads -> 4\n",
        "legs -> 12\n",
        "<br>\n",
        "Output:\n",
        "dogs -> 2\n",
        "chicken -> 2\n",
        "\n",
        "\n",
        "\n"
      ]
    },
    {
      "cell_type": "code",
      "execution_count": 6,
      "metadata": {
        "id": "XSBvJoA4tXaG"
      },
      "outputs": [
        {
          "name": "stdout",
          "output_type": "stream",
          "text": [
            "Dogs =10, Chickens = 10\n"
          ]
        }
      ],
      "source": [
        "# Write your code here\n",
        "heads = int(input(\"Enter total heads: \"))\n",
        "legs = int(input(\"Enter total legs: \"))\n",
        "\n",
        "D = (legs -2 * heads) // 2\n",
        "C = heads - D\n",
        "\n",
        "print(f\"Dogs ={D}, Chickens = {C}\")\n"
      ]
    },
    {
      "cell_type": "markdown",
      "metadata": {
        "id": "gJ7C5kZYt4BP"
      },
      "source": [
        "### Q6:- Write a program to find the sum of squares of first n natural numbers where n will be provided by the user."
      ]
    },
    {
      "cell_type": "code",
      "execution_count": null,
      "metadata": {
        "id": "_tHsmEHzt2nX"
      },
      "outputs": [],
      "source": [
        "# Write your code here\n",
        "N = int(input(\"Enter N: \"))\n",
        "sum_squares = N * (N + 1) * (2 * N + 1)//6\n",
        "print(f\"Sum of squares = {sum_squares}\")\n",
        "\n"
      ]
    },
    {
      "cell_type": "markdown",
      "metadata": {
        "id": "FHrMM7g-yG1h"
      },
      "source": [
        "### Q7:- Given the first 2 terms of an Arithmetic Series.Find the Nth term of the series. Assume all inputs are provided by the user."
      ]
    },
    {
      "cell_type": "code",
      "execution_count": 12,
      "metadata": {
        "id": "go4_kmZmyVSx"
      },
      "outputs": [
        {
          "name": "stdout",
          "output_type": "stream",
          "text": [
            "The 4-th term = 14.0\n"
          ]
        }
      ],
      "source": [
        "# Write your code here\n",
        "\n",
        "a1 = float(input(\"Enter first term: \"))\n",
        "a2 = float(input(\"Enter second term: \"))\n",
        "N = int(input(\"Enter N: \"))\n",
        "\n",
        "d = a2 - a1\n",
        "aN = a1 + (N - 1) * d\n",
        "print(f\"The {N}-th term = {aN}\")"
      ]
    },
    {
      "cell_type": "markdown",
      "metadata": {
        "id": "QgyRX_es1oum"
      },
      "source": [
        "### Q8:- Given 2 fractions, find the sum of those 2 fractions.Take the numerator and denominator values of the fractions from the user."
      ]
    },
    {
      "cell_type": "code",
      "execution_count": 4,
      "metadata": {
        "id": "X05xqFS1yW16"
      },
      "outputs": [
        {
          "name": "stdout",
          "output_type": "stream",
          "text": [
            "sum = 5/6\n"
          ]
        }
      ],
      "source": [
        "# Write your code here\n",
        "from fractions import Fraction\n",
        "\n",
        "n1=int(input(\"Enter numerator 1: \"))\n",
        "d1 = int(input(\"Enter denominator 1: \"))\n",
        "n2 = int(input(\"Enter numerator 2 : \"))\n",
        "d2 = int(input(\"Enter denominator 2: \"))\n",
        "\n",
        "\n",
        "frac1 = Fraction(n1, d1)\n",
        "frac2 = Fraction(n2, d2)\n",
        "\n",
        "result = frac1 + frac2\n",
        "\n",
        "print(f\"sum = {result}\")\n",
        "\n",
        "\n"
      ]
    },
    {
      "cell_type": "markdown",
      "metadata": {
        "id": "eaql38ln13u7"
      },
      "source": [
        "### Q9:- Given the height, width and breadth of a milk tank, you have to find out how many glasses of milk can be obtained? Assume all the inputs are provided by the user.\n",
        "\n",
        "\n",
        "\n",
        "Input:<br>\n",
        "Dimensions of the milk tank<br>\n",
        "H = 20cm, L = 20cm, B = 20cm\n",
        "<br><br>\n",
        "Dimensions of the glass<br>\n",
        "h = 3cm, r = 1cm"
      ]
    },
    {
      "cell_type": "code",
      "execution_count": 5,
      "metadata": {
        "id": "FePZqno74eWv"
      },
      "outputs": [
        {
          "name": "stdout",
          "output_type": "stream",
          "text": [
            "Number of glassess = 849\n"
          ]
        }
      ],
      "source": [
        "# Write your code here\n",
        "H = float(input(\"Enter tank Height (cm): \"))\n",
        "L = float(input(\"Enter tank Length (cm): \"))\n",
        "B = float(input(\"Enter tank Breadth (cm): \"))\n",
        "h = float(input(\"Enter glass Height (cm): \"))\n",
        "r = float(input(\"Enter glass radius (cm): \"))\n",
        "\n",
        "#calculated the volume of tank and the glasses\n",
        "# formula Vtank = H * L * B\n",
        "# formula Vglasses = PI * r^2 *h\n",
        "# total number of glass [Vtank/Vglasses]\n",
        "\n",
        "\n",
        "tank_volume = H * L * B\n",
        "glass_volume = 3.14 * r * r * h\n",
        "\n",
        "\n",
        "glassess = int (tank_volume // glass_volume)\n",
        "\n",
        "print(f\"Number of glassess = {glassess}\")\n",
        "\n"
      ]
    }
  ],
  "metadata": {
    "colab": {
      "provenance": []
    },
    "kernelspec": {
      "display_name": "Python 3",
      "name": "python3"
    },
    "language_info": {
      "codemirror_mode": {
        "name": "ipython",
        "version": 3
      },
      "file_extension": ".py",
      "mimetype": "text/x-python",
      "name": "python",
      "nbconvert_exporter": "python",
      "pygments_lexer": "ipython3",
      "version": "3.13.3"
    }
  },
  "nbformat": 4,
  "nbformat_minor": 0
}
