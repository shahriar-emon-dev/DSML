{
  "cells": [
    {
      "cell_type": "markdown",
      "metadata": {
        "id": "2Yeb66OvFRiP"
      },
      "source": [
        "### `Problem 1` - Print the following pattern. Write a program to use for loop to print the following reverse number pattern.\n",
        "\n",
        "```bash\n",
        "5 4 3 2 1\n",
        "4 3 2 1\n",
        "3 2 1\n",
        "2 1\n",
        "1\n",
        "```"
      ]
    },
    {
      "cell_type": "code",
      "execution_count": 1,
      "metadata": {
        "id": "I_rywD-UFTkY"
      },
      "outputs": [
        {
          "name": "stdout",
          "output_type": "stream",
          "text": [
            "5 4 3 2 1 \n",
            "4 3 2 1 \n",
            "3 2 1 \n",
            "2 1 \n",
            "1 \n"
          ]
        }
      ],
      "source": [
        "# Code here\n",
        "\n",
        "for i in range(5, 0, -1):\n",
        "    for j in range(i, 0, -1):\n",
        "        print(j, end = ' ')\n",
        "    print()\n"
      ]
    },
    {
      "cell_type": "markdown",
      "metadata": {
        "id": "n0baB62wFVV5"
      },
      "source": [
        "### `Problem 2`: Print the following pattern.\n",
        "\n",
        "```bash\n",
        "*\n",
        "* *\n",
        "* * *\n",
        "* * * *\n",
        "* * * * *\n",
        "* * * *\n",
        "* * *\n",
        "* *\n",
        "*\n",
        "```"
      ]
    },
    {
      "cell_type": "code",
      "execution_count": 5,
      "metadata": {
        "id": "wTD92u-bFbVT"
      },
      "outputs": [
        {
          "name": "stdout",
          "output_type": "stream",
          "text": [
            "* \n",
            "* * \n",
            "* * * \n",
            "* * * * \n",
            "* * * * * \n",
            "* * * * \n",
            "* * * \n",
            "* * \n",
            "* \n"
          ]
        }
      ],
      "source": [
        "# Code here\n",
        "\n",
        "# Increasing part\n",
        "for i in range(1, 6):  \n",
        "    print('* ' * i)\n",
        "\n",
        "# Decreasing part\n",
        "for i in range(4, 0, -1): \n",
        "    print('* ' * i)\n"
      ]
    },
    {
      "cell_type": "markdown",
      "metadata": {
        "id": "M7MzBABdFc8b"
      },
      "source": [
        "### `Problem 3`:Write a program to pring the following pattern\n",
        "\n",
        "        *\n",
        "      * * *\n",
        "    * * * * *\n",
        "   * * * * * * *\n",
        "* * * * * * * * *\n"
      ]
    },
    {
      "cell_type": "code",
      "execution_count": 10,
      "metadata": {
        "id": "ul-tJ0meF2Jr"
      },
      "outputs": [
        {
          "name": "stdout",
          "output_type": "stream",
          "text": [
            "    * \n",
            "  * * * \n",
            "* * * * * \n"
          ]
        }
      ],
      "source": [
        "# Code here\n",
        "\n",
        "row = 3\n",
        "\n",
        "for i in range(1, row + 1):\n",
        "    space = '  ' * (row - i)\n",
        "    stars = '* ' * (2 * i - 1)\n",
        "    print(space + stars)"
      ]
    },
    {
      "cell_type": "markdown",
      "metadata": {
        "id": "gU4m8eC3GHqH"
      },
      "source": [
        "### `Problem 4`:Write a program to print the following pattern\n",
        "\n",
        "1\n",
        "\n",
        "2 1\n",
        "\n",
        "3 2 1\n",
        "\n",
        "4 3 2 1\n",
        "\n",
        "5 4 3 2 1"
      ]
    },
    {
      "cell_type": "code",
      "execution_count": 12,
      "metadata": {
        "id": "HfGPUtmJGQf6"
      },
      "outputs": [
        {
          "name": "stdout",
          "output_type": "stream",
          "text": [
            "1\n",
            "21\n",
            "321\n",
            "4321\n",
            "54321\n"
          ]
        }
      ],
      "source": [
        "# Code here\n",
        "\n",
        "for i in range(1, 6):\n",
        "    for j in range(i, 0, -1):\n",
        "        print(j, end = '')\n",
        "    print()"
      ]
    },
    {
      "cell_type": "markdown",
      "metadata": {
        "id": "98TZ1X0hGSI-"
      },
      "source": [
        "### `Problem 5`: Write a Python Program to Find the Sum of the Series till the nth term:<br>\n",
        "1 + x^2/2 + x^3/3 + … x^n/n<br>\n",
        "n will be provided by the user"
      ]
    },
    {
      "cell_type": "code",
      "execution_count": 14,
      "metadata": {
        "id": "3ZWu99XUGuhU"
      },
      "outputs": [
        {
          "name": "stdout",
          "output_type": "stream",
          "text": [
            "Sum of the series:  9.666666666666666\n"
          ]
        }
      ],
      "source": [
        "# Code here\n",
        "# x = 2\n",
        "# n = 4\n",
        "\n",
        "x = float(input(\"Enter the value of x: \"))\n",
        "n = int(input(\"Enter the value of terms (n): \"))\n",
        "\n",
        "\n",
        "sum_series = 1\n",
        "\n",
        "for i in range(2, n + 1):\n",
        "    term = (x ** i) / i\n",
        "    sum_series += term\n",
        "print(\"Sum of the series: \", sum_series)"
      ]
    },
    {
      "cell_type": "markdown",
      "metadata": {
        "id": "matpUyxTH4hQ"
      },
      "source": [
        "### `Problem 6` - Find the sum of the series upto n terms.\n",
        "Write a program to calculate the sum of series up to n term. For example, if n =5 the series will become 2 + 22 + 222 + 2222 + 22222 = 24690. Take the user input and then calculate. And the output style should match which is given in the example.\n",
        "\n",
        "**Example 1:**\n",
        "\n",
        "`Input:`\n",
        "```bash\n",
        "5\n",
        "```\n",
        "\n",
        "`Output:`\n",
        "\n",
        "```bash\n",
        "2+22+222+2222+22222\n",
        "Sum of above series is: 24690\n",
        "```"
      ]
    },
    {
      "cell_type": "code",
      "execution_count": 3,
      "metadata": {
        "id": "jL68XMU8H3xM"
      },
      "outputs": [
        {
          "name": "stdout",
          "output_type": "stream",
          "text": [
            "Series:  2  +  22  +  222  +  2222  +  22222 \n",
            "\n",
            "Sum of above series is:  24690\n"
          ]
        }
      ],
      "source": [
        "# Code here\n",
        "\n",
        "n = int(input(\"Enter the term: \"))\n",
        "term = 2\n",
        "\n",
        "total_sum = 0\n",
        "\n",
        "print(\"Series: \", end = ' ')\n",
        "\n",
        "for i in range (1, n + 1):\n",
        "    print(term, end=' ')\n",
        "    total_sum +=term\n",
        "    if i !=n:\n",
        "        print(\" + \", end=\" \")\n",
        "    term = term * 10 + 2\n",
        "print(\"\\n\\nSum of above series is: \", total_sum)"
      ]
    },
    {
      "cell_type": "markdown",
      "metadata": {
        "id": "l7Jpeuq7IeT-"
      },
      "source": [
        "### `Problem 7`: Write a program to print all the unique combinations of 1,2,3 and 4\n",
        "\n",
        "`Output`:\n",
        "```\n",
        "1 2 3 4\n",
        "1 2 4 3\n",
        "1 3 2 4\n",
        "1 3 4 2\n",
        "1 4 2 3\n",
        "1 4 3 2\n",
        "2 1 3 4\n",
        "2 1 4 3\n",
        "2 3 1 4\n",
        "2 3 4 1\n",
        "2 4 1 3\n",
        ".\n",
        ".\n",
        "and so on\n",
        "```"
      ]
    },
    {
      "cell_type": "code",
      "execution_count": 4,
      "metadata": {
        "id": "Jiy1u7PvJRbb"
      },
      "outputs": [
        {
          "name": "stdout",
          "output_type": "stream",
          "text": [
            "1 2 3 4 \n",
            "1 2 4 3 \n",
            "1 3 2 4 \n",
            "1 3 4 2 \n",
            "1 4 2 3 \n",
            "1 4 3 2 \n",
            "2 1 3 4 \n",
            "2 1 4 3 \n",
            "2 3 1 4 \n",
            "2 3 4 1 \n",
            "2 4 1 3 \n",
            "2 4 3 1 \n",
            "3 1 2 4 \n",
            "3 1 4 2 \n",
            "3 2 1 4 \n",
            "3 2 4 1 \n",
            "3 4 1 2 \n",
            "3 4 2 1 \n",
            "4 1 2 3 \n",
            "4 1 3 2 \n",
            "4 2 1 3 \n",
            "4 2 3 1 \n",
            "4 3 1 2 \n",
            "4 3 2 1 \n"
          ]
        }
      ],
      "source": [
        "# Code here\n",
        "\n",
        "import itertools\n",
        "\n",
        "numbers = [1, 2, 3, 4]\n",
        "\n",
        "perms = itertools.permutations(numbers)\n",
        "\n",
        "for p in perms:\n",
        "    for num in p:\n",
        "        print(num, end=' ')\n",
        "    print()"
      ]
    }
  ],
  "metadata": {
    "colab": {
      "provenance": []
    },
    "kernelspec": {
      "display_name": "Python 3",
      "name": "python3"
    },
    "language_info": {
      "codemirror_mode": {
        "name": "ipython",
        "version": 3
      },
      "file_extension": ".py",
      "mimetype": "text/x-python",
      "name": "python",
      "nbconvert_exporter": "python",
      "pygments_lexer": "ipython3",
      "version": "3.13.3"
    }
  },
  "nbformat": 4,
  "nbformat_minor": 0
}
