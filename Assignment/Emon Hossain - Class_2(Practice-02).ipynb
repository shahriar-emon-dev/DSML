{
  "cells": [
    {
      "cell_type": "markdown",
      "metadata": {
        "id": "2Yeb66OvFRiP"
      },
      "source": [
        "### `Problem 1` - Print the following pattern. Write a program to use for loop to print the following reverse number pattern.\n",
        "\n",
        "```bash\n",
        "5 4 3 2 1\n",
        "4 3 2 1\n",
        "3 2 1\n",
        "2 1\n",
        "1\n",
        "```"
      ]
    },
    {
      "cell_type": "code",
      "execution_count": null,
      "metadata": {
        "id": "I_rywD-UFTkY"
      },
      "outputs": [],
      "source": [
        "# Code here"
      ]
    },
    {
      "cell_type": "markdown",
      "metadata": {
        "id": "n0baB62wFVV5"
      },
      "source": [
        "### `Problem 2`: Print the following pattern.\n",
        "\n",
        "```bash\n",
        "*\n",
        "* *\n",
        "* * *\n",
        "* * * *\n",
        "* * * * *\n",
        "* * * *\n",
        "* * *\n",
        "* *\n",
        "*\n",
        "```"
      ]
    },
    {
      "cell_type": "code",
      "execution_count": null,
      "metadata": {
        "id": "wTD92u-bFbVT"
      },
      "outputs": [],
      "source": [
        "# Code here"
      ]
    },
    {
      "cell_type": "markdown",
      "metadata": {
        "id": "M7MzBABdFc8b"
      },
      "source": [
        "### `Problem 3`:Write a program to pring the following pattern\n",
        "\n",
        "        *\n",
        "      * * *\n",
        "    * * * * *\n",
        "   * * * * * * *\n",
        "* * * * * * * * *\n"
      ]
    },
    {
      "cell_type": "code",
      "execution_count": null,
      "metadata": {
        "id": "ul-tJ0meF2Jr"
      },
      "outputs": [],
      "source": [
        "# Code here"
      ]
    },
    {
      "cell_type": "markdown",
      "metadata": {
        "id": "gU4m8eC3GHqH"
      },
      "source": [
        "### `Problem 4`:Write a program to print the following pattern\n",
        "\n",
        "1\n",
        "\n",
        "2 1\n",
        "\n",
        "3 2 1\n",
        "\n",
        "4 3 2 1\n",
        "\n",
        "5 4 3 2 1"
      ]
    },
    {
      "cell_type": "code",
      "execution_count": null,
      "metadata": {
        "id": "HfGPUtmJGQf6"
      },
      "outputs": [],
      "source": [
        "# Code here"
      ]
    },
    {
      "cell_type": "markdown",
      "metadata": {
        "id": "98TZ1X0hGSI-"
      },
      "source": [
        "### `Problem 5`: Write a Python Program to Find the Sum of the Series till the nth term:<br>\n",
        "1 + x^2/2 + x^3/3 + … x^n/n<br>\n",
        "n will be provided by the user"
      ]
    },
    {
      "cell_type": "code",
      "execution_count": null,
      "metadata": {
        "id": "3ZWu99XUGuhU"
      },
      "outputs": [],
      "source": [
        "# Code here"
      ]
    },
    {
      "cell_type": "markdown",
      "metadata": {
        "id": "matpUyxTH4hQ"
      },
      "source": [
        "### `Problem 6` - Find the sum of the series upto n terms.\n",
        "Write a program to calculate the sum of series up to n term. For example, if n =5 the series will become 2 + 22 + 222 + 2222 + 22222 = 24690. Take the user input and then calculate. And the output style should match which is given in the example.\n",
        "\n",
        "**Example 1:**\n",
        "\n",
        "`Input:`\n",
        "```bash\n",
        "5\n",
        "```\n",
        "\n",
        "`Output:`\n",
        "\n",
        "```bash\n",
        "2+22+222+2222+22222\n",
        "Sum of above series is: 24690\n",
        "```"
      ]
    },
    {
      "cell_type": "code",
      "execution_count": null,
      "metadata": {
        "id": "jL68XMU8H3xM"
      },
      "outputs": [],
      "source": [
        "# Code here"
      ]
    },
    {
      "cell_type": "markdown",
      "metadata": {
        "id": "l7Jpeuq7IeT-"
      },
      "source": [
        "### `Problem 7`: Write a program to print all the unique combinations of 1,2,3 and 4\n",
        "\n",
        "`Output`:\n",
        "```\n",
        "1 2 3 4\n",
        "1 2 4 3\n",
        "1 3 2 4\n",
        "1 3 4 2\n",
        "1 4 2 3\n",
        "1 4 3 2\n",
        "2 1 3 4\n",
        "2 1 4 3\n",
        "2 3 1 4\n",
        "2 3 4 1\n",
        "2 4 1 3\n",
        ".\n",
        ".\n",
        "and so on\n",
        "```"
      ]
    },
    {
      "cell_type": "code",
      "execution_count": null,
      "metadata": {
        "id": "Jiy1u7PvJRbb"
      },
      "outputs": [],
      "source": [
        "# Code here"
      ]
    }
  ],
  "metadata": {
    "colab": {
      "provenance": []
    },
    "kernelspec": {
      "display_name": "Python 3",
      "name": "python3"
    },
    "language_info": {
      "name": "python"
    }
  },
  "nbformat": 4,
  "nbformat_minor": 0
}
