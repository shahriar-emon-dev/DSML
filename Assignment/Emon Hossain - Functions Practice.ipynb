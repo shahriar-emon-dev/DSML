{
  "cells": [
    {
      "cell_type": "markdown",
      "metadata": {
        "id": "h6dDSW5XGZFi"
      },
      "source": [
        "### **`Problem-1:`** Write a Python function that takes a list and returns a new list with unique elements of the first list.\n",
        "\n",
        "**Exercise 1:**\n",
        "\n",
        "Input:\n",
        "\n",
        "```bash\n",
        "[1,2,3,3,3,3,4,5]\n",
        "```\n",
        "\n",
        "Output:\n",
        "\n",
        "```bash\n",
        "[1, 2, 3, 4, 5]\n",
        "```"
      ]
    },
    {
      "cell_type": "code",
      "execution_count": 5,
      "metadata": {
        "id": "R5pq1C9LGe1y"
      },
      "outputs": [
        {
          "name": "stdout",
          "output_type": "stream",
          "text": [
            "[1, 2, 3, 4, 5]\n"
          ]
        }
      ],
      "source": [
        "def get_unique_elements(lst):\n",
        "    \"\"\"\n",
        "    This function takes a list as input and returns a new list containing only the unique elements from the input list.\n",
        "    \n",
        "    Parameters:\n",
        "    list (list): The input list from which to extract unique elements.\n",
        "    \n",
        "    Returns:\n",
        "    list: A new list containing only unique elements.\n",
        "    \"\"\"\n",
        "    return list(set(lst))\n",
        "print(get_unique_elements([1, 2, 3, 4, 5, 1, 2, 3, 4, 5]))"
      ]
    },
    {
      "cell_type": "markdown",
      "metadata": {
        "id": "UxQ_VoyJGwHj"
      },
      "source": [
        "### **`Problem-2:`** Write a Python function that accepts a hyphen-separated sequence of words as parameter and returns the words in a hyphen-separated sequence after sorting them alphabetically.\n",
        "\n",
        "**Example 1:**\n",
        "\n",
        "Input:\n",
        "```bash\n",
        "green-red-yellow-black-white\n",
        "```\n",
        "\n",
        "Output:\n",
        "```bash\n",
        "black-green-red-white-yellow\n",
        "```"
      ]
    },
    {
      "cell_type": "code",
      "execution_count": 7,
      "metadata": {
        "id": "AAts2m5zGwiQ"
      },
      "outputs": [
        {
          "name": "stdout",
          "output_type": "stream",
          "text": [
            "black-green-red-white-yellow\n"
          ]
        }
      ],
      "source": [
        "# Write code here\n",
        "def sort_hyphenated_string(text):\n",
        "    words = text.split('-')\n",
        "    \n",
        "    words.sort()\n",
        "    return '-'.join(words)\n",
        "print(sort_hyphenated_string(\"green-red-yellow-black-white\"))"
      ]
    },
    {
      "cell_type": "markdown",
      "metadata": {
        "id": "IRGH62S7Gx_n"
      },
      "source": [
        "Got it! Here's the modified question **without \"CampusX\"** and with a more generic example:\n",
        "\n",
        "---\n",
        "\n",
        "### **`Problem 3:`** Write a Python function that counts uppercase and lowercase letters in a string.\n",
        "\n",
        "**Sample Input:**  \n",
        "```python\n",
        "'The Quick Brown Fox Jumps Over The Lazy Dog.'\n",
        "```\n",
        "\n",
        "**Expected Output:**  \n",
        "```\n",
        "No. of Upper case characters: 8  \n",
        "No. of Lower case characters: 26\n",
        "```"
      ]
    },
    {
      "cell_type": "code",
      "execution_count": 16,
      "metadata": {
        "id": "OaUrD8vVG5o8"
      },
      "outputs": [
        {
          "name": "stdout",
          "output_type": "stream",
          "text": [
            "No. of Upper case characters: 9\n",
            "No. of Lower case characters: 26\n"
          ]
        }
      ],
      "source": [
        "# Write code here\n",
        "\n",
        "def check_uppercase_lowercase(text):\n",
        "    upper_count = 0\n",
        "    lower_count = 0\n",
        "    \n",
        "    for char in text:\n",
        "        if char.isupper():\n",
        "            upper_count +=1\n",
        "        elif char.islower():\n",
        "            lower_count +=1\n",
        "    print(\"No. of Upper case characters:\", upper_count)\n",
        "    print(\"No. of Lower case characters:\", lower_count)\n",
        "sample = 'The Quick Brown Fox Jumps Over The Lazy Dog'\n",
        "check_uppercase_lowercase(sample)\n",
        "   "
      ]
    },
    {
      "cell_type": "markdown",
      "metadata": {
        "id": "V1BFFdYQG7Sn"
      },
      "source": [
        "### **`Problem 4:`** Write a Python program to print the even numbers from a given list.\n",
        "```\n",
        "Sample List : [1, 2, 3, 4, 5, 6, 7, 8, 9]\n",
        "Expected Result : [2, 4, 6, 8]\n",
        "```"
      ]
    },
    {
      "cell_type": "code",
      "execution_count": 25,
      "metadata": {
        "id": "VvAReLoDG_Z3"
      },
      "outputs": [
        {
          "name": "stdout",
          "output_type": "stream",
          "text": [
            "[2, 4, 6, 8]\n"
          ]
        }
      ],
      "source": [
        "def get_even_numbers(lst):\n",
        "    even_nums = [num for num in lst if num % 2 == 0]\n",
        "    return even_nums\n",
        "print(get_even_numbers([1, 2, 3, 4, 5, 6, 7, 8, 9]))"
      ]
    },
    {
      "cell_type": "markdown",
      "metadata": {
        "id": "qrK39Gn-HHb4"
      },
      "source": [
        "### **`Problem 5:`** Write a Python function to check whether a number is perfect or not.\n",
        "\n",
        "A Perfect number is a number that is half the sum of all of its positive divisors (including itself).\n",
        "\n",
        "Example :\n",
        "\n",
        "```\n",
        "The first perfect number is 6, because 1, 2, and 3 are its proper positive divisors, and 1 + 2 + 3 = 6.\n",
        "Equivalently, the number 6 is equal to half the sum of all its positive divisors: ( 1 + 2 + 3 + 6 ) / 2 = 6.\n",
        "\n",
        "The next perfect number is 28 = 1 + 2 + 4 + 7 + 14. This is followed by the perfect numbers 496 and 8128.\n",
        "```\n"
      ]
    },
    {
      "cell_type": "code",
      "execution_count": 27,
      "metadata": {
        "id": "P-OI7H78HICs"
      },
      "outputs": [
        {
          "name": "stdout",
          "output_type": "stream",
          "text": [
            "28 is a perfect number\n"
          ]
        }
      ],
      "source": [
        "# Write code here\n",
        "\n",
        "def is_perfect_numbers(n):\n",
        "    divisor_sum = 0\n",
        "    \n",
        "    for i in range(1, n):\n",
        "        if n % i == 0:\n",
        "            divisor_sum +=i\n",
        "    if divisor_sum == n:\n",
        "        return True\n",
        "    else:\n",
        "        return False\n",
        "num = 28\n",
        "if is_perfect_numbers(num):\n",
        "    print(f\"{num} is a perfect number\")\n",
        "else:\n",
        "    print(f\"{num} is not a perfect number\")  "
      ]
    },
    {
      "cell_type": "markdown",
      "metadata": {
        "id": "oZdpcG77HO-6"
      },
      "source": [
        "### **`Problem-6:`** Write a Python function to concatenate any no of dictionaries to create a new one.\n",
        "\n",
        "```\n",
        "Sample Dictionary :\n",
        "dic1={1:10, 2:20}\n",
        "dic2={3:30, 4:40}\n",
        "dic3={5:50,6:60}\n",
        "Expected Result : {1: 10, 2: 20, 3: 30, 4: 40, 5: 50, 6: 60}\n",
        "```"
      ]
    },
    {
      "cell_type": "code",
      "execution_count": 28,
      "metadata": {
        "id": "LQgfAY4ZHPhj"
      },
      "outputs": [
        {
          "data": {
            "text/plain": [
              "{1: 10, 2: 20, 3: 30, 4: 40, 5: 50, 6: 60}"
            ]
          },
          "execution_count": 28,
          "metadata": {},
          "output_type": "execute_result"
        }
      ],
      "source": [
        "# Write code here\n",
        "dic1 = {1: 10, 2: 20}\n",
        "dic2 = {3: 30, 4: 40}\n",
        "dic3 = {5: 50, 6: 60}\n",
        "\n",
        "def merge_dictionaries(*dicts):\n",
        "    result = {}\n",
        "    for d in dicts:\n",
        "        result.update(d)\n",
        "    return result\n",
        "merge_dictionaries(dic1, dic2, dic3)"
      ]
    },
    {
      "cell_type": "markdown",
      "metadata": {
        "id": "jQ6SzbCkHRd0"
      },
      "source": [
        "### `Problem-7` Write a python function that accepts a string as input and returns the word with most occurence.\n",
        "\n",
        "```\n",
        "Input:\n",
        "hello how are you i am fine thank you\n",
        "```\n",
        "\n",
        "```\n",
        "Output\n",
        "you -> 2\n",
        "```"
      ]
    },
    {
      "cell_type": "code",
      "execution_count": 36,
      "metadata": {
        "id": "Lh04JHLzIW7Z"
      },
      "outputs": [
        {
          "name": "stdout",
          "output_type": "stream",
          "text": [
            "you -> 2\n"
          ]
        }
      ],
      "source": [
        "# Write code here\n",
        "sentence = \"hello how are you i a am fine thank you\"\n",
        "\n",
        "\n",
        "def count_words(text):\n",
        "    words = text.split()\n",
        "    freq = {}\n",
        "    \n",
        "    \n",
        "    for word in words:\n",
        "        freq[word] = freq.get(word, 0) + 1\n",
        "    \n",
        "    most_word = max(freq, key=freq.get)\n",
        "    return f\"{most_word} -> {freq[most_word]}\"\n",
        "print(count_words(sentence))"
      ]
    },
    {
      "cell_type": "markdown",
      "metadata": {
        "id": "G26SYq6vqdLN"
      },
      "source": [
        "###`Problem-8` Using filter() and list() functions and .lower() method filter all the vowels in a given string.\n",
        "\n"
      ]
    },
    {
      "cell_type": "code",
      "execution_count": 42,
      "metadata": {
        "id": "zurga3DIqmEx"
      },
      "outputs": [
        {
          "name": "stdout",
          "output_type": "stream",
          "text": [
            "['e', 'o', 'a', 'i', 'a', 'E', 'o']\n"
          ]
        }
      ],
      "source": [
        "# Write code here\n",
        "input_text = \"Hello Shahriar Emon\"\n",
        "\n",
        "def filter_vowels(text):\n",
        "    vowels = 'aeiou'\n",
        "    return list(filter(lambda char: char.lower() in vowels, text))\n",
        "\n",
        "print(filter_vowels(input_text))\n"
      ]
    },
    {
      "cell_type": "markdown",
      "metadata": {
        "id": "uQrsunZSqoYu"
      },
      "source": [
        "`Problem-9`: Use reduce to convert a 2D list to 1D"
      ]
    },
    {
      "cell_type": "code",
      "execution_count": 44,
      "metadata": {
        "id": "E1YUwnfgqnka"
      },
      "outputs": [
        {
          "name": "stdout",
          "output_type": "stream",
          "text": [
            "[1, 2, 3, 4, 5, 6]\n"
          ]
        }
      ],
      "source": [
        "# Write code here\n",
        "\n",
        "data = [[1, 2], [3, 4], [5, 6]]\n",
        "\n",
        "from functools import reduce\n",
        "def flatten_2d_list(two_d_list):\n",
        "    return reduce(lambda x, y: x + y, two_d_list)\n",
        "\n",
        "\n",
        "result = flatten_2d_list(data)\n",
        "print(result)"
      ]
    },
    {
      "cell_type": "markdown",
      "metadata": {
        "id": "8-DLQEawt-_t"
      },
      "source": [
        "`Problem 10`- A dictionary contains following information about 5 employees:\n",
        "- First name\n",
        "- Last name\n",
        "- Age\n",
        "- Grade(Skilled,Semi-skilled,Highly skilled)<br>\n",
        "Write a program using map/filter/reduce to a list of employees(first name + last name) who are highly skilled"
      ]
    },
    {
      "cell_type": "code",
      "execution_count": 52,
      "metadata": {
        "id": "OLvptttLs6OU"
      },
      "outputs": [
        {
          "name": "stdout",
          "output_type": "stream",
          "text": [
            "['Alice Smith', 'Charlie Davis', 'Eva Green']\n"
          ]
        }
      ],
      "source": [
        "# Write code here\n",
        "\n",
        "employees = [\n",
        "    {\"first_name\": \"Alice\", \"last_name\": \"Smith\", \"age\": 28, \"grade\": \"Highly skilled\"},\n",
        "    {\"first_name\": \"Bob\", \"last_name\": \"Brown\", \"age\": 35, \"grade\": \"Skilled\"},\n",
        "    {\"first_name\": \"Charlie\", \"last_name\": \"Davis\", \"age\": 30, \"grade\": \"Highly skilled\"},\n",
        "    {\"first_name\": \"Diana\", \"last_name\": \"Evans\", \"age\": 40, \"grade\": \"Semi-skilled\"},\n",
        "    {\"first_name\": \"Eva\", \"last_name\": \"Green\", \"age\": 25, \"grade\": \"Highly skilled\"},\n",
        "]\n",
        "\n",
        "highly_skilled = filter(lambda emp: emp[\"grade\"] == \"Highly skilled\", employees)\n",
        "\n",
        "full_names = list(map(lambda emp: emp[\"first_name\"] + \" \" + emp[\"last_name\"], highly_skilled))\n",
        "print(full_names)"
      ]
    }
  ],
  "metadata": {
    "colab": {
      "provenance": []
    },
    "kernelspec": {
      "display_name": "Python 3",
      "name": "python3"
    },
    "language_info": {
      "codemirror_mode": {
        "name": "ipython",
        "version": 3
      },
      "file_extension": ".py",
      "mimetype": "text/x-python",
      "name": "python",
      "nbconvert_exporter": "python",
      "pygments_lexer": "ipython3",
      "version": "3.13.3"
    }
  },
  "nbformat": 4,
  "nbformat_minor": 0
}
