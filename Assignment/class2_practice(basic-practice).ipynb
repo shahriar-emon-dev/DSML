{
 "cells": [
  {
   "cell_type": "markdown",
   "id": "03cc0c8c",
   "metadata": {},
   "source": [
    "1. **Importing Modules**  \n",
    "   Write a program that imports the `math` module and calculates:  \n",
    "   - The square root of 144  \n",
    "   - The sine of 90 degrees  \n",
    "   - The greatest common divisor (GCD) of 36 and 60  "
   ]
  },
  {
   "cell_type": "code",
   "execution_count": 1,
   "id": "83966102",
   "metadata": {},
   "outputs": [
    {
     "name": "stdout",
     "output_type": "stream",
     "text": [
      "12.0\n",
      "1.0\n",
      "12\n"
     ]
    }
   ],
   "source": [
    "import math\n",
    "\n",
    "#sqrt of 144\n",
    "\n",
    "a = 144\n",
    "b = 90\n",
    "c = 36\n",
    "d = 60\n",
    "\n",
    "print(math.sqrt(a))\n",
    "print(math.sin(math.radians(b)))\n",
    "print(math.gcd(c, d))\n"
   ]
  },
  {
   "cell_type": "markdown",
   "id": "531a4fee",
   "metadata": {},
   "source": [
    "2. **For Loop with Range**  \n",
    "   Write a program that prints numbers from 1 to 20, but only the even numbers."
   ]
  },
  {
   "cell_type": "code",
   "execution_count": 8,
   "id": "56ee9748",
   "metadata": {},
   "outputs": [
    {
     "name": "stdout",
     "output_type": "stream",
     "text": [
      "2\n",
      "4\n",
      "6\n",
      "8\n",
      "10\n",
      "12\n",
      "14\n",
      "16\n",
      "18\n",
      "20\n"
     ]
    }
   ],
   "source": [
    "for number in range(1,21):\n",
    "    if number % 2 == 0:\n",
    "        print(number)\n",
    "    "
   ]
  },
  {
   "cell_type": "markdown",
   "id": "7411478b",
   "metadata": {},
   "source": [
    "\n",
    "3. **While Loop with Condition**  \n",
    "   Write a program that keeps asking the user to enter a number until they enter a number that is a multiple of 7."
   ]
  },
  {
   "cell_type": "code",
   "execution_count": 10,
   "id": "e241dcd4",
   "metadata": {},
   "outputs": [],
   "source": [
    "while True:\n",
    "    num = int(input(\"Enter a number: \"))\n",
    "    if num %7 == 0:\n",
    "        break"
   ]
  },
  {
   "cell_type": "markdown",
   "id": "d3f45b26",
   "metadata": {},
   "source": [
    "4. **Nested Loop for a Pattern**  \n",
    "   Print the following pattern using nested loops:  \n",
    "   ```\n",
    "   1\n",
    "   1 2\n",
    "   1 2 3\n",
    "   1 2 3 4\n",
    "   1 2 3 4 5\n",
    "   ```"
   ]
  },
  {
   "cell_type": "code",
   "execution_count": 11,
   "id": "c7afcecb",
   "metadata": {},
   "outputs": [
    {
     "name": "stdout",
     "output_type": "stream",
     "text": [
      "1 \n",
      "1 2 \n",
      "1 2 3 \n",
      "1 2 3 4 \n",
      "1 2 3 4 5 \n"
     ]
    }
   ],
   "source": [
    "for i in range(1, 6):\n",
    "    for j in range(1, i + 1):\n",
    "        print(j, end = \" \")\n",
    "    print()"
   ]
  },
  {
   "cell_type": "markdown",
   "id": "f42ad0ac",
   "metadata": {},
   "source": [
    "**Break & Continue in Loops**  \n",
    "   Write a program that prints numbers from 1 to 15, but:  \n",
    "   - Skips 7 using `continue`  \n",
    "   - Stops the loop completely at 12 using `break`"
   ]
  },
  {
   "cell_type": "code",
   "execution_count": 12,
   "id": "448882b7",
   "metadata": {},
   "outputs": [
    {
     "name": "stdout",
     "output_type": "stream",
     "text": [
      "1\n",
      "2\n",
      "3\n",
      "4\n",
      "5\n",
      "6\n",
      "8\n",
      "9\n",
      "10\n",
      "11\n"
     ]
    }
   ],
   "source": [
    "for i in range(1, 16):\n",
    "    if i == 7:\n",
    "        continue\n",
    "    if i == 12:\n",
    "        break\n",
    "    print(i)"
   ]
  },
  {
   "cell_type": "markdown",
   "id": "67a6f280",
   "metadata": {},
   "source": [
    "6. **Multiplication Table Using Nested Loop**  \n",
    "   Write a program that prints the multiplication table from 1 to 5 using nested loops. "
   ]
  },
  {
   "cell_type": "code",
   "execution_count": null,
   "id": "bd61ad42",
   "metadata": {},
   "outputs": [
    {
     "name": "stdout",
     "output_type": "stream",
     "text": [
      "1\t2\t3\t4\t5\t6\t7\t8\t9\t10\t\n",
      "2\t4\t6\t8\t10\t12\t14\t16\t18\t20\t\n",
      "3\t6\t9\t12\t15\t18\t21\t24\t27\t30\t\n",
      "4\t8\t12\t16\t20\t24\t28\t32\t36\t40\t\n",
      "5\t10\t15\t20\t25\t30\t35\t40\t45\t50\t\n"
     ]
    }
   ],
   "source": [
    "for i in range(1, 6):     #row\n",
    "    for j in range(1, 11):   #columns\n",
    "        print( i * j, end=\"\\t\")\n",
    "    print()\n",
    "    "
   ]
  },
  {
   "cell_type": "markdown",
   "id": "9c735348",
   "metadata": {},
   "source": [
    "7. **While Loop for Summation**  \n",
    "   Write a program that keeps adding user-inputted numbers until the sum reaches or exceeds 100, then prints the total sum. "
   ]
  },
  {
   "cell_type": "code",
   "execution_count": 20,
   "id": "d2a52682",
   "metadata": {},
   "outputs": [
    {
     "name": "stdout",
     "output_type": "stream",
     "text": [
      "Total sum is: 150\n"
     ]
    }
   ],
   "source": [
    "total = 0\n",
    "\n",
    "while total < 100:\n",
    "    num = int(input(\"Enter a number: \"))\n",
    "    total += num\n",
    "\n",
    "print(\"Total sum is:\", total)\n"
   ]
  },
  {
   "cell_type": "markdown",
   "id": "d5caba0f",
   "metadata": {},
   "source": [
    "8. **Loop Through a List**  \n",
    "   Given the list `[3, 6, 9, 12, 15, 18, 21]`, write a program to:  \n",
    "   - Print each number  \n",
    "   - Stop the loop if a number greater than 15 is encountered"
   ]
  },
  {
   "cell_type": "code",
   "execution_count": 1,
   "id": "c3189f77",
   "metadata": {},
   "outputs": [
    {
     "name": "stdout",
     "output_type": "stream",
     "text": [
      "3\n",
      "6\n",
      "9\n",
      "12\n",
      "15\n"
     ]
    }
   ],
   "source": [
    "num = [3, 6, 9, 12, 15, 21]\n",
    "\n",
    "for num in num:\n",
    "    if num >15:\n",
    "        break\n",
    "    print (num)"
   ]
  },
  {
   "cell_type": "markdown",
   "id": "3a675da2",
   "metadata": {},
   "source": [
    "9. **Finding the Largest Number in a List Using a Loop**  \n",
    "   Given a list of numbers `[45, 12, 78, 34, 89, 23]`, write a program that finds and prints the largest number using a loop.  "
   ]
  },
  {
   "cell_type": "code",
   "execution_count": 3,
   "id": "ed19fb17",
   "metadata": {},
   "outputs": [
    {
     "name": "stdout",
     "output_type": "stream",
     "text": [
      "Largest number:  45\n"
     ]
    }
   ],
   "source": [
    "numbers = [45, 12, 78, 34, 89, 23]\n",
    "\n",
    "max_num = numbers[0]\n",
    "\n",
    "for num in numbers:\n",
    "    if num >max_num:\n",
    "        max_num\n",
    "print(\"Largest number: \", max_num)"
   ]
  },
  {
   "cell_type": "markdown",
   "id": "62debb76",
   "metadata": {},
   "source": [
    "10. **Checking Prime Numbers Using a Loop**  \n",
    "    Write a program that asks the user for a number and checks whether it is prime or not using a loop. "
   ]
  },
  {
   "cell_type": "code",
   "execution_count": 4,
   "id": "b73ea890",
   "metadata": {},
   "outputs": [
    {
     "name": "stdout",
     "output_type": "stream",
     "text": [
      "Prime\n"
     ]
    }
   ],
   "source": [
    "num = int(input(\"Enter a number: \"))\n",
    "\n",
    "is_prime = True\n",
    "for i in range(2, int(num ** 0.05) + 1):\n",
    "    if num % i == 0:\n",
    "        is_prime = False\n",
    "        break\n",
    "print(\"Prime\" if is_prime else \"Not prime\")\n"
   ]
  }
 ],
 "metadata": {
  "kernelspec": {
   "display_name": ".venv",
   "language": "python",
   "name": "python3"
  },
  "language_info": {
   "codemirror_mode": {
    "name": "ipython",
    "version": 3
   },
   "file_extension": ".py",
   "mimetype": "text/x-python",
   "name": "python",
   "nbconvert_exporter": "python",
   "pygments_lexer": "ipython3",
   "version": "3.13.3"
  }
 },
 "nbformat": 4,
 "nbformat_minor": 5
}
