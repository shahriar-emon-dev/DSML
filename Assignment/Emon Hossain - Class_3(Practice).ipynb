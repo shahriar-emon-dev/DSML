{
  "cells": [
    {
      "cell_type": "markdown",
      "metadata": {
        "id": "kLZ_vCeE0lsM"
      },
      "source": [
        "###`Problem 1:` Combine two lists index-wise(columns wise)\n",
        "\n",
        "Write a program to add two lists index-wise. Create a new list that contains the 0th index item from both the list, then the 1st index item, and so on till the last element. any leftover items will get added at the end of the new list.\n",
        "\n",
        "`Given List:`\n",
        "```\n",
        "list1 = [\"M\", \"na\", \"i\", \"Kh\"]\n",
        "list2 = [\"y\", \"me\", \"s\", \"an\"]\n",
        "```\n",
        "\n",
        "`Output:`\n",
        "```\n",
        "[['M','y'], ['na', me'], ['i', 's'], ['Kh', 'an']]\n",
        "```"
      ]
    },
    {
      "cell_type": "code",
      "execution_count": 2,
      "metadata": {
        "id": "cDO3Yv6p0nnG"
      },
      "outputs": [
        {
          "name": "stdout",
          "output_type": "stream",
          "text": [
            "[['M', 'y'], ['na', 'me'], ['I', 's'], ['Kh', 'an']]\n"
          ]
        }
      ],
      "source": [
        "# Write code here\n",
        "list1 =  [\"M\", \"na\", \"I\", \"Kh\"]\n",
        "list2 = [\"y\", \"me\", \"s\", \"an\"]\n",
        "\n",
        "combine_list = [[a, b] for a, b in zip(list1, list2)]\n",
        "print(combine_list)"
      ]
    },
    {
      "cell_type": "markdown",
      "metadata": {
        "id": "bnRwRgf_0qLu"
      },
      "source": [
        "### `Problem 2:` Add new item to list after a specified item\n",
        "Write a program to add item 7000 after 6000 in the following Python List\n",
        "```\n",
        "list1 = [10, 20, [300, 400, [5000, 6000], 500], 30, 40]\n",
        "```\n",
        "`Output:`\n",
        "```\n",
        "[10, 20, [300, 400, [5000, 6000, 7000], 500], 30, 40]\n",
        "```"
      ]
    },
    {
      "cell_type": "code",
      "execution_count": 10,
      "metadata": {
        "id": "yW5lLPns00q9"
      },
      "outputs": [
        {
          "name": "stdout",
          "output_type": "stream",
          "text": [
            "[10, 20, [300, 400, [5000, 6000, 7000], 500], 30, 40]\n",
            "Updated list:  [10, 20, [300, 400, [5000, 6000, 7000], 500], 30, 40]\n"
          ]
        }
      ],
      "source": [
        "# Write code here\n",
        "\n",
        "list = [10, 20, [300, 400, [5000, 6000], 500], 30, 40]\n",
        "\n",
        "\n",
        "list[2][2].insert(2, 7000)\n",
        "print(list)\n",
        "print(\"Updated list: \", list)"
      ]
    },
    {
      "cell_type": "markdown",
      "metadata": {
        "id": "w7fC8oHk02fH"
      },
      "source": [
        "###`Problem 3:` Update no of items available\n",
        "\n",
        "Suppose you are given a list of candy and another list of same size representing no of items of respective candy.\n",
        "\n",
        "i.e -  \n",
        "```\n",
        "candy_list = ['Jelly Belly','Kit Kat','Double Bubble','Milky Way','Three Musketeers']\n",
        "no_of_items = [10,20,34,74,32]\n",
        "```\n",
        "\n",
        "Write a program to show no. of items of each candy type.\n",
        "\n",
        "`Output:`\n",
        "\n",
        "```\n",
        "Jelly Belly-10\n",
        "Kit Kat-20\n",
        "Double Bubble-34\n",
        "Milky Way-74\n",
        "Three Musketeers-32\n",
        "\n",
        "```"
      ]
    },
    {
      "cell_type": "code",
      "execution_count": 13,
      "metadata": {
        "id": "gg5JEX1a09q8"
      },
      "outputs": [
        {
          "name": "stdout",
          "output_type": "stream",
          "text": [
            "['Jelly Belly', 'Kit Kat', 'Double Bubble', 'Milky Way', 'Three Musketeers']\n",
            "Jelly Belly-10\n",
            "Kit Kat-20\n",
            "Double Bubble-30\n",
            "Milky Way-74\n",
            "Three Musketeers-32\n"
          ]
        }
      ],
      "source": [
        "# Write code here\n",
        "\n",
        "candy_list = ['Jelly Belly', 'Kit Kat', 'Double Bubble', 'Milky Way', 'Three Musketeers']\n",
        "no_of_items = [10, 20, 30, 74, 32]\n",
        "\n",
        "print(candy_list)\n",
        "\n",
        "for candy, count in zip(candy_list, no_of_items):\n",
        "    print(f\"{candy}-{count}\")"
      ]
    },
    {
      "cell_type": "markdown",
      "metadata": {
        "id": "mFGZAvnB1D3N"
      },
      "source": [
        "###`Problem 4:` Running Sum on list\n",
        "Write a program to print a list after performing running sum on it.\n",
        "\n",
        "i.e:\n",
        "\n",
        "`Input:`\n",
        "```\n",
        "list1 = [1,2,3,4,5,6]\n",
        "```\n",
        "`Output:`\n",
        "```\n",
        "[1,3,6,10,15,21]\n",
        "```"
      ]
    },
    {
      "cell_type": "code",
      "execution_count": 14,
      "metadata": {
        "id": "8LPS6DaD1FTs"
      },
      "outputs": [
        {
          "name": "stdout",
          "output_type": "stream",
          "text": [
            "[1, 3, 6, 10, 15, 21]\n"
          ]
        }
      ],
      "source": [
        "# Write code here\n",
        "list1 = [1, 2, 3, 4, 5, 6]\n",
        "running_sum = []\n",
        "\n",
        "\n",
        "total = 0\n",
        "for num in list1:\n",
        "    total += num\n",
        "    running_sum.append(total)\n",
        "    \n",
        "print(running_sum)\n"
      ]
    },
    {
      "cell_type": "markdown",
      "metadata": {
        "id": "2ztcZ-EW1HEU"
      },
      "source": [
        "###`Problem 5:` You are given a list of integers. You are asked to make a list by running through elements of the list by adding all elements greater and itself.\n",
        "\n",
        "i.e. Say given list is `[2,4,6,10,1]`\n",
        "resultant list will be `[22,20,10,23]`.\n",
        "\n",
        "For 1st element `2` ->> these are greater `(4+6+10)` values and `2` itself so on adding becomes `22`.\n",
        "\n",
        "For 2nd element `4` ->> greater elements are `(6, 10)` and `4` itself, so on adding `20`\n",
        "\n",
        "like wise for all other elememts.\n",
        "\n",
        "`[2,4,6,10,1]`-->`[22,20,16,10,23]`\n",
        "\n",
        "\n"
      ]
    },
    {
      "cell_type": "code",
      "execution_count": 16,
      "metadata": {
        "id": "UJuWqzj31UD2"
      },
      "outputs": [
        {
          "name": "stdout",
          "output_type": "stream",
          "text": [
            "[22, 20, 16, 10, 23]\n"
          ]
        }
      ],
      "source": [
        "# Write code here\n",
        "\n",
        "list1 = [2, 4, 6, 10, 1]\n",
        "result=[]\n",
        "\n",
        "\n",
        "for i in list1:\n",
        "    total = 0\n",
        "    for j in list1:\n",
        "        if j>= i:\n",
        "            total += j\n",
        "    result.append(total)\n",
        "print(result)\n",
        "    \n",
        "\n"
      ]
    },
    {
      "cell_type": "markdown",
      "metadata": {
        "id": "c9H6tYTx1ZYo"
      },
      "source": [
        "###`Problem 6:` Find list of common unique items from two list. and show in increasing order\n",
        "\n",
        "`Input`\n",
        "\n",
        "```\n",
        "num1 = [23,45,67,78,89,34]\n",
        "num2 = [34,89,55,56,39,67]\n",
        "```\n",
        "\n",
        "`Output:`\n",
        "```\n",
        "[34, 67, 89]\n",
        "```\n"
      ]
    },
    {
      "cell_type": "code",
      "execution_count": 33,
      "metadata": {
        "id": "dDxdi7eE1e1W"
      },
      "outputs": [
        {
          "name": "stdout",
          "output_type": "stream",
          "text": [
            "[34, 67, 89]\n"
          ]
        }
      ],
      "source": [
        "# Write code here\n",
        "\n",
        "num1 = [23, 45, 67, 78, 89, 34]\n",
        "num2 = [34, 89, 55, 56, 39, 67]\n",
        "\n",
        "set1 = set(num1)\n",
        "set2 = set(num2)\n",
        "\n",
        "common_items = set1 & set2\n",
        "\n",
        "res = sorted(common_items)\n",
        "\n",
        "print(res)\n"
      ]
    },
    {
      "cell_type": "markdown",
      "metadata": {
        "id": "McMaNSpB1zJB"
      },
      "source": [
        "\n",
        "**Problem 8:** Split a string from a list into individual words.\n",
        "\n",
        "**Example:**\n",
        "\n",
        "Input:\n",
        "```bash\n",
        "['This is a test', 'for splitting', 'strings into words.']\n",
        "```\n",
        "\n",
        "Output:\n",
        "```bash\n",
        "['This', 'is', 'a', 'test', 'for', 'splitting', 'strings', 'into', 'words.']\n",
        "```"
      ]
    },
    {
      "cell_type": "code",
      "execution_count": 35,
      "metadata": {
        "id": "rLg6AUhf14wI"
      },
      "outputs": [
        {
          "name": "stdout",
          "output_type": "stream",
          "text": [
            "['This', 'is', 'a', 'test', 'for', 'splitting', 'string', 'into', 'words.']\n"
          ]
        }
      ],
      "source": [
        "# Write code here\n",
        "string_list = ['This is a test', 'for splitting', 'string into words.']\n",
        "\n",
        "words = []\n",
        "\n",
        "for sentance in string_list:\n",
        "    words.extend(sentance.split())\n",
        "print(words)"
      ]
    },
    {
      "cell_type": "markdown",
      "metadata": {
        "id": "ebqIC0Xa16dG"
      },
      "source": [
        "\n",
        "### `Problem 9:` Convert a character matrix to a single string using string comprehension.\n",
        "\n",
        "**Example 1:**\n",
        "\n",
        "Input:\n",
        "```bash\n",
        "[['t', 'h', 'i', 's'], ['i', 's'], ['a'], ['t', 'e', 's', 't']]\n",
        "```\n",
        "\n",
        "Output:\n",
        "```bash\n",
        "this is a test\n",
        "```"
      ]
    },
    {
      "cell_type": "code",
      "execution_count": 41,
      "metadata": {
        "id": "KLKxzyZf2BLr"
      },
      "outputs": [
        {
          "name": "stdout",
          "output_type": "stream",
          "text": [
            "[['t', 'h', 'i', 's'], ['i', 's'], ['a'], ['t', 'e', 's', 't']]\n",
            "['this', 'is', 'a', 'test']\n",
            "this is a test\n"
          ]
        }
      ],
      "source": [
        "# Write code here\n",
        "char_matrix = [\n",
        "    ['t', 'h', 'i', 's'], \n",
        "    ['i', 's'], ['a'], \n",
        "    ['t', 'e', 's', 't']\n",
        "]\n",
        "\n",
        "print(char_matrix)\n",
        "\n",
        "words = [''.join(sublist) for sublist in char_matrix ]\n",
        "\n",
        "print(words)\n",
        "\n",
        "sentances = ' '.join(words)\n",
        "print(sentances)\n"
      ]
    },
    {
      "cell_type": "markdown",
      "metadata": {
        "id": "0v1Z3Snp2DAm"
      },
      "source": [
        "Here's the edited version of the problem:\n",
        "\n",
        "---\n",
        "\n",
        "### `Problem 10:` Add spaces between potential words in a string.\n",
        "\n",
        "**Example:**\n",
        "\n",
        "Input:\n",
        "```bash\n",
        "['thisIs', 'aTest', 'forStringSplit']\n",
        "```\n",
        "\n",
        "Output:\n",
        "```bash\n",
        "['this Is', 'a Test', 'for String Split']\n",
        "```"
      ]
    },
    {
      "cell_type": "code",
      "execution_count": 45,
      "metadata": {
        "id": "pltvqSXa2IxP"
      },
      "outputs": [
        {
          "name": "stdout",
          "output_type": "stream",
          "text": [
            "['this Is', 'a Test', 'for String Split']\n"
          ]
        }
      ],
      "source": [
        "# Code here\n",
        "\n",
        "given_list = ['thisIs', 'aTest', 'forStringSplit']\n",
        "\n",
        "res=[]\n",
        "for word in given_list:\n",
        "    new_word = ''\n",
        "    for char in word:\n",
        "        if char.isupper():\n",
        "            new_word += ' '+char\n",
        "        else:\n",
        "            new_word += char\n",
        "    res.append(new_word)\n",
        "\n",
        "print(res)"
      ]
    },
    {
      "cell_type": "markdown",
      "metadata": {
        "id": "Yt8x67Ch3Ow1"
      },
      "source": [
        "### `Problem 11:` Write a program that can find the max number of each row of a matrix\n",
        "\n",
        "**Example:**\n",
        "\n",
        "Input:\n",
        "\n",
        "```bash\n",
        "[[1,2,3],[4,5,6],[7,8,9]]\n",
        "```\n",
        "\n",
        "Output:\n",
        "```bash\n",
        "[3,6,9]\n",
        "```"
      ]
    },
    {
      "cell_type": "code",
      "execution_count": 49,
      "metadata": {
        "id": "7QopAaAI3noh"
      },
      "outputs": [
        {
          "name": "stdout",
          "output_type": "stream",
          "text": [
            "[3, 6, 9]\n"
          ]
        }
      ],
      "source": [
        "# Write code here\n",
        "\n",
        "Input = [[1, 2, 3], \n",
        "         [4, 5, 6], \n",
        "         [7, 8, 9]\n",
        "]\n",
        "\n",
        "max_num =  []\n",
        "\n",
        "for row in Input:\n",
        "    max_num.append(max(row))\n",
        "print(max_num)"
      ]
    },
    {
      "cell_type": "markdown",
      "metadata": {
        "id": "DBZlUmnt3pGT"
      },
      "source": [
        "### `Problem 13:` Write a list comprehension to print the following matrix\n",
        "\n",
        "[[0, 1, 2], [3, 4, 5], [6, 7, 8]]"
      ]
    },
    {
      "cell_type": "code",
      "execution_count": 52,
      "metadata": {
        "id": "Ip4e8M-S356h"
      },
      "outputs": [
        {
          "name": "stdout",
          "output_type": "stream",
          "text": [
            "[[0, 1, 2], [3, 4, 5], [6, 7, 8]]\n"
          ]
        }
      ],
      "source": [
        "# Write code here\n",
        "matrix = [[3 * i + j for j in range(3)] for i in range(3)]\n",
        "print(matrix)\n",
        "\n",
        "\n",
        "\n",
        "\n"
      ]
    },
    {
      "cell_type": "markdown",
      "metadata": {},
      "source": [
        "### Problem 14: Extract Even Numbers from a List\n",
        "\n",
        "**Task:** Given a list of integers, use list comprehension to create a new list containing only the even numbers.\n",
        "\n",
        "**Example:**\n",
        "\n",
        "Input:\n",
        "```bash\n",
        "[1, 2, 3, 4, 5, 6, 7, 8, 9]\n",
        "```\n",
        "\n",
        "Output:\n",
        "```bash\n",
        "[2, 4, 6, 8]\n",
        "```\n"
      ]
    },
    {
      "cell_type": "code",
      "execution_count": 59,
      "metadata": {},
      "outputs": [
        {
          "name": "stdout",
          "output_type": "stream",
          "text": [
            "[2, 4, 6, 8]\n"
          ]
        }
      ],
      "source": [
        "numbers = [1, 2, 3, 4, 5, 6, 7, 8, 9]\n",
        "\n",
        "even_num = [num for num in numbers if num % 2 == 0]\n",
        "\n",
        "print(even_num)"
      ]
    },
    {
      "cell_type": "markdown",
      "metadata": {},
      "source": [
        "### Problem 15: Convert Strings to Uppercase\n",
        "\n",
        "**Task:** Given a list of strings, use list comprehension to convert all strings to uppercase.\n",
        "\n",
        "**Example:**\n",
        "\n",
        "Input:\n",
        "```bash\n",
        "['apple', 'banana', 'cherry']\n",
        "```\n",
        "\n",
        "Output:\n",
        "```bash\n",
        "['APPLE', 'BANANA', 'CHERRY']\n",
        "```\n"
      ]
    },
    {
      "cell_type": "code",
      "execution_count": 60,
      "metadata": {},
      "outputs": [
        {
          "name": "stdout",
          "output_type": "stream",
          "text": [
            "['APPLE', 'BANANA', 'CHERRY']\n"
          ]
        }
      ],
      "source": [
        "fruits = ['apple', 'banana', 'cherry']\n",
        "\n",
        "uppercase_fruits = []\n",
        "\n",
        "for fruit in fruits:\n",
        "    uppercase_fruits.append(fruit.upper())\n",
        "print(uppercase_fruits)"
      ]
    }
  ],
  "metadata": {
    "colab": {
      "provenance": []
    },
    "kernelspec": {
      "display_name": "Python 3",
      "name": "python3"
    },
    "language_info": {
      "codemirror_mode": {
        "name": "ipython",
        "version": 3
      },
      "file_extension": ".py",
      "mimetype": "text/x-python",
      "name": "python",
      "nbconvert_exporter": "python",
      "pygments_lexer": "ipython3",
      "version": "3.13.3"
    }
  },
  "nbformat": 4,
  "nbformat_minor": 0
}
