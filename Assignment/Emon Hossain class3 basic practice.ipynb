{
 "cells": [
  {
   "cell_type": "markdown",
   "id": "26d02458",
   "metadata": {},
   "source": [
    "**Basic List's Problems**\n"
   ]
  },
  {
   "cell_type": "markdown",
   "id": "8476cdf3",
   "metadata": {},
   "source": [
    "**1. Create a list of 5 numbers and print the second element.**"
   ]
  },
  {
   "cell_type": "code",
   "execution_count": 1,
   "id": "8edf6dae",
   "metadata": {},
   "outputs": [
    {
     "name": "stdout",
     "output_type": "stream",
     "text": [
      "Second Element:  20\n"
     ]
    }
   ],
   "source": [
    "num = [10, 20, 30, 40, 50]\n",
    "\n",
    "print(\"Second Element: \", num[1])"
   ]
  },
  {
   "cell_type": "markdown",
   "id": "5681ecdb",
   "metadata": {},
   "source": [
    "****2. Create a list with 3 different fruits and add one more fruit to the list.****"
   ]
  },
  {
   "cell_type": "code",
   "execution_count": 3,
   "id": "c2a12497",
   "metadata": {},
   "outputs": [
    {
     "name": "stdout",
     "output_type": "stream",
     "text": [
      "Updated fruit list is:  ['Apple', 'Banana', 'Wattermelon', 'Orange']\n"
     ]
    }
   ],
   "source": [
    "fruits = ['Apple', 'Banana', 'Wattermelon']\n",
    "fruits.append('Orange')\n",
    "\n",
    "print(\"Updated fruit list is: \",fruits)"
   ]
  },
  {
   "cell_type": "markdown",
   "id": "7531902d",
   "metadata": {},
   "source": [
    "**3. Remove the first item from a list of 4 colors.**"
   ]
  },
  {
   "cell_type": "code",
   "execution_count": 4,
   "id": "85e23975",
   "metadata": {},
   "outputs": [
    {
     "name": "stdout",
     "output_type": "stream",
     "text": [
      "After removing the first color:  ['White', 'Blue', 'Green']\n"
     ]
    }
   ],
   "source": [
    "colors= ['Black', 'White', 'Blue', 'Green']\n",
    "\n",
    "colors.pop(0)\n",
    "\n",
    "print(\"After removing the first color: \", colors)\n"
   ]
  },
  {
   "cell_type": "markdown",
   "id": "c0b64f51",
   "metadata": {},
   "source": [
    "**4. Find the length of a list that contains 7 items.**"
   ]
  },
  {
   "cell_type": "code",
   "execution_count": 5,
   "id": "002b5bbd",
   "metadata": {},
   "outputs": [
    {
     "name": "stdout",
     "output_type": "stream",
     "text": [
      "The length of the list:  7\n"
     ]
    }
   ],
   "source": [
    "item = [1, 2, 3, 4, 5, 6, 7]\n",
    "\n",
    "print(\"The length of the list: \", len(item))"
   ]
  },
  {
   "cell_type": "markdown",
   "id": "fa0de2e4",
   "metadata": {},
   "source": [
    "**5. Access and print the last element of a list containing 6 elements.**"
   ]
  },
  {
   "cell_type": "code",
   "execution_count": 6,
   "id": "c0e9f72e",
   "metadata": {},
   "outputs": [
    {
     "name": "stdout",
     "output_type": "stream",
     "text": [
      "The last element: 6\n"
     ]
    }
   ],
   "source": [
    "elements = [1, 2, 3, 4, 5, 6]\n",
    "\n",
    "print(\"The last element:\", elements[-1])"
   ]
  },
  {
   "cell_type": "markdown",
   "id": "cdafdaeb",
   "metadata": {},
   "source": [
    "**6. Create a list of 5 numbers and find the sum of all the numbers in the list.**"
   ]
  },
  {
   "cell_type": "code",
   "execution_count": 7,
   "id": "38f5bcc2",
   "metadata": {},
   "outputs": [
    {
     "name": "stdout",
     "output_type": "stream",
     "text": [
      "sum of the numbers:  46\n"
     ]
    }
   ],
   "source": [
    "num = [5, 6, 7, 8, 20]\n",
    "\n",
    "print(\"sum of the numbers: \", sum(num))\n"
   ]
  },
  {
   "cell_type": "markdown",
   "id": "10cc7acf",
   "metadata": {},
   "source": [
    "**7. Create a list of 3 names and change the second name to a new name.**"
   ]
  },
  {
   "cell_type": "code",
   "execution_count": 8,
   "id": "4ec01105",
   "metadata": {},
   "outputs": [
    {
     "name": "stdout",
     "output_type": "stream",
     "text": [
      "Updated Name list:  ['shahriar', 'Shourov', 'Sakib']\n"
     ]
    }
   ],
   "source": [
    "name = ['shahriar', 'Emon', 'Sakib']\n",
    "name[1] = \"Shourov\"\n",
    "\n",
    "print(\"Updated Name list: \", name)"
   ]
  },
  {
   "cell_type": "markdown",
   "id": "30641bc1",
   "metadata": {},
   "source": [
    "**8. Check if the number 10 is in a list of numbers from 1 to 5.**"
   ]
  },
  {
   "cell_type": "code",
   "execution_count": 9,
   "id": "e7a45a16",
   "metadata": {},
   "outputs": [
    {
     "name": "stdout",
     "output_type": "stream",
     "text": [
      "Is 10 in the list? False\n"
     ]
    }
   ],
   "source": [
    "numbers = [1, 2, 3, 4, 5]\n",
    "print(\"Is 10 in the list?\", 10 in numbers)"
   ]
  },
  {
   "cell_type": "markdown",
   "id": "a2336bc0",
   "metadata": {},
   "source": [
    "**9. Create a list with 3 animals and print each animal using a loop.**"
   ]
  },
  {
   "cell_type": "code",
   "execution_count": 10,
   "id": "2b6a58e8",
   "metadata": {},
   "outputs": [
    {
     "name": "stdout",
     "output_type": "stream",
     "text": [
      "['cat', 'dog', 'rabit']\n",
      "['cat', 'dog', 'rabit']\n",
      "['cat', 'dog', 'rabit']\n"
     ]
    }
   ],
   "source": [
    "animals = ['cat', 'dog', 'rabit']\n",
    "\n",
    "for animal in animals:\n",
    "    print(animals)"
   ]
  },
  {
   "cell_type": "markdown",
   "id": "8ade5ce4",
   "metadata": {},
   "source": [
    "**10. Create a list of 5 numbers and find the largest number in the list.**"
   ]
  },
  {
   "cell_type": "code",
   "execution_count": 11,
   "id": "0b78ad50",
   "metadata": {},
   "outputs": [
    {
     "name": "stdout",
     "output_type": "stream",
     "text": [
      "Largest number:  5\n"
     ]
    }
   ],
   "source": [
    "num = [1, 2, 3, 4, 5]\n",
    "\n",
    "print(\"Largest number: \", max(numbers))"
   ]
  }
 ],
 "metadata": {
  "kernelspec": {
   "display_name": "Python 3",
   "language": "python",
   "name": "python3"
  },
  "language_info": {
   "codemirror_mode": {
    "name": "ipython",
    "version": 3
   },
   "file_extension": ".py",
   "mimetype": "text/x-python",
   "name": "python",
   "nbconvert_exporter": "python",
   "pygments_lexer": "ipython3",
   "version": "3.13.3"
  }
 },
 "nbformat": 4,
 "nbformat_minor": 5
}
