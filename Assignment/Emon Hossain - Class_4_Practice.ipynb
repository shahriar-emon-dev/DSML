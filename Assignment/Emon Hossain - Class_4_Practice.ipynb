{
  "cells": [
    {
      "cell_type": "markdown",
      "metadata": {
        "id": "limD5IAfl-tz"
      },
      "source": [
        "# **Tuple**\n"
      ]
    },
    {
      "cell_type": "markdown",
      "metadata": {
        "id": "x0psnUiu2ZVp"
      },
      "source": [
        "### `Q1`: Check is tuples are same or not?\n",
        "Two tuples would be same if both tuples have same element at same index\n",
        "```\n",
        "t1 = (1,2,3,0)\n",
        "t2 = (0,1,2,3)\n",
        "\n",
        "t1 and t2 are not same\n",
        "```"
      ]
    },
    {
      "cell_type": "code",
      "execution_count": 12,
      "metadata": {
        "id": "JMVw9EhSrPEc"
      },
      "outputs": [
        {
          "name": "stdout",
          "output_type": "stream",
          "text": [
            "t1 = (1, 2, 3, 0)\n",
            "t2 = (0, 1, 2, 3)\n",
            "Result: t1 and t2 are NOT SAME\n"
          ]
        }
      ],
      "source": [
        "t1 = (1, 2, 3, 0)\n",
        "t2 = (0, 1, 2, 3)\n",
        "\n",
        "print(f\"t1 = {t1}\")\n",
        "print(f\"t2 = {t2}\")\n",
        "\n",
        "result = are_tuples_same_detailed(t1, t2)\n",
        "print(f\"Result: t1 and t2 are {'SAME' if result else 'NOT SAME'}\")"
      ]
    },
    {
      "cell_type": "markdown",
      "metadata": {
        "id": "aZ4rObHK4fCN"
      },
      "source": [
        "### `Q2`: Count no of tuples, list and set from a list\n",
        "```\n",
        "list1 = [{'hi', 'bye'},{'Geeks', 'forGeeks'},('a', 'b'),['hi', 'bye'],['a', 'b']]\n",
        "\n",
        "```\n",
        "`Output:`\n",
        "\n",
        "```\n",
        "List-2\n",
        "Set-2\n",
        "Tuples-1\n",
        "```"
      ]
    },
    {
      "cell_type": "code",
      "execution_count": 13,
      "metadata": {
        "id": "g_Bnuczk69tG"
      },
      "outputs": [
        {
          "name": "stdout",
          "output_type": "stream",
          "text": [
            "List:  2\n",
            "List:  2\n",
            "List:  1\n"
          ]
        }
      ],
      "source": [
        "# write your code here\n",
        "\n",
        "list1 = [{'hi', 'bye'}, {'Geeks', 'forGeeks'}, ('a', 'b'), ['hi', 'bye'], ['a', 'b']]\n",
        "\n",
        "list_count = 0\n",
        "set_count = 0\n",
        "tuple_count = 0\n",
        "\n",
        "\n",
        "for item in list1:\n",
        "    if isinstance(item, list):\n",
        "        list_count +=1\n",
        "    elif isinstance(item, set):\n",
        "        set_count +=1\n",
        "    elif isinstance(item, tuple):\n",
        "        tuple_count +=1\n",
        "    \n",
        "print(\"List: \", list_count)\n",
        "print(\"List: \", set_count)\n",
        "print(\"List: \", tuple_count)\n",
        "\n",
        "\n",
        "    "
      ]
    },
    {
      "cell_type": "markdown",
      "metadata": {
        "id": "jInFNuit8hf1"
      },
      "source": [
        "### `Q3`: Shortlist Students for a Job role\n",
        "Ask user to input students record and store in tuples for each record. Then Ask user to input three things he wants in the candidate- Primary Skill, Higher Education, Year of Graduation.\n",
        "\n",
        "Show every students record in form of tuples if matches all required criteria.\n",
        "\n",
        "It is assumed that there will be only one primry skill.\n",
        "\n",
        "If no such candidate found, print `No such candidate`\n",
        "\n",
        "`Input:`\n",
        "```\n",
        "Enter No of records- 2\n",
        "Enter Details of student-1\n",
        "Enter Student name- Alice\n",
        "Enter Higher Education- B.Tech\n",
        "Enter Primary Skill- Python\n",
        "Enter Year of Graduation- 2022\n",
        "Enter Details of student-2\n",
        "Enter Student name- Ponian\n",
        "Enter Higher Education- B.Sc.\n",
        "Enter Primary Skill- C++\n",
        "Enter Year of Graduation- 2020\n",
        "\n",
        "Enter Job Role Requirement\n",
        "Enter Skill- Python\n",
        "Enter Higher Education- B.Tech\n",
        "Enter Year of Graduation- 2022\n",
        "```\n",
        "\n",
        "`Output`\n",
        "```\n",
        "('Alice', 'B.tech', 'Python', '2022')\n",
        "```\n"
      ]
    },
    {
      "cell_type": "code",
      "execution_count": 7,
      "metadata": {
        "id": "erh9QZaerSHk"
      },
      "outputs": [
        {
          "name": "stdout",
          "output_type": "stream",
          "text": [
            "Enter Details of student-1\n",
            "Enter Details of student-2\n",
            "\n",
            "Enter Job Role Requirement\n",
            "('Alice', 'B.Tech', 'Python', '2022')\n"
          ]
        }
      ],
      "source": [
        "# Get number of student records\n",
        "num = int(input(\"Enter No of records- \"))\n",
        "\n",
        "records = []\n",
        "\n",
        "# Input student details\n",
        "for i in range(1, num + 1):\n",
        "    print(f\"Enter Details of student-{i}\")\n",
        "    name = input(\"Enter Student name- \")\n",
        "    education = input(\"Enter Higher Education- \")\n",
        "    skill = input(\"Enter Primary Skill- \")\n",
        "    year = input(\"Enter Year of Graduation- \")\n",
        "\n",
        "    # Store tuple\n",
        "    records.append((name, education, skill, year))\n",
        "\n",
        "# Input job requirement\n",
        "print(\"\\nEnter Job Role Requirement\")\n",
        "req_skill = input(\"Enter Skill- \")\n",
        "req_edu = input(\"Enter Higher Education- \")\n",
        "req_year = input(\"Enter Year of Graduation- \")\n",
        "\n",
        "# in this loop we will match the records\n",
        "found = False\n",
        "for student in records:\n",
        "    if student[1] == req_edu and student[2] == req_skill and student[3] == req_year:\n",
        "        print(student)\n",
        "        found = True\n",
        "\n",
        "if not found:\n",
        "    print(\"No such candidate\")\n"
      ]
    },
    {
      "cell_type": "markdown",
      "metadata": {
        "id": "l4hLvwD2BeIN"
      },
      "source": [
        "# **Set**"
      ]
    },
    {
      "cell_type": "markdown",
      "metadata": {
        "id": "zCX0Sk2IBfu8"
      },
      "source": [
        "### `Q1:` Write a program to find set of common elements in three lists using sets.\n",
        "```\n",
        "Input : ar1 = [1, 5, 10, 20, 40, 80]\n",
        "        ar2 = [6, 7, 20, 80, 100]\n",
        "        ar3 = [3, 4, 15, 20, 30, 70, 80, 120]\n",
        "\n",
        "Output : [80, 20]\n",
        "```"
      ]
    },
    {
      "cell_type": "code",
      "execution_count": 8,
      "metadata": {
        "id": "rqATYpBUrUQU"
      },
      "outputs": [
        {
          "name": "stdout",
          "output_type": "stream",
          "text": [
            "Common elements: [80, 20]\n"
          ]
        }
      ],
      "source": [
        "# write your code here\n",
        "\n",
        "ar1 = [1, 5, 10, 20, 40, 80]\n",
        "ar2 = [6, 7, 20, 80, 100]\n",
        "ar3 = [3, 4, 15, 20, 30, 70, 80, 120]\n",
        "\n",
        "set1 = set(ar1)\n",
        "set2 = set(ar2)\n",
        "set3 = set(ar3)\n",
        "common_elements = list(set1 & set2 & set3)\n",
        "# common_elements.sort(reverse=True)\n",
        "print(\"Common elements:\", common_elements)\n"
      ]
    },
    {
      "cell_type": "markdown",
      "metadata": {
        "id": "0gOVS-0yCYrK"
      },
      "source": [
        "### `Q2:` Write a program to count unique number of vowels using sets in a given string. Lowercase and upercase vowels will be taken as different.\n",
        "\n",
        "`Input:`\n",
        "```\n",
        "Str1 = \"Artificial Intelligence and Machine Learning are transforming the wOrld\"\n",
        "```\n",
        "`Output:`\n",
        "```\n",
        "No of unique vowels-6\n",
        "```"
      ]
    },
    {
      "cell_type": "code",
      "execution_count": 13,
      "metadata": {
        "id": "0vAlEAOzDihm"
      },
      "outputs": [
        {
          "name": "stdout",
          "output_type": "stream",
          "text": [
            "No of unique vowels- 7\n"
          ]
        }
      ],
      "source": [
        "Str1 = \"Artificial Intelligence and Machine Learning are transforming the wOrld\"\n",
        "\n",
        "vowels = {'a', 'e', 'i', 'o', 'u', 'A', 'E', 'I', 'O', 'U'}\n",
        "\n",
        "found = set()\n",
        "\n",
        "for char in Str1:\n",
        "    if char in vowels:\n",
        "        found.add(char)\n",
        "\n",
        "print(\"No of unique vowels-\", len(found))\n"
      ]
    },
    {
      "cell_type": "markdown",
      "metadata": {
        "id": "fqLZxiarEne5"
      },
      "source": [
        "### `Q3:` Write a program to Check if a given string is binary string of or not.\n",
        "\n",
        "A string is said to be binary if it's consists of only two unique characters.\n",
        "\n",
        "Take string input from user.\n",
        "\n",
        "```\n",
        "Input: str = \"01010101010\"\n",
        "Output: Yes\n",
        "\n",
        "Input: str = \"1222211\"\n",
        "Output: Yes\n",
        "\n",
        "Input: str = \"DataSolution360\"\n",
        "Output: No\n",
        "```"
      ]
    },
    {
      "cell_type": "code",
      "execution_count": 16,
      "metadata": {
        "id": "5M5v8LoYrXkE"
      },
      "outputs": [
        {
          "name": "stdout",
          "output_type": "stream",
          "text": [
            "No\n"
          ]
        }
      ],
      "source": [
        "# write your code \n",
        "user_input = input(\"Enter aa string: \")\n",
        "\n",
        "unique_chars = set(user_input)\n",
        "\n",
        "\n",
        "if len(unique_chars) == 2:\n",
        "    print(\"Yes\")\n",
        "else: \n",
        "    print(\"No\")\n"
      ]
    },
    {
      "cell_type": "markdown",
      "metadata": {
        "id": "T_Re21BdndOz"
      },
      "source": [
        "\n",
        "### `Q4`: Intersection of two sets. Intersection of two sets means we need to take all those elements which are common to both of the initial sets and store them into another set. Use **set operations**.\n",
        "\n",
        "**Example 1:**\n",
        "\n",
        "Input:\n",
        "```bash\n",
        "set1 = {15, 9, 10, 56, 23, 78, 5, 4, 9}\n",
        "set2 = {9, 4, 5, 36, 47, 26, 10, 45, 87}\n",
        "```\n",
        "\n",
        "Output:\n",
        "```bash\n",
        "{9, 10, 4, 5}\n",
        "```\n",
        "\n",
        "**Example 2:**\n",
        "\n",
        "Input:\n",
        "```bash\n",
        "set1 = {4, 9, 1, 17, 11, 26, 28, 54, 69}\n",
        "set2 = {9, 9, 74, 21, 45, 11, 63, 28, 26}\n",
        "```\n",
        "\n",
        "Output:\n",
        "```bash\n",
        "{9, 11, 26, 28}\n",
        "```"
      ]
    },
    {
      "cell_type": "code",
      "execution_count": 18,
      "metadata": {
        "id": "nWnL25ftoLVT"
      },
      "outputs": [
        {
          "name": "stdout",
          "output_type": "stream",
          "text": [
            "Intersection:  {9, 10, 4, 5}\n",
            "Intersection: {9, 26, 11, 28}\n"
          ]
        }
      ],
      "source": [
        "# write your code here\n",
        "\n",
        "set1 = {15, 9, 10, 56, 23, 78, 5, 4, 9}\n",
        "set2 = {9, 4, 5, 36, 47, 26, 10, 45, 87}\n",
        "\n",
        "intersection_result = set1 & set2\n",
        "\n",
        "print(\"Intersection: \", intersection_result)\n",
        "\n",
        "set1 = {4, 9, 1, 17, 11, 26, 28, 54, 69}\n",
        "set2 = {9, 9, 74, 21, 45, 11, 63, 28, 26}\n",
        "\n",
        "\n",
        "intersection_result = set1.intersection(set2)\n",
        "print(\"Intersection:\", intersection_result)\n"
      ]
    },
    {
      "cell_type": "markdown",
      "metadata": {
        "id": "tD2RSYn1a8oA"
      },
      "source": [
        "# **Dictionary**"
      ]
    },
    {
      "cell_type": "markdown",
      "metadata": {
        "id": "7tUjHhcPbQzQ"
      },
      "source": [
        "### `Q1`: Key with maximum unique values\n",
        "\n",
        "Given a dictionary with values as lists, extract the key whose value has the most unique values.\n",
        "\n",
        "**Example 1:**\n",
        "\n",
        "Input:\n",
        "```bash\n",
        "test_dict = {\"Python\" : [5, 7, 9, 4, 0], \"is\" : [6, 7, 4, 3, 3], \"Awesome\" : [9, 9, 6, 5, 5]}\n",
        "```\n",
        "\n",
        "Output:\n",
        "```bash\n",
        "Python\n",
        "```\n",
        "\n",
        "**Example 2:**\n",
        "\n",
        "Input:\n",
        "```bash\n",
        "test_dict = {\"Python\" : [5, 7, 7, 7, 7], \"is\" : [6, 7, 7, 7], \"Awesome\" : [9, 9, 6, 5, 5]}\n",
        "```\n",
        "\n",
        "Output:\n",
        "```bash\n",
        "Awesome\n",
        "```\n",
        "\n",
        "Let me know if you need further adjustments! 😊"
      ]
    },
    {
      "cell_type": "code",
      "execution_count": 20,
      "metadata": {
        "id": "N8KHX863lNxL"
      },
      "outputs": [
        {
          "name": "stdout",
          "output_type": "stream",
          "text": [
            "Awesome\n"
          ]
        }
      ],
      "source": [
        "# write your code here\n",
        "\n",
        "# test_dict = {\n",
        "#     \"Python\": [5, 7, 9, 4, 0],\n",
        "#     \"is\": [6, 7, 4, 3, 3],\n",
        "#     \"Awesome\": [9, 9, 6, 5, 5]\n",
        "# }\n",
        "\n",
        "test_dict = {\"Python\" : [5, 7, 7, 7, 7], \"is\" : [6, 7, 7, 7], \"Awesome\" : [9, 9, 6, 5, 5]}\n",
        "\n",
        "\n",
        "max_key = \"\"\n",
        "max_unique = 0\n",
        "\n",
        "for key, value in test_dict.items():\n",
        "    unique_count = len(set(value))\n",
        "    if unique_count > max_unique:\n",
        "        max_unique = unique_count\n",
        "        max_key = key\n",
        "print(max_key)\n"
      ]
    },
    {
      "cell_type": "markdown",
      "metadata": {
        "id": "_S5X6C84dWdJ"
      },
      "source": [
        "### `Q2`: Replace words from Dictionary. Given a string, replace its words using a lookup dictionary.\n",
        "\n",
        "**Example 1:**\n",
        "\n",
        "Input:\n",
        "```bash\n",
        "test_str = 'Python is great for coding beginners.'\n",
        "repl_dict = {\"great\" : \"amazing\", \"coding\" : \"programming\"}\n",
        "```\n",
        "\n",
        "Output:\n",
        "```bash\n",
        "Python is amazing for programming beginners.\n",
        "```\n",
        "\n",
        "**Example 2:**\n",
        "\n",
        "Input:\n",
        "```bash\n",
        "test_str = 'Python is great for coding beginners.'\n",
        "repl_dict = {\"awesome\" : \"amazing\", \"code\" : \"programming\"}\n",
        "```\n",
        "\n",
        "Output:\n",
        "```bash\n",
        "Python is great for coding beginners.\n",
        "```\n",
        "\n",
        "### Explanation:\n",
        "- If a word in the string exists in the `repl_dict`, replace it with the corresponding value from the dictionary.\n",
        "- If a word does not exist in the dictionary, leave it unchanged.\n"
      ]
    },
    {
      "cell_type": "code",
      "execution_count": 22,
      "metadata": {
        "id": "BTAQ8qnrlOxr"
      },
      "outputs": [
        {
          "name": "stdout",
          "output_type": "stream",
          "text": [
            "Python is amazing for programming beginners.\n"
          ]
        }
      ],
      "source": [
        "# write your code here\n",
        "\n",
        "# test_str = 'Python is great for coding beginners.'\n",
        "# repl_dict = {\"great\": \"amazing\", \"coding\": \"programming\"}\n",
        "\n",
        "test_str = 'Python is great for coding beginners.'\n",
        "repl_dict = {\"great\" : \"amazing\", \"coding\" : \"programming\"}\n",
        "\n",
        "\n",
        "words = test_str.split()\n",
        "\n",
        "updated_words = [repl_dict.get(word, word) for word in words]\n",
        "\n",
        "result = ' '.join(updated_words)\n",
        "print(result)"
      ]
    },
    {
      "cell_type": "markdown",
      "metadata": {
        "id": "55xgap3zfbcR"
      },
      "source": [
        "### `Q3`: Convert List to List of Dictionaries. Given a list of values and a list of keys, convert these values into key-value pairs in the form of a list of dictionaries.\n",
        "\n",
        "**Example 1:**\n",
        "\n",
        "Input:\n",
        "```bash\n",
        "test_list = [\"DataScience\", 3, \"Datasolution\", 8]\n",
        "key_list = [\"name\", \"id\"]\n",
        "```\n",
        "\n",
        "Output:\n",
        "```bash\n",
        "[{'name': 'DataScience', 'id': 3}, {'name': 'Datasolution', 'id': 8}]\n",
        "```\n",
        "\n",
        "**Example 2:**\n",
        "\n",
        "Input:\n",
        "```bash\n",
        "test_list = [\"Python\", 10]\n",
        "key_list = [\"name\", \"id\"]\n",
        "```\n",
        "\n",
        "Output:\n",
        "```bash\n",
        "[{'name': 'Python', 'id': 10}]\n",
        "```"
      ]
    },
    {
      "cell_type": "code",
      "execution_count": 2,
      "metadata": {
        "id": "jbCajI87lQFr"
      },
      "outputs": [
        {
          "name": "stdout",
          "output_type": "stream",
          "text": [
            "[{'name': 'DataScience', 'id': 3}, {'name': 'Datasolution', 'id': 8}]\n"
          ]
        }
      ],
      "source": [
        "# write your code here\n",
        "\n",
        "test_list = [\"DataScience\", 3, \"Datasolution\", 8]\n",
        "key_list = [\"name\", \"id\"]\n",
        "\n",
        "\n",
        "result = []\n",
        "\n",
        "\n",
        "step = len (key_list)\n",
        "for i in range(0, len(test_list), step):\n",
        "    if i + step <= len(test_list):\n",
        "        result.append(dict(zip(key_list, test_list[i:i + step])))\n",
        "print(result)       \n",
        "\n"
      ]
    },
    {
      "cell_type": "markdown",
      "metadata": {
        "id": "5RxBlLQahLkB"
      },
      "source": [
        "### `Q4`: Convert a list of Tuples into Dictionary.\n",
        "\n",
        "**Example 1:**\n",
        "\n",
        "Input:\n",
        "```bash\n",
        "[(\"Rahim\", 10), (\"Karim\", 12), (\"Sadia\", 14), (\"Tania\", 20), (\"Fahim\", 25), (\"Nadia\", 30)]\n",
        "```\n",
        "\n",
        "Output:\n",
        "```bash\n",
        "{'Rahim': [10], 'Karim': [12], 'Sadia': [14], 'Tania': [20], 'Fahim': [25], 'Nadia': [30]}\n",
        "```\n",
        "\n",
        "**Example 2:**\n",
        "\n",
        "Input:\n",
        "```bash\n",
        "[('Ayan', 1), ('Bina', 2), ('Celia', 3)]\n",
        "```\n",
        "\n",
        "Output:\n",
        "```bash\n",
        "{'Ayan': [1], 'Bina': [2], 'Celia': [3]}\n",
        "```"
      ]
    },
    {
      "cell_type": "code",
      "execution_count": 4,
      "metadata": {
        "id": "f1yz7inMlQ5N"
      },
      "outputs": [
        {
          "name": "stdout",
          "output_type": "stream",
          "text": [
            "{'Rahim': [10], 'Karim': [12], 'Sadia': [14], 'Tania': [20], 'Fahim': [25], 'Nadia': [30]}\n"
          ]
        }
      ],
      "source": [
        "# write your code here\n",
        "\n",
        "tuple_list = [(\"Rahim\", 10), (\"Karim\", 12), (\"Sadia\", 14), (\"Tania\", 20), (\"Fahim\", 25), (\"Nadia\", 30)]\n",
        "\n",
        "result = {}\n",
        "\n",
        "for key, value in tuple_list:\n",
        "    result[key] = [value]\n",
        "print(result)"
      ]
    },
    {
      "cell_type": "markdown",
      "metadata": {
        "id": "Fz8EzJD-kBkS"
      },
      "source": [
        "### `Q5`: Sort Dictionary key and values List.\n",
        "\n",
        "**Example 1:**\n",
        "\n",
        "Input:\n",
        "\n",
        "```bash\n",
        "{'c': [3], 'b': [12, 10], 'a': [19, 4]}\n",
        "```\n",
        "\n",
        "Output:\n",
        "\n",
        "```bash\n",
        "{'a': [4, 19], 'b': [10, 12], 'c': [3]}\n",
        "```\n",
        "\n",
        "**Example 2:**\n",
        "\n",
        "Input:\n",
        "\n",
        "```bash\n",
        "{'c': [10, 34, 3]}\n",
        "```\n",
        "\n",
        "Output:\n",
        "\n",
        "```bash\n",
        "{'c': [3, 10, 34]}\n",
        "```"
      ]
    },
    {
      "cell_type": "code",
      "execution_count": 6,
      "metadata": {
        "id": "x9UmJ4EQk7Pp"
      },
      "outputs": [
        {
          "name": "stdout",
          "output_type": "stream",
          "text": [
            "{'a': [4, 19], 'b': [10, 12], 'c': [3]}\n"
          ]
        }
      ],
      "source": [
        "# write your code here\n",
        "\n",
        "test_dict = {'c': [3], 'b':[12, 10], 'a': [19, 4]}\n",
        "\n",
        "sorted_dict = {key: sorted(value) for key, value in sorted(test_dict.items())}\n",
        "\n",
        "print(sorted_dict)"
      ]
    }
  ],
  "metadata": {
    "colab": {
      "provenance": []
    },
    "kernelspec": {
      "display_name": "Python 3",
      "name": "python3"
    },
    "language_info": {
      "codemirror_mode": {
        "name": "ipython",
        "version": 3
      },
      "file_extension": ".py",
      "mimetype": "text/x-python",
      "name": "python",
      "nbconvert_exporter": "python",
      "pygments_lexer": "ipython3",
      "version": "3.13.3"
    }
  },
  "nbformat": 4,
  "nbformat_minor": 0
}
