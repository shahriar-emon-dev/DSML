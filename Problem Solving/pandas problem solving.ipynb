{
 "cells": [
  {
   "cell_type": "markdown",
   "id": "4df16b64",
   "metadata": {},
   "source": [
    "# 🧾 Highest Cost Orders Analysis\n",
    "\n",
    "## 📌 Task Objective\n",
    "Identify the customers with the **highest daily total order cost** between  \n",
    "📅 **2019-02-01** and **2019-05-01**.\n",
    "\n",
    "If a customer placed **multiple orders on the same day**, their total order costs should be **summed** for that date.\n",
    "\n",
    "---\n",
    "\n",
    "## 🎯 Output Requirements\n",
    "\n",
    "For each relevant order:\n",
    "- Customer's **First Name**\n",
    "- **Total Cost** of their items (summed per day)\n",
    "- **Order Date**\n",
    "\n",
    "> ℹ️ Note: All `first_name` values in the dataset are **unique**.\n",
    "\n",
    "---\n",
    "\n",
    "## 📂 Input DataFrames\n",
    "\n",
    "### 🧑‍🤝‍🧑 `customers`\n",
    "| Column         | Type     |\n",
    "|----------------|----------|\n",
    "| id             | int64    |\n",
    "| first_name     | object   |\n",
    "| last_name      | object   |\n",
    "| city           | object   |\n",
    "| address        | object   |\n",
    "| phone_number   | object   |\n",
    "\n",
    "---\n",
    "\n",
    "### 📦 `orders`\n",
    "| Column           | Type           |\n",
    "|------------------|----------------|\n",
    "| id               | int64          |\n",
    "| cust_id          | int64          |\n",
    "| order_date       | datetime64[ns] |\n",
    "| order_details    | object         |\n",
    "| total_order_cost | int64          |\n",
    "\n",
    "---\n",
    "\n",
    "## ✅ Expected Output Format\n",
    "\n",
    "A DataFrame sorted by `total_order_cost` in **descending** order, containing:\n",
    "\n",
    "| first_name | total_order_cost | order_date |\n",
    "|------------|------------------|------------|\n",
    "| Mia        | 200              | 2019-04-20 |\n",
    "| Mark       | 275              | 2019-04-19 |\n",
    "| Jill       | 150              | 2019-04-19 |\n",
    "| ...        | ...              | ...        |\n",
    "\n",
    "---\n",
    "\n",
    "## 🧠 Analysis Steps\n",
    "\n",
    "1. 📅 **Filter** orders between `2019-02-01` and `2019-05-01`.\n",
    "2. ➕ **Group by** `cust_id` and `order_date`, summing `total_order_cost`.\n",
    "3. 🔗 **Join** with the `customers` DataFrame to get customer names.\n",
    "4. 📄 **Select** relevant columns: `first_name`, `total_order_cost`, and `order_date`.\n",
    "5. 🔽 **Sort** by `total_order_cost` in descending order.\n",
    "\n",
    "\n",
    "**Reference:https://platform.stratascratch.com/coding/9915-highest-cost-orders?code_type=2** \n"
   ]
  },
  {
   "cell_type": "code",
   "execution_count": null,
   "id": "77873911",
   "metadata": {
    "vscode": {
     "languageId": "plaintext"
    }
   },
   "outputs": [],
   "source": []
  }
 ],
 "metadata": {
  "language_info": {
   "name": "python"
  }
 },
 "nbformat": 4,
 "nbformat_minor": 5
}
